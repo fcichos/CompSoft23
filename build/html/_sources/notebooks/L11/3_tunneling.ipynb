{
 "cells": [
  {
   "cell_type": "markdown",
   "metadata": {
    "slideshow": {
     "slide_type": "slide"
    }
   },
   "source": [
    "# Tunneling through a barrier"
   ]
  },
  {
   "cell_type": "markdown",
   "metadata": {
    "slideshow": {
     "slide_type": "fragment"
    }
   },
   "source": [
    "We will develop two different solutions of the same problem. Solution 1 is with the Crank Nicolson scheme and solution 2 with the Split Step method, which might be a bit more tricky."
   ]
  },
  {
   "cell_type": "code",
   "execution_count": 33,
   "metadata": {
    "slideshow": {
     "slide_type": "skip"
    },
    "tags": []
   },
   "outputs": [],
   "source": [
    "import numpy as np\n",
    "import matplotlib.pyplot as plt\n",
    "from scipy.constants import *\n",
    "from scipy.sparse import diags\n",
    "from scipy.fftpack import fft,ifft\n",
    "from scipy import sparse as sparse\n",
    "from scipy.sparse import linalg as ln\n",
    "from time import sleep,time\n",
    "\n",
    "from ipycanvas import MultiCanvas, hold_canvas,Canvas\n",
    "\n",
    "\n",
    "%matplotlib inline\n",
    "%config InlineBackend.figure_format = 'retina'\n",
    "\n",
    "# default values for plotting\n",
    "plt.rcParams.update({'font.size': 16,\n",
    "                     'axes.titlesize': 18,\n",
    "                     'axes.labelsize': 16,\n",
    "                     'axes.labelpad': 14,\n",
    "                     'lines.linewidth': 1,\n",
    "                     'lines.markersize': 10,\n",
    "                     'xtick.labelsize' : 16,\n",
    "                     'ytick.labelsize' : 16,\n",
    "                     'xtick.top' : True,\n",
    "                     'xtick.direction' : 'in',\n",
    "                     'ytick.right' : True,\n",
    "                     'ytick.direction' : 'in',}) "
   ]
  },
  {
   "cell_type": "markdown",
   "metadata": {
    "slideshow": {
     "slide_type": "subslide"
    }
   },
   "source": [
    "## Schrödinger equation for the momentum"
   ]
  },
  {
   "cell_type": "markdown",
   "metadata": {
    "slideshow": {
     "slide_type": "fragment"
    }
   },
   "source": [
    "This time we want to solve the Schrödinger equation for some special situation i.e. a wave packet that travels towards a barrier.\n",
    "We have written the Schrödinger equation before, but shortly need that again\n",
    "\n",
    "\\begin{equation}\n",
    "i\\hbar\\frac{\\partial \\Psi(x,t)}{\\partial t} = \\left ( \\frac{-\\hbar^2 }{2m}\\frac{\\partial^2}{\\partial x^2}+V(x,t) \\right ) \\Psi(x,t)\n",
    "\\end{equation}\n",
    "\n",
    "While this is the Schrödinger equation in position space, we may also obtain a Schrödinger equation for the momentum (k-) space. To do so, we take the fourier transform of the wavefunction \n",
    "\n",
    "\\begin{equation}\n",
    "\\tilde{\\Psi}(k,t)=\\frac{1}{\\sqrt{2\\pi}}\\int_{-\\infty}^{\\infty} \\Psi(x,t)e^{-ikx} dx\n",
    "\\end{equation}\n",
    "\n",
    "which yields the wavefunction in momentum space. "
   ]
  },
  {
   "cell_type": "markdown",
   "metadata": {
    "slideshow": {
     "slide_type": "subslide"
    }
   },
   "source": [
    "We can also do that backwards to express the relation between the position space and the momentum space wavefunction.\n",
    "\n",
    "\\begin{equation}\n",
    "\\Psi(x,t)=\\frac{1}{\\sqrt{2\\pi}} \\int_{-\\infty}^{\\infty}\\tilde{\\Psi}(k,t)e^{ikx}dk\n",
    "\\end{equation}\n",
    "\n",
    "If we insert the latter equation into the Schrödinger equation we onbtain \n",
    "\n",
    "\\begin{equation}\n",
    "i\\hbar \\frac{\\partial \\tilde{\\Psi}}{\\partial t}=\\frac{\\hbar^{2}k^{2}}{2m}\\tilde{\\Psi}+V\\left (i\\frac{\\partial }{\\partial k}\\right ) \\tilde{\\Psi}\n",
    "\\end{equation}\n",
    "\n",
    "which is exactly this Schrödinger equation in momentum space.\n",
    "\n"
   ]
  },
  {
   "cell_type": "markdown",
   "metadata": {
    "slideshow": {
     "slide_type": "subslide"
    }
   },
   "source": [
    "## Crank Nicolson Solution"
   ]
  },
  {
   "cell_type": "markdown",
   "metadata": {
    "slideshow": {
     "slide_type": "fragment"
    }
   },
   "source": [
    "We will pursue two different numerical solutions. The first solution, will be equivalent to the solution of the diffusion equation we did in Lecture 7. Here we need to write our Hamilton operator as a matrix with the second derivative and the potential. Lets assume you know how to create this matrix also from the last lecture. \n",
    "\n",
    "Then we just need to get the time dependence, which we obtain from finite differences as\n",
    "\n",
    "$$\n",
    "\\frac{\\Psi(x,t+dt)-\\Psi(x,t)}{dt}\\approx -\\frac{i}{\\hbar} H\\Psi(x,t)\n",
    "$$\n",
    "\n",
    "in the forward direction and and similarly\n",
    "\n",
    "$$\n",
    "\\frac{\\Psi(x,t+dt)-\\Psi(x,t)}{dt}\\approx -\\frac{i}{\\hbar}  H\\Psi(x,t+dt)\n",
    "$$\n",
    "\n",
    "in the backward direcction.\n",
    "\n"
   ]
  },
  {
   "cell_type": "markdown",
   "metadata": {
    "slideshow": {
     "slide_type": "subslide"
    }
   },
   "source": [
    "Therefore \n",
    "\n",
    "$$\n",
    "\\frac{\\Psi(x,t+dt)-\\Psi(x,t)}{dt}\\approx \\frac{1}{2i\\hbar } H\\Psi(x,t)+\\frac{1}{2i\\hbar} H\\Psi(x,t+dt)\n",
    "$$\n",
    "\n",
    "or\n",
    "\n",
    "$$\n",
    "\\left(1-\\frac{dt}{2i\\hbar} H\\right)\\Psi(x,t+dt)=\\left(1+\\frac{dt}{2i\\hbar} H\\right)\\Psi(x,t)\n",
    "$$\n",
    "\n",
    "and finally\n",
    "\n",
    "$$\n",
    "\\Psi(x,t+dt)=\\left(1-\\frac{dt}{2i\\hbar} H\\right)^{-1}\\left(1+\\frac{dt}{2i\\hbar} H\\right)\\Psi(x,t)\n",
    "$$\n",
    "\n",
    "Once we have calculated the Matrix of the hamiltonian and have provided an initial wavepacket, we can immediately propagate the initial wavepacket to later times. This seems easy with what we learned earlier."
   ]
  },
  {
   "cell_type": "markdown",
   "metadata": {
    "slideshow": {
     "slide_type": "subslide"
    }
   },
   "source": [
    "### Setup Domain"
   ]
  },
  {
   "cell_type": "markdown",
   "metadata": {
    "slideshow": {
     "slide_type": "fragment"
    }
   },
   "source": [
    "As usual we need to define a spatial domain and a timstep for the solution."
   ]
  },
  {
   "cell_type": "code",
   "execution_count": 34,
   "metadata": {
    "slideshow": {
     "slide_type": "fragment"
    }
   },
   "outputs": [],
   "source": [
    "N=500\n",
    "x, dx = np.linspace(-100, 100, N, retstep=True)\n",
    "\n",
    "dt=0.5"
   ]
  },
  {
   "cell_type": "markdown",
   "metadata": {
    "slideshow": {
     "slide_type": "subslide"
    }
   },
   "source": [
    "### Initial Conditions"
   ]
  },
  {
   "cell_type": "markdown",
   "metadata": {
    "slideshow": {
     "slide_type": "fragment"
    }
   },
   "source": [
    "Next we define the initial gaussian wavepacket with a certain momentum given by the wavenumber $k_{0}$."
   ]
  },
  {
   "cell_type": "code",
   "execution_count": 35,
   "metadata": {
    "slideshow": {
     "slide_type": "fragment"
    }
   },
   "outputs": [],
   "source": [
    "def gauss_x(x, sigma, x0, k0):\n",
    "    return (np.exp(-0.5 * ((x - x0)/ sigma) ** 2 + 1j * x * k0)/(sigma * np.sqrt(np.pi)))"
   ]
  },
  {
   "cell_type": "code",
   "execution_count": 36,
   "metadata": {
    "slideshow": {
     "slide_type": "fragment"
    }
   },
   "outputs": [],
   "source": [
    "k0=1.3\n",
    "x0=-50\n",
    "sigma0=5\n",
    "psi= gauss_x(x, sigma0, x0, k0)\n",
    "prob=np.abs(psi)**2\n",
    "#dx=x[1]-x[0]\n",
    "psi=psi/np.sqrt(np.sum(prob)*dx)"
   ]
  },
  {
   "cell_type": "markdown",
   "metadata": {
    "slideshow": {
     "slide_type": "subslide"
    }
   },
   "source": [
    "### Matrix Setup"
   ]
  },
  {
   "cell_type": "markdown",
   "metadata": {
    "slideshow": {
     "slide_type": "fragment"
    }
   },
   "source": [
    "At first we define the potential energy landscape."
   ]
  },
  {
   "cell_type": "code",
   "execution_count": 37,
   "metadata": {
    "slideshow": {
     "slide_type": "fragment"
    }
   },
   "outputs": [],
   "source": [
    "barrier_width=5\n",
    "barrier_height=1.\n",
    "potential = np.array([barrier_height if 0.0 < x < barrier_width else 0.0 for x in x])"
   ]
  },
  {
   "cell_type": "markdown",
   "metadata": {
    "slideshow": {
     "slide_type": "subslide"
    }
   },
   "source": [
    "Then the Hamitonion made of the second derivative and the potential energy landscape."
   ]
  },
  {
   "cell_type": "code",
   "execution_count": 38,
   "metadata": {
    "slideshow": {
     "slide_type": "fragment"
    }
   },
   "outputs": [],
   "source": [
    "h_diag = np.ones(N) / dx**2 + potential\n",
    "h_non_diag = np.ones(N - 1) * (-0.5 / dx**2)\n",
    "hamiltonian = sparse.diags([h_diag, h_non_diag, h_non_diag], [0, 1, -1])"
   ]
  },
  {
   "cell_type": "markdown",
   "metadata": {
    "slideshow": {
     "slide_type": "subslide"
    }
   },
   "source": [
    "### Propagation Matrix"
   ]
  },
  {
   "cell_type": "markdown",
   "metadata": {
    "slideshow": {
     "slide_type": "fragment"
    }
   },
   "source": [
    "With the help of the hamiltonian we now define the matrices we have to multiply to the current wavefunction to obtain the wavefunction at the next timestep. "
   ]
  },
  {
   "cell_type": "code",
   "execution_count": 39,
   "metadata": {
    "slideshow": {
     "slide_type": "fragment"
    }
   },
   "outputs": [],
   "source": [
    "implicit = (sparse.eye(N) - dt / 2.0j * hamiltonian).tocsc()\n",
    "explicit = (sparse.eye(N) + dt / 2.0j * hamiltonian).tocsc() \n",
    "evolution_matrix = ln.inv(implicit).dot(explicit).tocsr()"
   ]
  },
  {
   "cell_type": "markdown",
   "metadata": {
    "slideshow": {
     "slide_type": "subslide"
    }
   },
   "source": [
    "### Animation setup"
   ]
  },
  {
   "cell_type": "markdown",
   "metadata": {
    "slideshow": {
     "slide_type": "fragment"
    }
   },
   "source": [
    "With that, we are ready to show the simulation result in an animation"
   ]
  },
  {
   "cell_type": "code",
   "execution_count": 40,
   "metadata": {
    "slideshow": {
     "slide_type": "subslide"
    }
   },
   "outputs": [],
   "source": [
    "prob = abs(psi)**2\n",
    "fig, ax = plt.subplots(1,1,figsize=(10,4))\n",
    "plt.xlim(-100,100)\n",
    "plt.ylim(0,2)\n",
    "plt.xlabel('x-position')\n",
    "plt.ylabel(r'$|\\Psi(x,t)|^2$')\n",
    "plt.tight_layout()  \n",
    "plt.plot(x,potential,'k')\n",
    "#ax.plot(x,20*prob,'g')\n",
    "plt.draw()\n",
    "\n",
    "background = fig.canvas.copy_from_bbox(ax.bbox)\n",
    "points=ax.plot(x,20*prob,'g')[0]\n",
    "\n",
    "plt.close() "
   ]
  },
  {
   "cell_type": "markdown",
   "metadata": {
    "slideshow": {
     "slide_type": "subslide"
    }
   },
   "source": [
    "### Animation"
   ]
  },
  {
   "cell_type": "code",
   "execution_count": 41,
   "metadata": {
    "slideshow": {
     "slide_type": "fragment"
    }
   },
   "outputs": [
    {
     "data": {
      "application/vnd.jupyter.widget-view+json": {
       "model_id": "0b36b595b3e646178d7f52556cea4971",
       "version_major": 2,
       "version_minor": 0
      },
      "text/plain": [
       "Canvas(height=300, width=800)"
      ]
     },
     "metadata": {},
     "output_type": "display_data"
    }
   ],
   "source": [
    "canvas = Canvas(width=800, height=300,sync_image_data=False)\n",
    "display(canvas)"
   ]
  },
  {
   "cell_type": "markdown",
   "metadata": {
    "slideshow": {
     "slide_type": "subslide"
    }
   },
   "source": [
    "For the animation, we just loop over 1000 steps, where we just calculate the product of the evolution matrix and the wavefunction. \n",
    "In each step, we also take care of normalizing the wavefunction again."
   ]
  },
  {
   "cell_type": "code",
   "execution_count": 42,
   "metadata": {
    "slideshow": {
     "slide_type": "fragment"
    }
   },
   "outputs": [],
   "source": [
    "for i in range(100):\n",
    "    psi = evolution_matrix.dot(psi)\n",
    "    prob = np.abs(psi)**2\n",
    "\n",
    "    norm = np.sum(prob)*dx\n",
    "    prob /= norm\n",
    "    psi /= norm**0.5\n",
    "    fig.canvas.restore_region(background)\n",
    "    ax.draw_artist(points)\n",
    "    points.set_data(x,10*prob)\n",
    "\n",
    "    fig.canvas.blit(ax.bbox)\n",
    "    X = np.array(fig.canvas.renderer.buffer_rgba())\n",
    "\n",
    "    with hold_canvas(canvas): \n",
    "        canvas.clear()\n",
    "        canvas.put_image_data(X)\n",
    "        sleep(0.02)"
   ]
  },
  {
   "cell_type": "code",
   "execution_count": 271,
   "metadata": {
    "slideshow": {
     "slide_type": "skip"
    }
   },
   "outputs": [],
   "source": [
    "#<img src=\"cranck_nicolson_animation.mov\" width=\"600\">"
   ]
  },
  {
   "cell_type": "code",
   "execution_count": 43,
   "metadata": {
    "slideshow": {
     "slide_type": "subslide"
    }
   },
   "outputs": [],
   "source": [
    "#![Figure](cranck_nicolson_animation.mov)"
   ]
  },
  {
   "cell_type": "markdown",
   "metadata": {
    "slideshow": {
     "slide_type": "subslide"
    }
   },
   "source": [
    "## Split Step Method"
   ]
  },
  {
   "cell_type": "markdown",
   "metadata": {
    "slideshow": {
     "slide_type": "fragment"
    }
   },
   "source": [
    "If we look at bit closer at the two Schrödinger equations in real and momentum space above, we recognize that there is some symmetry in the two Schrödinger equations, which we can use to calculate the time-dependence of the wave function. This type of method is called the split step method."
   ]
  },
  {
   "cell_type": "markdown",
   "metadata": {
    "slideshow": {
     "slide_type": "subslide"
    }
   },
   "source": [
    "We may substitute in the right side of the position Schrödinger equation \n",
    "\n",
    "\\begin{equation}\n",
    "\\hat{D}=\\frac{-\\hbar^2 }{2m}\\frac{\\partial^2}{\\partial x^2}\n",
    "\\end{equation}\n",
    "\n",
    "and \n",
    "\n",
    "\\begin{equation}\n",
    "\\hat{N}=V(x,t) \n",
    "\\end{equation}\n",
    "\n",
    "such that \n",
    "\n",
    "$$\n",
    "i\\hbar\\frac{\\partial \\Psi(x,t)}{\\partial t} = [\\hat{D}+\\hat{N}]\\, \\Psi\n",
    "$$\n",
    "\n",
    "with the solution \n",
    "\n",
    "$$\n",
    "\\Psi(x,t)=e^{-i(\\hat{D}+\\hat{N})t/\\hbar}\\, \\Psi(x,0)\n",
    "$$\n"
   ]
  },
  {
   "cell_type": "markdown",
   "metadata": {
    "slideshow": {
     "slide_type": "subslide"
    }
   },
   "source": [
    "If we only make a small timestep $dt$, we can write the latter equation also as\n",
    "\n",
    "$$\n",
    "\\Psi(x,t+dt)=e^{-i\\hat{D}dt/\\hbar}e^{-i\\hat{N}dt/\\hbar} \\Psi(x,t)\n",
    "$$\n",
    "\n",
    "\n",
    "We may now turn to momentum space by taking the Fourier transform $F$\n",
    "\n",
    "$$\n",
    "\\tilde{\\Psi}(k,t+dt)=F\\left [e^{-i\\hat{D}dt/\\hbar}e^{-i\\hat{N}dt/\\hbar}\\,\\Psi(k,t) \\right ]\n",
    "$$\n",
    "\n",
    "What we know now from the momentum Schrödinger equation is that the operator $\\hat{D}$ will just turn into a multiplication with $\\hbar k^2/2m$ in momentum space and therefore \n",
    "\n",
    "$$\n",
    "\\tilde{\\Psi}(k,t+dt)=e^{i\\frac{\\hbar k^2}{2m}dt}F\\left [e^{-i\\hat{N}dt/\\hbar}\\, \\Psi(k,t)\\right]\n",
    "$$\n",
    "\n",
    "Thus if we just do the inverse Fourier transform of that, we obtain\n",
    "\n",
    "$$\n",
    "\\Psi(x,t+dt)=F^{-1}\\left [ e^{i\\frac{\\hbar k^2}{2m}dt} F\\left [e^{-i\\hat{N}dt/\\hbar}\\,\\Psi(x,t) \\right ]  \\right]\n",
    "$$\n",
    "\n",
    "\n",
    "This is the receipe for the solution of the time dependent Schrödinger equation. We will do this simulation with the help of the FFT we considered already earlier."
   ]
  },
  {
   "cell_type": "markdown",
   "metadata": {
    "slideshow": {
     "slide_type": "subslide"
    }
   },
   "source": [
    "### Setup Domain"
   ]
  },
  {
   "cell_type": "markdown",
   "metadata": {
    "slideshow": {
     "slide_type": "fragment"
    }
   },
   "source": [
    "We first need to setup our domain together with the time resolution. "
   ]
  },
  {
   "cell_type": "code",
   "execution_count": 44,
   "metadata": {
    "slideshow": {
     "slide_type": "fragment"
    }
   },
   "outputs": [],
   "source": [
    "#some constants\n",
    "hbar=1\n",
    "m=1"
   ]
  },
  {
   "cell_type": "code",
   "execution_count": 45,
   "metadata": {
    "slideshow": {
     "slide_type": "fragment"
    }
   },
   "outputs": [],
   "source": [
    "## spatial domain\n",
    "N = 2 ** 11\n",
    "dx = 0.1\n",
    "x = dx * (np.arange(N) - 0.5 * N)"
   ]
  },
  {
   "cell_type": "code",
   "execution_count": 46,
   "metadata": {
    "slideshow": {
     "slide_type": "fragment"
    }
   },
   "outputs": [],
   "source": [
    "## timestep of our simulation\n",
    "dt = 0.005 "
   ]
  },
  {
   "cell_type": "markdown",
   "metadata": {
    "slideshow": {
     "slide_type": "subslide"
    }
   },
   "source": [
    "### Potential energy landscape"
   ]
  },
  {
   "cell_type": "markdown",
   "metadata": {
    "slideshow": {
     "slide_type": "fragment"
    }
   },
   "source": [
    "We want to study the tunneling of a wavepacket through a barrier, so we need to define a potential energy landscape, which contains two extremely high barriers at the left and the right side and in the middle a smaller barrier through which we can tunnel."
   ]
  },
  {
   "cell_type": "code",
   "execution_count": 47,
   "metadata": {
    "slideshow": {
     "slide_type": "fragment"
    }
   },
   "outputs": [],
   "source": [
    "## potential barrier height\n",
    "V0 = 1\n",
    "\n",
    "## potential barrier width\n",
    "a=5\n",
    "\n",
    "# potential barrier \n",
    "V_x = np.array([V0 if 0.0 < x < a else 0.0 for x in x])\n",
    "V_x[np.abs(x) > 98] = 1e6"
   ]
  },
  {
   "cell_type": "code",
   "execution_count": 48,
   "metadata": {
    "slideshow": {
     "slide_type": "subslide"
    }
   },
   "outputs": [
    {
     "data": {
      "image/png": "[encoded data removed]",
      "text/plain": [
       "<Figure size 720x288 with 1 Axes>"
      ]
     },
     "metadata": {
      "image/png": {
       "height": 268,
       "width": 697
      },
      "needs_background": "light"
     },
     "output_type": "display_data"
    }
   ],
   "source": [
    "plt.figure(figsize=(10,4))\n",
    "plt.plot(x,V_x,'k')\n",
    "plt.ylim(0,2)\n",
    "plt.xlabel('x-position')\n",
    "plt.ylabel('$V(x)$')\n",
    "plt.tight_layout()\n",
    "plt.show()"
   ]
  },
  {
   "cell_type": "markdown",
   "metadata": {
    "slideshow": {
     "slide_type": "subslide"
    }
   },
   "source": [
    "###  Initial wavepacket"
   ]
  },
  {
   "cell_type": "markdown",
   "metadata": {
    "slideshow": {
     "slide_type": "fragment"
    }
   },
   "source": [
    "Our initial wavepacket will be a Gaussian wavepacket, which is centered at $x_0=-50$."
   ]
  },
  {
   "cell_type": "code",
   "execution_count": 49,
   "metadata": {
    "slideshow": {
     "slide_type": "fragment"
    }
   },
   "outputs": [],
   "source": [
    "k0=1.3\n",
    "x0=-50\n",
    "sigma0=5\n",
    "psi= gauss_x(x, sigma0, x0, k0)\n",
    "prob=np.abs(psi)**2\n",
    "dx=x[1]-x[0]\n",
    "psi=psi/np.sqrt(np.sum(prob)*dx)"
   ]
  },
  {
   "cell_type": "code",
   "execution_count": 50,
   "metadata": {
    "slideshow": {
     "slide_type": "subslide"
    }
   },
   "outputs": [
    {
     "data": {
      "image/png": "[encoded data removed]",
      "text/plain": [
       "<Figure size 720x288 with 1 Axes>"
      ]
     },
     "metadata": {
      "image/png": {
       "height": 268,
       "width": 698
      },
      "needs_background": "light"
     },
     "output_type": "display_data"
    }
   ],
   "source": [
    "plt.figure(figsize=(10,4))\n",
    "plt.plot(x,np.abs(psi)**2)\n",
    "plt.xlabel('x-position')\n",
    "plt.ylabel('$|\\Psi(x)|^2$')\n",
    "plt.tight_layout()\n",
    "plt.show()"
   ]
  },
  {
   "cell_type": "markdown",
   "metadata": {
    "slideshow": {
     "slide_type": "subslide"
    }
   },
   "source": [
    "### Fourier Transform Setup"
   ]
  },
  {
   "cell_type": "markdown",
   "metadata": {
    "slideshow": {
     "slide_type": "fragment"
    }
   },
   "source": [
    "When doing the Fourier transform we switch between the spatial and the momentum domain. We will use for that purpose the Fast Fourier Transform Function as we did already earlier. As compared to what has been written in the equations above, that means we switch to a discrete space and miss some of the frequencies which would be contained in the analytical calculations above. To correct for the discrete sampling, we need to introduce a correction factor, which I leave to you for exploration.\n",
    "\n",
    "The wavefunction we have to use is \n",
    "\n",
    "$$\n",
    "\\Psi_{\\rm mod}=\\Psi(x_{n},t)\\frac{dx}{\\sqrt{2\\pi}}e^{-ik_{0}x_{n}}\n",
    "$$\n",
    "\n",
    "where $x_n = a + n \\Delta x$ and $k_{0}=-\\pi/dx$, which is the Nyquist limit. Note that this $k_0$ is not related to the $k_0$ of the wavepacket above. Similarly we would need to create a correcting phase factor for the wavefunction in discrete Fourier space \n",
    "\n",
    "$$\n",
    "\\tilde{\\Psi}_{\\rm mod}=\\tilde{\\Psi}(k_{m},t)e^{-im x_{0}\\Delta k}\n",
    "$$\n",
    "\n",
    "with $k_m = k_0 + m \\Delta k$. Here we define the space for the Fourier transform."
   ]
  },
  {
   "cell_type": "code",
   "execution_count": 51,
   "metadata": {
    "slideshow": {
     "slide_type": "subslide"
    }
   },
   "outputs": [],
   "source": [
    "N=len(x)\n",
    "dx=x[1]-x[0]\n",
    "k0=-np.pi/dx\n",
    "dk = 2*np.pi / (N * dx)\n",
    "k = k0 + dk * np.arange(N)"
   ]
  },
  {
   "cell_type": "markdown",
   "metadata": {
    "slideshow": {
     "slide_type": "fragment"
    }
   },
   "source": [
    "So the modified Gaussian wavepacket for the Fourier transform is"
   ]
  },
  {
   "cell_type": "code",
   "execution_count": 52,
   "metadata": {
    "slideshow": {
     "slide_type": "fragment"
    }
   },
   "outputs": [],
   "source": [
    "psi_modx=psi*np.exp(-1j * k[0] * x)* dx / np.sqrt(2 * np.pi)"
   ]
  },
  {
   "cell_type": "markdown",
   "metadata": {
    "slideshow": {
     "slide_type": "subslide"
    }
   },
   "source": [
    "### Phase Factor per Timestep"
   ]
  },
  {
   "cell_type": "markdown",
   "metadata": {
    "slideshow": {
     "slide_type": "fragment"
    }
   },
   "source": [
    "According to our calculations we first have evolve the wavepacket with a phase factor containing $\\hat{N}$ which contains the potential and later with $\\hat{D}$. \n",
    "\n",
    "$$\n",
    "\\Psi(x,t+dt)=F^{-1}\\left [ e^{i\\frac{\\hbar k^2}{2m}dt} F\\left [e^{-iV(x)dt/\\hbar}\\Psi(x,t) \\right ]  \\right]\n",
    "$$\n",
    "\n",
    "\n",
    "Both are just phases factors, which stay the same for each timestep. We may thus calculate them one, and reuse them.\n"
   ]
  },
  {
   "cell_type": "code",
   "execution_count": 53,
   "metadata": {
    "slideshow": {
     "slide_type": "fragment"
    }
   },
   "outputs": [],
   "source": [
    "phase_x=np.exp(-1j*V_x*dt/hbar)\n",
    "phase_k=np.exp(-1j*hbar*k**2/2/m*dt)"
   ]
  },
  {
   "cell_type": "markdown",
   "metadata": {
    "slideshow": {
     "slide_type": "subslide"
    }
   },
   "source": [
    "### Animation setup"
   ]
  },
  {
   "cell_type": "code",
   "execution_count": 54,
   "metadata": {
    "slideshow": {
     "slide_type": "fragment"
    }
   },
   "outputs": [],
   "source": [
    "fig, ax = plt.subplots(1,1,figsize=(10,4))\n",
    "plt.xlim(-100,100)\n",
    "plt.ylim(0,2)\n",
    "plt.xlabel('x-position')\n",
    "plt.ylabel(r'$|\\Psi(x,t)|^2$')\n",
    "plt.tight_layout()  \n",
    "plt.plot(x,V_x,'k')\n",
    "plt.draw()\n",
    "\n",
    "background = fig.canvas.copy_from_bbox(ax.bbox)\n",
    "points=ax.plot(x,np.abs(psi_modx)**2,'g')[0]\n",
    "\n",
    "plt.close() "
   ]
  },
  {
   "cell_type": "code",
   "execution_count": 55,
   "metadata": {
    "slideshow": {
     "slide_type": "subslide"
    }
   },
   "outputs": [
    {
     "data": {
      "application/vnd.jupyter.widget-view+json": {
       "model_id": "3abd0495570f4d7c94961b69f761532f",
       "version_major": 2,
       "version_minor": 0
      },
      "text/plain": [
       "Canvas(height=300, width=800)"
      ]
     },
     "metadata": {},
     "output_type": "display_data"
    }
   ],
   "source": [
    "## setup the canvas\n",
    "canvas = Canvas(width=800, height=300,sync_image_data=False)\n",
    "display(canvas)"
   ]
  },
  {
   "cell_type": "markdown",
   "metadata": {
    "slideshow": {
     "slide_type": "subslide"
    }
   },
   "source": [
    "### Animation"
   ]
  },
  {
   "cell_type": "markdown",
   "metadata": {
    "slideshow": {
     "slide_type": "fragment"
    }
   },
   "source": [
    "The animation runs in the same way as before. "
   ]
  },
  {
   "cell_type": "code",
   "execution_count": 56,
   "metadata": {
    "slideshow": {
     "slide_type": "subslide"
    }
   },
   "outputs": [
    {
     "ename": "KeyboardInterrupt",
     "evalue": "",
     "output_type": "error",
     "traceback": [
      "\u001b[0;31m---------------------------------------------------------------------------\u001b[0m",
      "\u001b[0;31mKeyboardInterrupt\u001b[0m                         Traceback (most recent call last)",
      "\u001b[0;32m/tmp/ipykernel_948686/3129487503.py\u001b[0m in \u001b[0;36m<module>\u001b[0;34m\u001b[0m\n\u001b[1;32m      5\u001b[0m         \u001b[0mtmp\u001b[0m\u001b[0;34m=\u001b[0m\u001b[0mifft\u001b[0m\u001b[0;34m(\u001b[0m\u001b[0mphase_k\u001b[0m\u001b[0;34m*\u001b[0m\u001b[0mfft\u001b[0m\u001b[0;34m(\u001b[0m\u001b[0mpsi_modx\u001b[0m\u001b[0;34m*\u001b[0m\u001b[0mphase_x\u001b[0m\u001b[0;34m)\u001b[0m\u001b[0;34m)\u001b[0m\u001b[0;34m\u001b[0m\u001b[0;34m\u001b[0m\u001b[0m\n\u001b[1;32m      6\u001b[0m         \u001b[0mpsi_modx\u001b[0m\u001b[0;34m=\u001b[0m\u001b[0mtmp\u001b[0m\u001b[0;34m\u001b[0m\u001b[0;34m\u001b[0m\u001b[0m\n\u001b[0;32m----> 7\u001b[0;31m         \u001b[0mpsi\u001b[0m\u001b[0;34m=\u001b[0m\u001b[0mtmp\u001b[0m\u001b[0;34m*\u001b[0m\u001b[0mnp\u001b[0m\u001b[0;34m.\u001b[0m\u001b[0mexp\u001b[0m\u001b[0;34m(\u001b[0m\u001b[0;36m1j\u001b[0m \u001b[0;34m*\u001b[0m \u001b[0mk\u001b[0m\u001b[0;34m[\u001b[0m\u001b[0;36m0\u001b[0m\u001b[0;34m]\u001b[0m \u001b[0;34m*\u001b[0m \u001b[0mx\u001b[0m\u001b[0;34m)\u001b[0m\u001b[0;34m*\u001b[0m \u001b[0mnp\u001b[0m\u001b[0;34m.\u001b[0m\u001b[0msqrt\u001b[0m\u001b[0;34m(\u001b[0m\u001b[0;36m2\u001b[0m \u001b[0;34m*\u001b[0m \u001b[0mnp\u001b[0m\u001b[0;34m.\u001b[0m\u001b[0mpi\u001b[0m\u001b[0;34m)\u001b[0m \u001b[0;34m/\u001b[0m \u001b[0mdx\u001b[0m\u001b[0;34m\u001b[0m\u001b[0;34m\u001b[0m\u001b[0m\n\u001b[0m\u001b[1;32m      8\u001b[0m         \u001b[0mprob\u001b[0m \u001b[0;34m=\u001b[0m \u001b[0mnp\u001b[0m\u001b[0;34m.\u001b[0m\u001b[0mabs\u001b[0m\u001b[0;34m(\u001b[0m\u001b[0mpsi\u001b[0m\u001b[0;34m)\u001b[0m\u001b[0;34m**\u001b[0m\u001b[0;36m2\u001b[0m\u001b[0;34m\u001b[0m\u001b[0;34m\u001b[0m\u001b[0m\n\u001b[1;32m      9\u001b[0m         \u001b[0mnorm\u001b[0m\u001b[0;34m=\u001b[0m\u001b[0mnp\u001b[0m\u001b[0;34m.\u001b[0m\u001b[0msum\u001b[0m\u001b[0;34m(\u001b[0m\u001b[0mprob\u001b[0m\u001b[0;34m)\u001b[0m\u001b[0;34m*\u001b[0m\u001b[0mdx\u001b[0m\u001b[0;34m\u001b[0m\u001b[0;34m\u001b[0m\u001b[0m\n",
      "\u001b[0;31mKeyboardInterrupt\u001b[0m: "
     ]
    }
   ],
   "source": [
    "for i in range(1000):\n",
    "    fig.canvas.restore_region(background)\n",
    "    ax.draw_artist(points)\n",
    "    for j in range(100):\n",
    "        tmp=ifft(phase_k*fft(psi_modx*phase_x))\n",
    "        psi_modx=tmp\n",
    "        psi=tmp*np.exp(1j * k[0] * x)* np.sqrt(2 * np.pi) / dx\n",
    "        prob = np.abs(psi)**2\n",
    "        norm=np.sum(prob)*dx\n",
    "        prob/=norm\n",
    "\n",
    "    points.set_data(x,10*prob)    \n",
    "    #points.set_data(x,1e5*np.abs(psi_modx)**2)\n",
    "\n",
    "    fig.canvas.blit(ax.bbox)\n",
    "    X = np.array(fig.canvas.renderer.buffer_rgba())\n",
    "\n",
    "    \n",
    "    with hold_canvas(canvas): \n",
    "        canvas.clear()\n",
    "        canvas.put_image_data(X)\n",
    "        sleep(0.01)"
   ]
  },
  {
   "cell_type": "code",
   "execution_count": 1,
   "metadata": {
    "slideshow": {
     "slide_type": "skip"
    }
   },
   "outputs": [],
   "source": [
    "#<img src=\"split_step_animation.mov\" width=\"600\">"
   ]
  },
  {
   "cell_type": "markdown",
   "metadata": {
    "slideshow": {
     "slide_type": "subslide"
    }
   },
   "source": [
    "![](split_step_animation.mov)"
   ]
  },
  {
   "cell_type": "markdown",
   "metadata": {
    "slideshow": {
     "slide_type": "subslide"
    }
   },
   "source": [
    "## Where to go from here?"
   ]
  },
  {
   "cell_type": "markdown",
   "metadata": {
    "slideshow": {
     "slide_type": "fragment"
    }
   },
   "source": [
    "We have developed two schemes of how to solve the Schrödinger equation for the tunneling case. You may want to explore the wavefunction of the particle in momentum space, i.e. its Fourier transform to the k-space. This gives an idea on how the momentum changes upon reflection and transmission. \n",
    "\n",
    "You can also have a look at the transmitted and reflected wave amplitudes as a function of the height an the width of the barrier.\n",
    "\n",
    "Finally, you may want to change the potential energy landscape."
   ]
  }
 ],
 "metadata": {
  "celltoolbar": "Slideshow",
  "kernelspec": {
   "display_name": "Python 3 (ipykernel)",
   "language": "python",
   "name": "python3"
  },
  "language_info": {
   "codemirror_mode": {
    "name": "ipython",
    "version": 3
   },
   "file_extension": ".py",
   "mimetype": "text/x-python",
   "name": "python",
   "nbconvert_exporter": "python",
   "pygments_lexer": "ipython3",
   "version": "3.8.12"
  },
  "toc-autonumbering": false,
  "toc-showcode": false,
  "toc-showmarkdowntxt": false,
  "widgets": {
   "application/vnd.jupyter.widget-state+json": {
    "state": {},
    "version_major": 2,
    "version_minor": 0
   }
  }
 },
 "nbformat": 4,
 "nbformat_minor": 4
}
