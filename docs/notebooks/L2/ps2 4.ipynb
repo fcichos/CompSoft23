{
 "cells": [
  {
   "cell_type": "markdown",
   "metadata": {},
   "source": [
    "# Problem Set 2"
   ]
  },
  {
   "cell_type": "code",
   "execution_count": 7,
   "metadata": {},
   "outputs": [],
   "source": [
    "import matplotlib\n",
    "matplotlib.use('MacOSX')\n",
    "import matplotlib.pyplot as plt\n",
    "\n",
    "plt.plot([1, 2, 3], [4, 5, 6])\n",
    "plt.show()"
   ]
  },
  {
   "cell_type": "markdown",
   "metadata": {},
   "source": [
    "**Exercise**\n",
    "\n",
    "Plot a histogram of the random numbers drawn from a normal distribution as provided by the function *randn*. Write a script calculating the variance of the normally distributed random numbers using the numpy function *sum(data)*."
   ]
  },
  {
   "cell_type": "code",
   "execution_count": 45,
   "metadata": {
    "ExecuteTime": {
     "end_time": "2019-04-23T08:38:50.565003Z",
     "start_time": "2019-04-23T08:38:50.271281Z"
    }
   },
   "outputs": [
    {
     "data": {
      "image/png": "[encoded data removed]",
      "text/plain": [
       "<Figure size 432x288 with 1 Axes>"
      ]
     },
     "metadata": {
      "image/png": {
       "height": 250,
       "width": 378
      },
      "needs_background": "light"
     },
     "output_type": "display_data"
    }
   ],
   "source": [
    "b=np.linspace(-5,5,50)\n",
    "plt.hist(np.sqrt(2)*randn(10000),bins=b,density=1);"
   ]
  },
  {
   "cell_type": "markdown",
   "metadata": {
    "ExecuteTime": {
     "end_time": "2017-04-27T10:54:17.065236+02:00",
     "start_time": "2017-04-27T10:54:16.581018"
    }
   },
   "source": [
    "**Exercise**\n",
    "\n",
    "Write a short script which calculates normally distributed numbers with a variance $\\sigma^2$ and a mean $x_0$. Plot a histogram of $10^6$ random numbers using 50 bins. Calculate the mean and the variance of $10^6$ random numbers drawn from this distribution."
   ]
  },
  {
   "cell_type": "code",
   "execution_count": 47,
   "metadata": {
    "ExecuteTime": {
     "end_time": "2019-04-23T08:38:51.863327Z",
     "start_time": "2019-04-23T08:38:51.860959Z"
    }
   },
   "outputs": [],
   "source": [
    "#code goes here"
   ]
  },
  {
   "cell_type": "markdown",
   "metadata": {},
   "source": [
    "**Exercise**\n",
    "\n",
    "Calculate the mean value of the exponential distribution."
   ]
  },
  {
   "cell_type": "code",
   "execution_count": 22,
   "metadata": {
    "ExecuteTime": {
     "end_time": "2019-04-23T08:38:59.534303Z",
     "start_time": "2019-04-23T08:38:59.531523Z"
    }
   },
   "outputs": [],
   "source": [
    "# code goes here"
   ]
  },
  {
   "cell_type": "markdown",
   "metadata": {},
   "source": [
    "**Exercise**\n",
    "\n",
    "Construct a series of single photon events seperated by periods which are exponentially distributed. "
   ]
  },
  {
   "cell_type": "code",
   "execution_count": 23,
   "metadata": {
    "ExecuteTime": {
     "end_time": "2019-04-23T08:39:00.681843Z",
     "start_time": "2019-04-23T08:39:00.679551Z"
    }
   },
   "outputs": [],
   "source": [
    "# code goes here"
   ]
  },
  {
   "cell_type": "markdown",
   "metadata": {},
   "source": [
    "**Exercise**\n",
    "\n",
    "Create 10 different random walks in 2-dimensions. Assemble the x,y coordinates with the zip command and write it to a text file so that we can use it later for plotting."
   ]
  },
  {
   "cell_type": "code",
   "execution_count": 94,
   "metadata": {
    "ExecuteTime": {
     "end_time": "2019-04-23T12:11:13.679944Z",
     "start_time": "2019-04-23T12:11:13.677679Z"
    }
   },
   "outputs": [],
   "source": [
    "#code goes here"
   ]
  },
  {
   "cell_type": "markdown",
   "metadata": {
    "ExecuteTime": {
     "end_time": "2017-05-04T20:11:42.328701+02:00",
     "start_time": "2017-05-04T20:11:42.316232"
    }
   },
   "source": [
    "**Exercise**\n",
    "\n",
    "Create a data file with the data shown below.\n",
    "\n",
    "- Read the data into Python program and plot $t$ vs $y$ using circles for data points with error bars. Use the data in the $dy$ column as the error estimates for the $y$ data. Label the horizontal and vertical axes “time (s)” and “position (cm)”.\n",
    "\n",
    "- On the same graph, plot the function below as a smooth line. Make the line pass behind the data points.\n",
    "\n",
    "\\begin{equation}\n",
    "y(t)=\\left [3+\\frac{1}{2}\\sin\\frac{\\pi t}{5} \\right]t e^{-t/10}\n",
    "\\end{equation}\n",
    "\n",
    "\n",
    "~~~\n",
    "Data for Exercise\n",
    "Date: 8-May-2017\n",
    "Data taken by Karl and Heinz\n",
    "\n",
    " t      d       dy\n",
    " 1.0    2.94    0.7\n",
    " 4.5    8.29    1.2\n",
    " 8.0    9.36    1.2\n",
    "11.5   11.60    1.4\n",
    "15.0    9.32    1.3\n",
    "18.5    7.75    1.1\n",
    "22.0    8.06    1.2\n",
    "25.5    5.60    1.0\n",
    "29.0    4.50    0.8\n",
    "32.5    4.01    0.8\n",
    "36.0    2.62    0.7\n",
    "39.5    1.70    0.6\n",
    "43.0    2.03    0.6\n",
    "~~~\n"
   ]
  },
  {
   "cell_type": "code",
   "execution_count": null,
   "metadata": {
    "collapsed": true,
    "jupyter": {
     "outputs_hidden": true
    }
   },
   "outputs": [],
   "source": [
    "# code goes here"
   ]
  },
  {
   "cell_type": "code",
   "execution_count": null,
   "metadata": {},
   "outputs": [],
   "source": []
  },
  {
   "cell_type": "code",
   "execution_count": null,
   "metadata": {},
   "outputs": [],
   "source": []
  }
 ],
 "metadata": {
  "kernelspec": {
   "display_name": "Python 3",
   "language": "python",
   "name": "python3"
  },
  "language_info": {
   "codemirror_mode": {
    "name": "ipython",
    "version": 3
   },
   "file_extension": ".py",
   "mimetype": "text/x-python",
   "name": "python",
   "nbconvert_exporter": "python",
   "pygments_lexer": "ipython3",
   "version": "3.7.6"
  }
 },
 "nbformat": 4,
 "nbformat_minor": 4
}
