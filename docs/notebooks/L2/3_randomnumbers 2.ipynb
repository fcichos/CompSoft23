{
 "cells": [
  {
   "cell_type": "markdown",
   "metadata": {
    "slideshow": {
     "slide_type": "slide"
    },
    "toc-hr-collapsed": false
   },
   "source": [
    "# Random numbers\n",
    "\n",
    "Random numbers are widely used in science and engineering computations. They can be used to simulate noisy data, or to model physical phenomena like the distribution of velocities of molecules in a gas, or to act like the roll of dice in a game. Monte Carlo simulation techniques, which will be part of a later theory lecture rely heavily and random number. Processes like single photon emission or Brownian motion are stochastic processes, with an intrisic randomness as well. But there are even methods for numerically evaluating multi-dimensional integrals using random numbers. \n",
    "\n",
    "\n",
    "The basic idea of a random number generator is that it should be able to produce a sequence of numbers that are distributed according to some predetermined distribution function. NumPy provides a number of such random number generators in its library numpy.random. Here we focus on three: \n",
    "\n",
    "- rand\n",
    "- randn\n",
    "- exponential\n",
    "- randint\n",
    "\n"
   ]
  },
  {
   "cell_type": "markdown",
   "metadata": {
    "slideshow": {
     "slide_type": "slide"
    }
   },
   "source": [
    "## Uniformly distributed random numbers\n",
    "\n",
    "The rand(num) function creates an array of num floats uniformly distributed on the interval from 0 to 1."
   ]
  },
  {
   "cell_type": "code",
   "execution_count": 2,
   "metadata": {
    "ExecuteTime": {
     "end_time": "2019-04-23T08:38:44.618245Z",
     "start_time": "2019-04-23T08:38:44.613107Z"
    },
    "slideshow": {
     "slide_type": "skip"
    }
   },
   "outputs": [],
   "source": [
    "import matplotlib.pyplot as plt\n",
    "import numpy as np\n",
    "from numpy.random import *\n",
    "\n",
    "plt.rcParams.update({'font.size': 12,\n",
    "                     'axes.titlesize': 20,\n",
    "                     'axes.labelsize': 18,\n",
    "                     'axes.labelpad': 14,\n",
    "                     'lines.linewidth': 1,\n",
    "                     'lines.markersize': 10,\n",
    "                     'xtick.labelsize' : 16,\n",
    "                     'ytick.labelsize' : 16,\n",
    "                     'xtick.top' : True,\n",
    "                     'xtick.direction' : 'in',\n",
    "                     'ytick.right' : True,\n",
    "                     'ytick.direction' : 'in',}) "
   ]
  },
  {
   "cell_type": "code",
   "execution_count": 16,
   "metadata": {
    "ExecuteTime": {
     "end_time": "2019-04-23T08:38:45.153439Z",
     "start_time": "2019-04-23T08:38:45.143438Z"
    },
    "slideshow": {
     "slide_type": "fragment"
    }
   },
   "outputs": [
    {
     "data": {
      "text/plain": [
       "0.1631200339077593"
      ]
     },
     "execution_count": 16,
     "metadata": {},
     "output_type": "execute_result"
    }
   ],
   "source": [
    "rand()"
   ]
  },
  {
   "cell_type": "markdown",
   "metadata": {
    "slideshow": {
     "slide_type": "fragment"
    }
   },
   "source": [
    "If you supply the argument *num* to the `rand(num)` function you obtain an array of equally distributed numbers with *num* elements."
   ]
  },
  {
   "cell_type": "code",
   "execution_count": 17,
   "metadata": {
    "ExecuteTime": {
     "end_time": "2019-04-23T08:38:46.132384Z",
     "start_time": "2019-04-23T08:38:46.128467Z"
    },
    "slideshow": {
     "slide_type": "fragment"
    }
   },
   "outputs": [
    {
     "data": {
      "text/plain": [
       "array([0.27534506, 0.10751246, 0.17839753, 0.28157403, 0.2462493 ])"
      ]
     },
     "execution_count": 17,
     "metadata": {},
     "output_type": "execute_result"
    }
   ],
   "source": [
    "rand(5)"
   ]
  },
  {
   "cell_type": "markdown",
   "metadata": {
    "slideshow": {
     "slide_type": "subslide"
    }
   },
   "source": [
    "You may also obtain a multi-dimensional array if you give two or more numbers to the the rand function."
   ]
  },
  {
   "cell_type": "code",
   "execution_count": 18,
   "metadata": {
    "ExecuteTime": {
     "end_time": "2019-04-23T08:38:47.182131Z",
     "start_time": "2019-04-23T08:38:47.178672Z"
    },
    "slideshow": {
     "slide_type": "fragment"
    }
   },
   "outputs": [
    {
     "data": {
      "text/plain": [
       "array([[0.42661185, 0.24483138],\n",
       "       [0.15921275, 0.73919095],\n",
       "       [0.01649883, 0.65556621],\n",
       "       [0.01856247, 0.56310417],\n",
       "       [0.44683906, 0.418436  ]])"
      ]
     },
     "execution_count": 18,
     "metadata": {},
     "output_type": "execute_result"
    }
   ],
   "source": [
    "rand(5,2)"
   ]
  },
  {
   "cell_type": "code",
   "execution_count": 20,
   "metadata": {
    "ExecuteTime": {
     "end_time": "2019-04-23T08:38:47.980606Z",
     "start_time": "2019-04-23T08:38:47.676297Z"
    },
    "slideshow": {
     "slide_type": "fragment"
    }
   },
   "outputs": [
    {
     "data": {
      "image/png": "[encoded data removed]",
      "text/plain": [
       "<Figure size 432x288 with 1 Axes>"
      ]
     },
     "metadata": {
      "needs_background": "light"
     },
     "output_type": "display_data"
    }
   ],
   "source": [
    "b=np.linspace(0,1,50)\n",
    "plt.hist(rand(10000),bins=b,density=1,alpha)\n",
    "plt.show()"
   ]
  },
  {
   "cell_type": "markdown",
   "metadata": {
    "slideshow": {
     "slide_type": "slide"
    }
   },
   "source": [
    "## Normally distributed random numbers"
   ]
  },
  {
   "cell_type": "markdown",
   "metadata": {
    "slideshow": {
     "slide_type": "fragment"
    }
   },
   "source": [
    "The function randn(num) produces a normal or Gaussian distribution of num random numbers with a mean of $\\mu=0$ and a standard deviation of $\\sigma=1$. They are distributed according to\n",
    "\n",
    "\\begin{equation}\n",
    "p(x)dx=\\frac{1}{\\sqrt{2\\pi}\\sigma}e^{-\\frac{(x-\\mu)^2}{2\\sigma^2}}dx\n",
    "\\end{equation}\n",
    "\n",
    "Similarly as all the other random number function, you may supply one or multiple arguments to the *rand()* function. The result is again a multi-dimensional array of random numbers."
   ]
  },
  {
   "cell_type": "code",
   "execution_count": 19,
   "metadata": {
    "ExecuteTime": {
     "end_time": "2019-04-23T08:38:49.247641Z",
     "start_time": "2019-04-23T08:38:49.243523Z"
    },
    "slideshow": {
     "slide_type": "fragment"
    }
   },
   "outputs": [
    {
     "data": {
      "text/plain": [
       "array([ 1.74836571, -0.11033269,  0.10350835,  0.95066411, -0.80380095,\n",
       "        1.29581027, -1.65970284,  0.37356692,  1.43176263,  0.16364205])"
      ]
     },
     "execution_count": 19,
     "metadata": {},
     "output_type": "execute_result"
    }
   ],
   "source": [
    "randn(10)"
   ]
  },
  {
   "cell_type": "markdown",
   "metadata": {
    "slideshow": {
     "slide_type": "subslide"
    }
   },
   "source": [
    "If you want to create a normal distribution with different standard deviation and mean value, you have to multiply by the new standard deviation and add the mean."
   ]
  },
  {
   "cell_type": "code",
   "execution_count": 20,
   "metadata": {
    "slideshow": {
     "slide_type": "fragment"
    }
   },
   "outputs": [
    {
     "data": {
      "text/plain": [
       "array([10.58990313, 11.82197476, 10.56964462, 11.26624104,  9.88306752,\n",
       "        9.89996088,  9.15547685, 10.52321803, 10.19585175,  8.5771435 ])"
      ]
     },
     "execution_count": 20,
     "metadata": {},
     "output_type": "execute_result"
    }
   ],
   "source": [
    "sigma=1\n",
    "mu=10\n",
    "\n",
    "sigma * np.random.randn(10) + mu"
   ]
  },
  {
   "cell_type": "markdown",
   "metadata": {
    "slideshow": {
     "slide_type": "slide"
    }
   },
   "source": [
    "<div class=\"alert alert-info\">\n",
    "\n",
    "**Note:** Physics Interlude\n",
    "\n",
    "Brownian Motion, Random Walk\n",
    "\n",
    "\n",
    "</div>"
   ]
  },
  {
   "cell_type": "markdown",
   "metadata": {
    "slideshow": {
     "slide_type": "fragment"
    }
   },
   "source": [
    "The following lines create random numbers, which are distributed by a normal distribution. You can use such normally distributed random numbers to generate a random walk. Such a random walk is a simple representation of Brownian motion of colloids suspended in a liquid.\n",
    "\n",
    "Suppose a colloidal particle in solution is kicked by its surrounding solvent molecules such that it does a small step in a random direction. The length of the step will be normally distributed. If this motion is in 2 dimensions, then the position in x and y direction after N steps is \n",
    "\n",
    "\\begin{equation}\n",
    "x(N)=\\sum_{i=1}^{N}x_{i}\n",
    "\\end{equation}\n",
    "\n",
    "\\begin{equation}\n",
    "y(N)=\\sum_{i=1}^{N}y_{i}\n",
    "\\end{equation}\n",
    "\n",
    "where, $x_{i}$,$y_{i}$ are the individual normally distributed steps. The position is therefore just the cummulative sum of a sequence of normally distributed random numbers, which is easy to realize in Python."
   ]
  },
  {
   "cell_type": "code",
   "execution_count": 28,
   "metadata": {
    "ExecuteTime": {
     "end_time": "2019-04-23T08:38:52.862260Z",
     "start_time": "2019-04-23T08:38:52.858699Z"
    }
   },
   "outputs": [],
   "source": [
    "x,y=[randn(10000).cumsum(),randn(10000).cumsum()]"
   ]
  },
  {
   "cell_type": "markdown",
   "metadata": {},
   "source": [
    "Note that the above example uses the `cumsum()` function. The cumsum function of an array of number $[x_0,x_1,x_2,..,x_n]$ delivers an array with a progressive sum of elements $[x_0,x_0+x_1,x_0+x_1+x_2,...,x_0+...+x_n]$.\n",
    "The line \n",
    "\n",
    "~~~\n",
    "x,y=[randn(1000).cumsum(),randn(1000).cumsum()]\n",
    "~~~\n",
    "\n",
    "is therefore all you need to generate a random walk in two dimensions."
   ]
  },
  {
   "cell_type": "code",
   "execution_count": 29,
   "metadata": {
    "ExecuteTime": {
     "end_time": "2019-04-23T08:38:53.738457Z",
     "start_time": "2019-04-23T08:38:53.360036Z"
    }
   },
   "outputs": [
    {
     "data": {
      "image/png": "[encoded data removed]",
      "text/plain": [
       "<Figure size 432x432 with 1 Axes>"
      ]
     },
     "metadata": {
      "needs_background": "light"
     },
     "output_type": "display_data"
    }
   ],
   "source": [
    "plt.figure(figsize=(6,6))\n",
    "plt.plot(x,y)\n",
    "plt.xlabel('x') # set the x-axis label\n",
    "plt.ylabel('y') # set the y-axis label\n",
    "plt.show()"
   ]
  },
  {
   "cell_type": "markdown",
   "metadata": {},
   "source": [
    "## Exponentially distributed numbers\n",
    "\n",
    "\n"
   ]
  },
  {
   "cell_type": "markdown",
   "metadata": {},
   "source": [
    "A number of processes in physics reveal an exponential statistics. For example the probability to find a molecule under gravity at a certain height $h$ is distributed by a Boltzmann law for a non-zero temperature. \n",
    "\n",
    "\\begin{equation}\n",
    "    p(h)dh = p_{0}\\exp(-m\\cdot g\\cdot h/k_{\\rm B}T) dh\n",
    "\\end{equation}\n",
    "\n",
    "On the other hand, the probability to emit a photon spontaneously after a certain time $t$ follwings the excited state preparation (two level system) is also exponentially distributed. \n",
    "\n",
    "\\begin{equation}\n",
    "p(t)dt=p_{0}\\exp(-t/\\tau)\n",
    "\\end{equation}\n",
    "\n",
    "Thus after each excitation i.e. by a laser pulse, a molecule emits a single photon with the probability $p(t)$ and the whole exponential character in the statistics is only appearing after repeating the experiment several times. \n",
    "\n",
    "The exponential distribution of *numpy* can be supplied with two numbers.\n",
    "\n",
    "~~~\n",
    "exponential(b, n)\n",
    "~~~\n",
    "\n",
    "The parameter b  is giving the decay parameter. The number n is optional and giving the number of samples to be provided. The numbers are distributed according to\n",
    "\n",
    "\\begin{equation}\n",
    "\\frac{1}{b}\\exp(-x/b)\n",
    "\\end{equation}\n"
   ]
  },
  {
   "cell_type": "code",
   "execution_count": 23,
   "metadata": {
    "ExecuteTime": {
     "end_time": "2019-04-23T08:38:56.064378Z",
     "start_time": "2019-04-23T08:38:56.054314Z"
    }
   },
   "outputs": [
    {
     "data": {
      "text/plain": [
       "0.7926431399835854"
      ]
     },
     "execution_count": 23,
     "metadata": {},
     "output_type": "execute_result"
    }
   ],
   "source": [
    "exponential(1)"
   ]
  },
  {
   "cell_type": "code",
   "execution_count": 24,
   "metadata": {
    "ExecuteTime": {
     "end_time": "2019-04-23T08:38:56.634481Z",
     "start_time": "2019-04-23T08:38:56.629807Z"
    }
   },
   "outputs": [
    {
     "data": {
      "text/plain": [
       "array([1.25575195, 0.30250416, 2.36914119, ..., 1.04457944, 1.37505873,\n",
       "       0.79869751])"
      ]
     },
     "execution_count": 24,
     "metadata": {},
     "output_type": "execute_result"
    }
   ],
   "source": [
    "exponential(1,10000)"
   ]
  },
  {
   "cell_type": "markdown",
   "metadata": {},
   "source": [
    "You may want to test the changes in the exponential distribution with the parameter **b**."
   ]
  },
  {
   "cell_type": "code",
   "execution_count": 25,
   "metadata": {
    "ExecuteTime": {
     "end_time": "2019-04-23T08:38:58.558214Z",
     "start_time": "2019-04-23T08:38:58.245789Z"
    }
   },
   "outputs": [
    {
     "data": {
      "image/png": "[encoded data removed]",
      "text/plain": [
       "<Figure size 432x288 with 1 Axes>"
      ]
     },
     "metadata": {
      "needs_background": "light"
     },
     "output_type": "display_data"
    }
   ],
   "source": [
    "b=np.linspace(0,10,50)\n",
    "plt.hist(exponential(1,10000),bins=b,density=1);"
   ]
  },
  {
   "cell_type": "markdown",
   "metadata": {},
   "source": [
    "## Random distribution of integers\n",
    "\n",
    "The function randint(low, high, num) produces a uniform random distribution of num integers between low (inclusive) and high (exclusive)."
   ]
  },
  {
   "cell_type": "code",
   "execution_count": 26,
   "metadata": {
    "ExecuteTime": {
     "end_time": "2019-04-23T11:36:23.998713Z",
     "start_time": "2019-04-23T11:36:23.994403Z"
    }
   },
   "outputs": [
    {
     "data": {
      "text/plain": [
       "array([19,  5,  8, 12, 19,  6,  6,  5, 15,  5])"
      ]
     },
     "execution_count": 26,
     "metadata": {},
     "output_type": "execute_result"
    }
   ],
   "source": [
    "randint(1,20,10)"
   ]
  },
  {
   "cell_type": "code",
   "execution_count": 27,
   "metadata": {
    "ExecuteTime": {
     "end_time": "2019-04-23T08:39:02.274557Z",
     "start_time": "2019-04-23T08:39:02.270243Z"
    }
   },
   "outputs": [
    {
     "name": "stdout",
     "output_type": "stream",
     "text": [
      "[9, 1, 5, 10, 7, 2, 8, 4, 3, 6]\n"
     ]
    }
   ],
   "source": [
    "items = [1, 2, 3, 4, 5, 6, 7, 8, 9, 10]\n",
    "shuffle(items)\n",
    "\n",
    "print(items)"
   ]
  },
  {
   "cell_type": "markdown",
   "metadata": {},
   "source": [
    "There are a number of other methods available in the random module of numpy. Please refere to the [documentation](https://docs.scipy.org/doc/numpy-1.13.0/reference/routines.random.html)."
   ]
  }
 ],
 "metadata": {
  "anaconda-cloud": {},
  "hide_input": false,
  "kernelspec": {
   "display_name": "Python 3",
   "language": "python",
   "name": "python3"
  },
  "language_info": {
   "codemirror_mode": {
    "name": "ipython",
    "version": 3
   },
   "file_extension": ".py",
   "mimetype": "text/x-python",
   "name": "python",
   "nbconvert_exporter": "python",
   "pygments_lexer": "ipython3",
   "version": "3.7.6"
  },
  "latex_envs": {
   "LaTeX_envs_menu_present": true,
   "autoclose": false,
   "autocomplete": true,
   "bibliofile": "biblio.bib",
   "cite_by": "apalike",
   "current_citInitial": 1,
   "eqLabelWithNumbers": true,
   "eqNumInitial": 1,
   "hotkeys": {
    "equation": "Ctrl-E",
    "itemize": "Ctrl-I"
   },
   "labels_anchors": false,
   "latex_user_defs": false,
   "report_style_numbering": true,
   "user_envs_cfg": false
  },
  "toc": {
   "nav_menu": {
    "height": "12px",
    "width": "252px"
   },
   "number_sections": true,
   "sideBar": true,
   "skip_h1_title": false,
   "toc_cell": true,
   "toc_position": {},
   "toc_section_display": "block",
   "toc_window_display": false
  },
  "varInspector": {
   "cols": {
    "lenName": 16,
    "lenType": 16,
    "lenVar": 40
   },
   "kernels_config": {
    "python": {
     "delete_cmd_postfix": "",
     "delete_cmd_prefix": "del ",
     "library": "var_list.py",
     "varRefreshCmd": "print(var_dic_list())"
    },
    "r": {
     "delete_cmd_postfix": ") ",
     "delete_cmd_prefix": "rm(",
     "library": "var_list.r",
     "varRefreshCmd": "cat(var_dic_list()) "
    }
   },
   "types_to_exclude": [
    "module",
    "function",
    "builtin_function_or_method",
    "instance",
    "_Feature"
   ],
   "window_display": false
  }
 },
 "nbformat": 4,
 "nbformat_minor": 4
}
