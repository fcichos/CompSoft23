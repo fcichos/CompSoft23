{
 "cells": [
  {
   "cell_type": "markdown",
   "metadata": {},
   "source": [
    "**Exercise**\n",
    "\n",
    "Write a program to calculate the factorial of a positive integer input by the user. Recall that the factorial function is given by x! = x(x − 1)(x − 2)...(2)(1) so that 1! = 1, 2! = 2, 3! = 6, 4! = 24, ...\n",
    "\n",
    "- Write the factorial function using a Python while loop.\n",
    "- Write the factorial function using a Python for loop.\n",
    "\n",
    "Check your programs to make sure they work for 1, 2, 3, 5, and beyond, but especially for the first 5 integers."
   ]
  },
  {
   "cell_type": "code",
   "execution_count": 66,
   "metadata": {},
   "outputs": [],
   "source": [
    "# code goes here"
   ]
  },
  {
   "cell_type": "code",
   "execution_count": 6,
   "metadata": {
    "ExecuteTime": {
     "end_time": "2017-05-05T09:30:34.880396+02:00",
     "start_time": "2017-05-05T09:30:34.876226"
    }
   },
   "outputs": [],
   "source": [
    "def sinc(x):\n",
    "    y = np.sin(x)/x\n",
    "    return y"
   ]
  },
  {
   "cell_type": "markdown",
   "metadata": {
    "ExecuteTime": {
     "end_time": "2017-05-04T20:58:43.947223+02:00",
     "start_time": "2017-05-04T20:58:43.941528"
    }
   },
   "source": [
    "**Exercise**\n",
    "\n",
    "The above defined function delivers a false value at a certain point. Find the error and correct the function appropriately."
   ]
  },
  {
   "cell_type": "code",
   "execution_count": 7,
   "metadata": {
    "ExecuteTime": {
     "end_time": "2017-05-04T20:57:13.310001+02:00",
     "start_time": "2017-05-04T20:57:13.303773"
    }
   },
   "outputs": [],
   "source": [
    "# code goes here"
   ]
  },
  {
   "cell_type": "code",
   "execution_count": 1,
   "metadata": {},
   "outputs": [],
   "source": [
    "import numpy as np"
   ]
  },
  {
   "cell_type": "markdown",
   "metadata": {},
   "source": [
    "**Exercise:** Create a script which generates a variable number of Brownian particles and plots the trajectories."
   ]
  }
 ],
 "metadata": {
  "kernelspec": {
   "display_name": "Python 3",
   "language": "python",
   "name": "python3"
  },
  "language_info": {
   "codemirror_mode": {
    "name": "ipython",
    "version": 3
   },
   "file_extension": ".py",
   "mimetype": "text/x-python",
   "name": "python",
   "nbconvert_exporter": "python",
   "pygments_lexer": "ipython3",
   "version": "3.7.6"
  },
  "widgets": {
   "application/vnd.jupyter.widget-state+json": {
    "state": {},
    "version_major": 2,
    "version_minor": 0
   }
  }
 },
 "nbformat": 4,
 "nbformat_minor": 4
}
