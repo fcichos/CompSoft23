{
 "cells": [
  {
   "cell_type": "markdown",
   "metadata": {
    "hide_input": true
   },
   "source": [
    "# Introduction to Computational Software\n",
    "\n",
    "[Frank Cichos](cichos@physik.uni-leipzig.de) (2018)\n",
    "\n",
    "<a name=\"top\"></a>"
   ]
  },
  {
   "cell_type": "markdown",
   "metadata": {},
   "source": [
    "# Table of Contents\n",
    "\n",
    "* [Lecture 3](#Lecture-3)\n",
    "    * [Conditionals](#Conditionals)\n",
    "        * [if, elif, and else statements](#if,-elif,-and-else-statements)\n",
    "        * [Logical Operators](#Logical-Operators)\n",
    "    * [Loops](#Loops)\n",
    "        * [for Loops](#for-loops)\n",
    "        * [while loops](#while-loops)\n",
    "        * [Loops and array operations](#Loops-and-array-operations)\n",
    "        * [List Comprehensions](#List Comprehensions)\n",
    "    * [Functions](#Functions)\n",
    "        * [User defined functions](#User-defined-functions)\n",
    "        * [Faster Array Processing](#Faster-Array-Processing)\n",
    "        * [Functions with more than one input or output](#Functions-with-more-than-one-input-or-output)\n",
    "        * [Positional and keyword arguments](#Positional-and-keyword-arguments)\n",
    "        * [Variable number of arguments](#Variable-number-of-arguments)\n",
    "    * [Numerical differentiation](#Numerical-differentiation)\n",
    "        * [More differentiation](#More-differentiation)\n",
    "    * [Numerical Integration](#Numerical-Integration)\n",
    "        * [Euler Method](#Euler-Method)\n",
    "        * [Euler Cromer Method](#Euler-Cromer-Method)\n",
    "        * [Midpoint Method](#Midpoint-Method)"
   ]
  },
  {
   "cell_type": "markdown",
   "metadata": {
    "ExecuteTime": {
     "end_time": "2017-04-13T21:57:49.612980+00:00",
     "start_time": "2017-04-13T23:57:49.593265+02:00"
    }
   },
   "source": [
    "***\n",
    "# Lecture 3\n",
    "\n",
    "In this lecture, we will explore conditionals, loops and other structuring elements of common programming. They are occurring in all programming languages in similar ways. "
   ]
  },
  {
   "cell_type": "code",
   "execution_count": 12,
   "metadata": {
    "ExecuteTime": {
     "end_time": "2019-04-23T12:57:22.018368Z",
     "start_time": "2019-04-23T12:57:22.002149Z"
    }
   },
   "outputs": [
    {
     "name": "stdout",
     "output_type": "stream",
     "text": [
      "Populating the interactive namespace from numpy and matplotlib\n"
     ]
    }
   ],
   "source": [
    "import numpy as np\n",
    "\n",
    "%pylab inline\n",
    "%config InlineBackend.figure_format = 'retina' \n",
    "\n",
    "plt.rcParams.update({'font.size': 12,\n",
    "                     'axes.titlesize': 18,\n",
    "                     'axes.labelsize': 16,\n",
    "                     'axes.labelpad': 14,\n",
    "                     'lines.linewidth': 1,\n",
    "                     'lines.markersize': 10,\n",
    "                     'xtick.labelsize' : 16,\n",
    "                     'ytick.labelsize' : 16,\n",
    "                     'xtick.top' : True,\n",
    "                     'xtick.direction' : 'in',\n",
    "                     'ytick.right' : True,\n",
    "                     'ytick.direction' : 'in',}) "
   ]
  },
  {
   "cell_type": "markdown",
   "metadata": {},
   "source": [
    "## Conditionals\n",
    "<a href=\"#top\">Jump to top</a>\n",
    "\n",
    "\n",
    "### if, elif, and else statements\n",
    "\n",
    "The *if, elif*, and *else* statements are used to define conditionals in Python.  The *if* keyword is followed by a condition, i.e. a logical comparison, which can either be **true** or **false**.   We\n",
    "illustrate their use with a few examples.\n",
    "\n",
    "Suppose we want to know if the solutions to the quadratic equation\n",
    "\n",
    "\\begin{equation}\n",
    "ax^2+bx+c=0\n",
    "\\end{equation}\n",
    "\n",
    "are real, imaginary, or complex for a given set of coefficients a, b, and c. Of course, the answer to that question depends on the value of the discriminant \n",
    "$d = b^2 − 4ac$. The solutions are real if $d \\ge 0$, imaginary if $b=0$ and $d < 0$,and complex if $b\\ne 0$ and $d < 0$. The program below implements the above logic in a Python program. Each part of these statements has a code block to be executed. The code block to be executed is discriminated from the others by an indentation. Usually this is done with a *tab*, which indents 4 characters. You can either insert 4 spaces or press *tab*. Play around with the *tab* to get a feeling how the Jupyter notebook responds to that.\n",
    "\n"
   ]
  },
  {
   "cell_type": "markdown",
   "metadata": {
    "ExecuteTime": {
     "end_time": "2017-05-04T20:25:25.500222+02:00",
     "start_time": "2017-05-04T20:25:25.494364"
    }
   },
   "source": [
    "** if example**"
   ]
  },
  {
   "cell_type": "code",
   "execution_count": 13,
   "metadata": {
    "ExecuteTime": {
     "end_time": "2019-04-23T12:58:29.972678Z",
     "start_time": "2019-04-23T12:57:28.123755Z"
    }
   },
   "outputs": [
    {
     "name": "stdout",
     "output_type": "stream",
     "text": [
      "Please input a number: -1\n",
      "The absolute value is 1\n"
     ]
    }
   ],
   "source": [
    "a = eval(input(\"Please input a number: \"))\n",
    "if a < 0:\n",
    "    a = -a\n",
    "print(\"The absolute value is {0}\".format(a))"
   ]
  },
  {
   "cell_type": "markdown",
   "metadata": {},
   "source": [
    "** if else example**"
   ]
  },
  {
   "cell_type": "code",
   "execution_count": 2,
   "metadata": {
    "ExecuteTime": {
     "end_time": "2019-04-23T08:36:30.886585Z",
     "start_time": "2019-04-23T08:36:28.863909Z"
    }
   },
   "outputs": [
    {
     "name": "stdout",
     "output_type": "stream",
     "text": [
      "Please input an integer: 212\n",
      "212 is an even number.\n"
     ]
    }
   ],
   "source": [
    "a = int(input(\"Please input an integer: \"))\n",
    "if a%2 == 0:\n",
    "    print(\"{0:0d} is an even number.\".format(a))\n",
    "else:\n",
    "    print(\"{0:0d} is an odd number.\".format(a))"
   ]
  },
  {
   "cell_type": "markdown",
   "metadata": {},
   "source": [
    "** if, elif, else example **"
   ]
  },
  {
   "cell_type": "code",
   "execution_count": 3,
   "metadata": {
    "ExecuteTime": {
     "end_time": "2019-04-23T08:36:38.334238Z",
     "start_time": "2019-04-23T08:36:35.527738Z"
    }
   },
   "outputs": [
    {
     "name": "stdout",
     "output_type": "stream",
     "text": [
      "What is the coefficients a? 1\n",
      "What is the coefficients b? 2\n",
      "What is the coefficients c? 7\n",
      "Solutions are complex\n",
      "Finished!\n"
     ]
    }
   ],
   "source": [
    "a = float(input(\"What is the coefficients a? \"))\n",
    "b = float(input(\"What is the coefficients b? \"))\n",
    "c = float(input(\"What is the coefficients c? \"))\n",
    "d = b*b - 4.*a*c\n",
    "if d >= 0.0:\n",
    "    print(\"Solutions are real\")\n",
    "elif b == 0.0:\n",
    "    print(\"Solutions are imaginary\")\n",
    "else:\n",
    "    print(\"Solutions are complex\")\n",
    "    print(\"Finished!\")\n"
   ]
  },
  {
   "cell_type": "markdown",
   "metadata": {},
   "source": [
    "## Logical Operators\n",
    "\n",
    "It is important to understand that “==” in Python is not the same as “=”. The operator “=” is the assignment operator: d = 5 assigns the value of 5 to the variable d. On the other hand “==” is the logical equals operator and d == 5 is a logical truth statement. It tells Python to check to see if d is equal to 5 or not, and assigns a value of True or False to the statement d == 5 depending on whether or not d is equal to 5. The table below summarizes the various logical operators available in Python.\n",
    "\n",
    "<img src=\"logicaloperators.png\" width=300 alt=\"markdown cell\" title=\"markdown cell\" />"
   ]
  },
  {
   "cell_type": "markdown",
   "metadata": {},
   "source": [
    "***\n",
    "## Loops\n",
    "\n",
    "<a href=\"#top\">Jump to top</a>\n",
    "\n",
    "In computer programming a loop is statement or block of statements that is executed repeatedly. Python has two kinds of loops, a for loop and a while loop. We first introduce the for loop and illustrate its use for a variety of tasks. We then introduce the while loop and, after a few illustrative examples, compare the two kinds of loops and discuss when to use one or the other."
   ]
  },
  {
   "cell_type": "markdown",
   "metadata": {},
   "source": [
    "***\n",
    "### for loops\n",
    "\n",
    "The general form of a for loop in Python is\n",
    "\n",
    "~~~\n",
    " for <itervar> in <sequence>: \n",
    "     <body> \n",
    "~~~\n",
    "\n",
    "where < intervar > is a variable < sequence > is a sequence such as list or string or array, and < body > is a series of Python commands to be executed repeatedly for each element in the < sequence >. The < body > is indented from the rest of the text, which difines the extent of the loop. Let’s look at a few examples."
   ]
  },
  {
   "cell_type": "code",
   "execution_count": 4,
   "metadata": {
    "ExecuteTime": {
     "end_time": "2019-04-23T08:36:46.524042Z",
     "start_time": "2019-04-23T08:36:46.520376Z"
    }
   },
   "outputs": [
    {
     "name": "stdout",
     "output_type": "stream",
     "text": [
      "Max\n",
      " Arf, arf!\n",
      "Molly\n",
      " Arf, arf!\n",
      "Buster\n",
      " Arf, arf!\n",
      "Maggie\n",
      " Arf, arf!\n",
      "Lucy\n",
      " Arf, arf!\n",
      "All done.\n"
     ]
    }
   ],
   "source": [
    "for dogname in [\"Max\", \"Molly\", \"Buster\", \"Maggie\", \"Lucy\"]: \n",
    "    print(dogname)\n",
    "    print(\" Arf, arf!\") \n",
    "print(\"All done.\")"
   ]
  },
  {
   "cell_type": "markdown",
   "metadata": {},
   "source": [
    "The for loop works as follows: the iteration variable or loop index dogname is set equal to the first element in the list, \"Max\", and then the two lines in the indented body are executed. Then dogname is set equal to second element in the list, \"Molly\", and the two lines in the indented body are executed. The loop cycles through all the elements of the list,and then moves on to the code that follows the for loop and prints \"All done\"."
   ]
  },
  {
   "cell_type": "code",
   "execution_count": 5,
   "metadata": {
    "ExecuteTime": {
     "end_time": "2019-04-23T08:36:47.803222Z",
     "start_time": "2019-04-23T08:36:47.799419Z"
    }
   },
   "outputs": [
    {
     "name": "stdout",
     "output_type": "stream",
     "text": [
      "2500\n"
     ]
    }
   ],
   "source": [
    "s=0\n",
    "for i in range(1, 100, 2):\n",
    "    s = s+i \n",
    "print(s)"
   ]
  },
  {
   "cell_type": "code",
   "execution_count": 6,
   "metadata": {
    "ExecuteTime": {
     "end_time": "2019-04-23T08:36:48.421359Z",
     "start_time": "2019-04-23T08:36:48.304285Z"
    }
   },
   "outputs": [
    {
     "data": {
      "text/plain": [
       "2500"
      ]
     },
     "execution_count": 6,
     "metadata": {},
     "output_type": "execute_result"
    }
   ],
   "source": [
    "import numpy as np\n",
    "np.sum(range(1, 100, 2))"
   ]
  },
  {
   "cell_type": "markdown",
   "metadata": {},
   "source": [
    "***\n",
    "### while loops\n",
    "\n",
    "The general form of a while loop in Python is\n",
    "\n",
    "~~~\n",
    "while <condition>: \n",
    "    <body>\n",
    "~~~\n",
    "   \n",
    "where < condition > is a statement that can be either *True* or *False* and < body > is a series of Python commands that is executed repeatedly until < condition > becomes *false*. This means that somewhere in < body >, the truth value of < condition > must be changed so that it becomes *false* after a finite number of iterations. This is one of the great dangers of a while loop, that accidentially the condition might never become *false* and your loop runs forever.  \n",
    "\n",
    "Consider the following example. Suppose you want to calculate all the Fibonacci numbers smaller than 1000. The Fibonacci numbers are determined by starting with the integers 0 and 1. The next number in the sequence is the sum of the previous two. So, starting with 0 and 1, the next Fibonacci number is 0 + 1 = 1, giving the sequence 0, 1, 1. Continuing this process, we obtain 0, 1, 1, 2, 3, 5, 8, ... where each element in the list is the sum of the previous two. Using a for loop to calculate the Fibonacci numbers is impractical because we do not know ahead of time how many Fibonacci numbers there are smaller than 1000. By contrast a while loop is perfect for calculating all the Fibonacci numbers because it keeps calculating Fibonacci numbers until it reaches the desired goal, in this case 1000. Here is the code using a while loop."
   ]
  },
  {
   "cell_type": "code",
   "execution_count": 14,
   "metadata": {
    "ExecuteTime": {
     "end_time": "2019-04-23T13:03:47.668989Z",
     "start_time": "2019-04-23T13:03:47.665207Z"
    }
   },
   "outputs": [
    {
     "name": "stdout",
     "output_type": "stream",
     "text": [
      "0\n",
      "1\n",
      "1\n",
      "2\n",
      "3\n",
      "5\n",
      "8\n",
      "13\n",
      "21\n",
      "34\n",
      "55\n",
      "89\n",
      "144\n",
      "233\n",
      "377\n",
      "610\n",
      "987\n"
     ]
    }
   ],
   "source": [
    "x, y = 0, 1 \n",
    "while x < 1000:\n",
    "    print(x)\n",
    "    x, y = y, x+y"
   ]
  },
  {
   "cell_type": "markdown",
   "metadata": {},
   "source": [
    "***\n",
    "### Loops and array operations\n",
    "\n",
    "Loops are often used to sequentially modify the elements of an array. For example, suppose we want to square each element of the array *a = np.linspace(0, 32, 1e7)*. This is a hefty array with 10 million elements. Nevertheless, the following loop does the trick."
   ]
  },
  {
   "cell_type": "code",
   "execution_count": 8,
   "metadata": {
    "ExecuteTime": {
     "end_time": "2019-04-23T08:36:55.060284Z",
     "start_time": "2019-04-23T08:36:51.703624Z"
    }
   },
   "outputs": [
    {
     "name": "stderr",
     "output_type": "stream",
     "text": [
      "/Users/fci/anaconda3/lib/python3.6/site-packages/ipykernel_launcher.py:2: DeprecationWarning: object of type <class 'float'> cannot be safely interpreted as an integer.\n",
      "  \n"
     ]
    },
    {
     "name": "stdout",
     "output_type": "stream",
     "text": [
      "[0.00000000e+00 3.20000032e-06 6.40000064e-06 ... 3.19999936e+01\n",
      " 3.19999968e+01 3.20000000e+01]\n",
      "[0.00000000e+00 1.02400020e-11 4.09600082e-11 ... 1.02399959e+03\n",
      " 1.02399980e+03 1.02400000e+03]\n"
     ]
    }
   ],
   "source": [
    "import numpy as np\n",
    "a = np.linspace(0, 32, 1e7) \n",
    "print(a)\n",
    "for i in range(len(a)):\n",
    "    a[i] = a[i]*a[i]\n",
    "print(a)"
   ]
  },
  {
   "cell_type": "markdown",
   "metadata": {},
   "source": [
    "Running this on my computer returns the result in about 6 seconds—not bad for having performed 10 million multiplications. Of course we could have performed the same calculation using the array multiplication we learned in Lecture 1 (Strings, Lists, Arrays, and Dictionaries). Here is the code."
   ]
  },
  {
   "cell_type": "code",
   "execution_count": 15,
   "metadata": {
    "ExecuteTime": {
     "end_time": "2017-05-05T12:56:10.305487+02:00",
     "start_time": "2017-05-05T12:56:10.145623"
    }
   },
   "outputs": [
    {
     "name": "stdout",
     "output_type": "stream",
     "text": [
      "[  0.00000000e+00   3.20000032e-06   6.40000064e-06 ...,   3.19999936e+01\n",
      "   3.19999968e+01   3.20000000e+01]\n",
      "[  0.00000000e+00   1.02400020e-11   4.09600082e-11 ...,   1.02399959e+03\n",
      "   1.02399980e+03   1.02400000e+03]\n"
     ]
    }
   ],
   "source": [
    "import numpy as np\n",
    "a = np.linspace(0, 32, 1e7)\n",
    "print(a)\n",
    "a = a*a\n",
    "print(a)"
   ]
  },
  {
   "cell_type": "markdown",
   "metadata": {},
   "source": [
    "Running this on my computer returns the results in 190 millisecond. This illustrates an important point: **for loops are slow**. Array operations run much faster and are therefore to be preferred in any case where you have a choice. Sometimes finding an array operation that is equivalent to a loop can be difficult, especially for a novice. Nevertheless, doing so pays rich rewards in execution time. Moreover, the array notation is usually simpler and clearer, providing further reasons to prefer array operations over loops."
   ]
  },
  {
   "cell_type": "markdown",
   "metadata": {},
   "source": [
    "***\n",
    "### List Comprehensions\n",
    "\n",
    "List comprehensions are a special feature of core Python for processing and constructing lists. We introduce them here because they use a looping process. They are used quite commonly in Python coding and they often provide elegant compact solutions to some common computing tasks."
   ]
  },
  {
   "cell_type": "code",
   "execution_count": 56,
   "metadata": {
    "ExecuteTime": {
     "end_time": "2017-05-05T12:57:16.150512+02:00",
     "start_time": "2017-05-05T12:57:16.145993"
    },
    "collapsed": true,
    "jupyter": {
     "outputs_hidden": true
    }
   },
   "outputs": [],
   "source": [
    "x = [[1, 2, 3], [4, 5, 6], [7, 8, 9]]"
   ]
  },
  {
   "cell_type": "markdown",
   "metadata": {},
   "source": [
    "\n",
    "Suppose we want to construct a vector from the diagonal elements of this matrix. We could do so with a for loop with an accumulator as follows"
   ]
  },
  {
   "cell_type": "code",
   "execution_count": 57,
   "metadata": {
    "ExecuteTime": {
     "end_time": "2017-05-05T12:57:19.901645+02:00",
     "start_time": "2017-05-05T12:57:19.896263"
    },
    "collapsed": true,
    "jupyter": {
     "outputs_hidden": true
    }
   },
   "outputs": [],
   "source": [
    "diag = []\n",
    "for i in [0, 1, 2]:\n",
    "    diag.append(x[i][i])"
   ]
  },
  {
   "cell_type": "code",
   "execution_count": 58,
   "metadata": {
    "ExecuteTime": {
     "end_time": "2017-05-05T12:57:21.253789+02:00",
     "start_time": "2017-05-05T12:57:21.245228"
    }
   },
   "outputs": [
    {
     "data": {
      "text/plain": [
       "[1, 5, 9]"
      ]
     },
     "execution_count": 58,
     "metadata": {},
     "output_type": "execute_result"
    }
   ],
   "source": [
    "diag"
   ]
  },
  {
   "cell_type": "markdown",
   "metadata": {},
   "source": [
    "List comprehensions provide a simpler, cleaner, and faster way of doing the same thing"
   ]
  },
  {
   "cell_type": "code",
   "execution_count": 59,
   "metadata": {
    "ExecuteTime": {
     "end_time": "2017-05-05T12:57:24.198203+02:00",
     "start_time": "2017-05-05T12:57:24.194066"
    },
    "collapsed": true,
    "jupyter": {
     "outputs_hidden": true
    }
   },
   "outputs": [],
   "source": [
    "diagLC = [x[i][i] for i in [0, 1, 2]]"
   ]
  },
  {
   "cell_type": "code",
   "execution_count": 60,
   "metadata": {
    "ExecuteTime": {
     "end_time": "2017-05-05T08:40:09.794081+02:00",
     "start_time": "2017-05-05T08:40:09.788522"
    }
   },
   "outputs": [
    {
     "data": {
      "text/plain": [
       "[1, 5, 9]"
      ]
     },
     "execution_count": 60,
     "metadata": {},
     "output_type": "execute_result"
    }
   ],
   "source": [
    "diagLC"
   ]
  },
  {
   "cell_type": "markdown",
   "metadata": {},
   "source": [
    "They can be used for fast computations as well. Here *y* serves as a dummy to access the elements in *diagLC*."
   ]
  },
  {
   "cell_type": "code",
   "execution_count": 61,
   "metadata": {
    "ExecuteTime": {
     "end_time": "2017-05-04T20:51:09.334472+02:00",
     "start_time": "2017-05-04T20:51:09.328459"
    }
   },
   "outputs": [
    {
     "data": {
      "text/plain": [
       "[1, 25, 81]"
      ]
     },
     "execution_count": 61,
     "metadata": {},
     "output_type": "execute_result"
    }
   ],
   "source": [
    "[y*y for y in diagLC]"
   ]
  },
  {
   "cell_type": "markdown",
   "metadata": {},
   "source": [
    "Obtaining a column is not as simple, but a list comprehension makes it quite straightforward:"
   ]
  },
  {
   "cell_type": "code",
   "execution_count": 62,
   "metadata": {
    "ExecuteTime": {
     "end_time": "2017-05-04T20:49:27.277538+02:00",
     "start_time": "2017-05-04T20:49:27.265646"
    },
    "collapsed": true,
    "jupyter": {
     "outputs_hidden": true
    }
   },
   "outputs": [],
   "source": [
    "c1 = [a[1] for a in x]"
   ]
  },
  {
   "cell_type": "code",
   "execution_count": 63,
   "metadata": {
    "ExecuteTime": {
     "end_time": "2017-05-04T20:49:29.472941+02:00",
     "start_time": "2017-05-04T20:49:29.465771"
    }
   },
   "outputs": [
    {
     "data": {
      "text/plain": [
       "[2, 5, 8]"
      ]
     },
     "execution_count": 63,
     "metadata": {},
     "output_type": "execute_result"
    }
   ],
   "source": [
    "c1"
   ]
  },
  {
   "cell_type": "code",
   "execution_count": 64,
   "metadata": {
    "ExecuteTime": {
     "end_time": "2017-05-04T20:51:22.076599+02:00",
     "start_time": "2017-05-04T20:51:22.070277"
    },
    "scrolled": true
   },
   "outputs": [
    {
     "data": {
      "text/plain": [
       "[2, 5, 8]"
      ]
     },
     "execution_count": 64,
     "metadata": {},
     "output_type": "execute_result"
    }
   ],
   "source": [
    "[x[i][1] for i in range(3)]"
   ]
  },
  {
   "cell_type": "markdown",
   "metadata": {},
   "source": [
    "Suppose you have a list of numbers and you want to extract all the elements of the list that are divisible by three. A slightly fancier list comprehension accomplishes the task quite simply and demonstrates a new feature:"
   ]
  },
  {
   "cell_type": "code",
   "execution_count": 65,
   "metadata": {
    "ExecuteTime": {
     "end_time": "2017-05-04T20:52:23.132075+02:00",
     "start_time": "2017-05-04T20:52:23.124942"
    },
    "scrolled": true
   },
   "outputs": [
    {
     "data": {
      "text/plain": [
       "[-3, 27, -9]"
      ]
     },
     "execution_count": 65,
     "metadata": {},
     "output_type": "execute_result"
    }
   ],
   "source": [
    "y=[-5,-3,1,7,4,23,27,-9,11,41]\n",
    "[a for a in y if a%3==0]"
   ]
  },
  {
   "cell_type": "markdown",
   "metadata": {},
   "source": [
    "**Exercise**\n",
    "\n",
    "Write a program to calculate the factorial of a positive integer input by the user. Recall that the factorial function is given by x! = x(x − 1)(x − 2)...(2)(1) so that 1! = 1, 2! = 2, 3! = 6, 4! = 24, ...\n",
    "\n",
    "- Write the factorial function using a Python while loop.\n",
    "- Write the factorial function using a Python for loop.\n",
    "\n",
    "Check your programs to make sure they work for 1, 2, 3, 5, and beyond, but especially for the first 5 integers."
   ]
  },
  {
   "cell_type": "code",
   "execution_count": 66,
   "metadata": {
    "collapsed": true,
    "jupyter": {
     "outputs_hidden": true
    }
   },
   "outputs": [],
   "source": [
    "# code goes here"
   ]
  },
  {
   "cell_type": "markdown",
   "metadata": {},
   "source": [
    "***\n",
    "## Functions\n",
    "<a href=\"#top\">Jump to top</a>\n",
    "\n",
    "### User-defined functions\n",
    "\n",
    "Every function definition begins with the word def followed by the name you want to give to the function, sinc in this case, then a list of arguments enclosed in parentheses, and finally terminated with a colon. In this case there is only one argument, x, but in general there can be as many arguments as you want, including no arguments at all. For the moment, we will consider just the case of a single argument.\n",
    "The indented block of code following the first line defines what the function does. In this case, the first line calculates $sinc(x) = \\sin(x)/x$ and sets it equal to y. The return statement of the last line tells Python to return the value of y to the user."
   ]
  },
  {
   "cell_type": "code",
   "execution_count": null,
   "metadata": {
    "ExecuteTime": {
     "end_time": "2017-05-05T09:30:34.880396+02:00",
     "start_time": "2017-05-05T09:30:34.876226"
    },
    "collapsed": true,
    "jupyter": {
     "outputs_hidden": true
    }
   },
   "outputs": [],
   "source": [
    "def sinc(x):\n",
    "    y = np.sin(x)/x\n",
    "    return y"
   ]
  },
  {
   "cell_type": "markdown",
   "metadata": {
    "ExecuteTime": {
     "end_time": "2017-05-04T20:58:43.947223+02:00",
     "start_time": "2017-05-04T20:58:43.941528"
    }
   },
   "source": [
    "**Exercise**\n",
    "\n",
    "The above defined function delivers a false value at a certain point. Find the error and correct the function appropriately."
   ]
  },
  {
   "cell_type": "code",
   "execution_count": null,
   "metadata": {
    "ExecuteTime": {
     "end_time": "2017-05-04T20:57:13.310001+02:00",
     "start_time": "2017-05-04T20:57:13.303773"
    },
    "collapsed": true,
    "jupyter": {
     "outputs_hidden": true
    }
   },
   "outputs": [],
   "source": [
    "# code goes here"
   ]
  },
  {
   "cell_type": "markdown",
   "metadata": {},
   "source": [
    "The code for *sinc(x)* works just fine when the argument is a single number or a variable that represents a single number. However, if the argument is a NumPy array, we run into a problem, as illustrated below."
   ]
  },
  {
   "cell_type": "code",
   "execution_count": null,
   "metadata": {
    "ExecuteTime": {
     "end_time": "2017-05-04T20:59:31.508953+02:00",
     "start_time": "2017-05-04T20:59:31.499227"
    },
    "collapsed": true,
    "jupyter": {
     "outputs_hidden": true
    }
   },
   "outputs": [],
   "source": [
    " x = np.arange(0, 5., 0.5)"
   ]
  },
  {
   "cell_type": "code",
   "execution_count": null,
   "metadata": {
    "ExecuteTime": {
     "end_time": "2017-05-04T20:59:37.511483+02:00",
     "start_time": "2017-05-04T20:59:37.490497"
    },
    "collapsed": true,
    "jupyter": {
     "outputs_hidden": true
    }
   },
   "outputs": [],
   "source": [
    "sinc(x)"
   ]
  },
  {
   "cell_type": "markdown",
   "metadata": {},
   "source": [
    "The if statement in Python is set up to evaluate the truth value of a single variable, not of multielement arrays. When Python is asked to evaluate the truth value for a multi-element array, it doesn’t know what to do and therefore returns an error. An obvious way to handle this problem is to write the code so that it processes the array one element at a time, which you could do using a for loop, as illustrated below.\n"
   ]
  },
  {
   "cell_type": "code",
   "execution_count": null,
   "metadata": {
    "ExecuteTime": {
     "end_time": "2017-05-05T13:06:57.179141+02:00",
     "start_time": "2017-05-05T13:06:57.172597"
    },
    "collapsed": true,
    "jupyter": {
     "outputs_hidden": true
    }
   },
   "outputs": [],
   "source": [
    "def sinc(x): \n",
    "    y = []\n",
    "    for xx in x:\n",
    "        if xx==0.0:\n",
    "            y+=[1.0]\n",
    "        else: # adds result of sin(xx)/xx to y list if\n",
    "            y+=[np.sin(xx)/xx] # xx is not zero\n",
    "    return np.array(y) # converts y to array and returns array\n",
    "\n"
   ]
  },
  {
   "cell_type": "code",
   "execution_count": null,
   "metadata": {
    "ExecuteTime": {
     "end_time": "2017-05-05T13:06:58.043149+02:00",
     "start_time": "2017-05-05T13:06:57.926189"
    },
    "collapsed": true,
    "jupyter": {
     "outputs_hidden": true
    }
   },
   "outputs": [],
   "source": [
    "import numpy as np\n",
    "import matplotlib.pyplot as plt\n",
    "\n",
    "\n",
    "\n",
    "x = np.linspace(-10, 10, 256)\n",
    "y = sinc(x)\n",
    "\n",
    "plt.plot(x, y)\n",
    "plt.axhline(color=\"gray\", zorder=-1)\n",
    "plt.axvline(color=\"gray\", zorder=-1)\n",
    "plt.show()"
   ]
  },
  {
   "cell_type": "markdown",
   "metadata": {
    "ExecuteTime": {
     "end_time": "2017-05-04T21:02:52.507056+02:00",
     "start_time": "2017-05-04T21:02:52.501042"
    }
   },
   "source": [
    "***\n",
    "### Faster Array Processing\n",
    "\n",
    "While using loops to process arrays works just fine, it is usually not the best way to accomplish the task in Python. The reason is that loops in Python are executed rather slowly. To deal with this problem, the developers of NumPy introduced a number of functions designed to process arrays quickly and efficiently. For the present case, what we need is a conditional statement or function that can process arrays directly. The function we want is called where and it is a part of the NumPy library. There where function has the form\n",
    "\n",
    "~~~\n",
    "where(condition, output if True, output if False)\n",
    "~~~\n",
    "\n",
    "e first argument of the where function is a conditional statement involving an array. The where function applies the condition to the array element by element, and returns the second argument for those array elements for which the condition is True, and returns the third argument for those array elements that are False. We can apply it to the sinc(x) function as follows"
   ]
  },
  {
   "cell_type": "code",
   "execution_count": null,
   "metadata": {
    "ExecuteTime": {
     "end_time": "2017-05-05T09:01:04.515651+02:00",
     "start_time": "2017-05-05T09:01:04.511390"
    },
    "collapsed": true,
    "jupyter": {
     "outputs_hidden": true
    }
   },
   "outputs": [],
   "source": [
    "def sinc(x):\n",
    "    z = np.where(x==0.0, 1.0, np.sin(x)/x)\n",
    "    return(z)"
   ]
  },
  {
   "cell_type": "markdown",
   "metadata": {},
   "source": [
    "The where function creates the array y and sets the elements of y equal to 1.0 where the corresponding elements of x are zero, and otherwise sets the corresponding elements to sin(x)/x. This code executes much faster, 25 to 100 times, depending on the size of the array, than the code using a for loop. Moreover, the new code is much simpler to write and read."
   ]
  },
  {
   "cell_type": "markdown",
   "metadata": {},
   "source": [
    "***\n",
    "###  Functions with more than one input or output\n",
    "Python functions can have any number of input arguments and can return any number of variables. For example, suppose you want a function that outputs n (x, y) coordinates around a circle of radius r centered at the point (x0 , y0 ). The inputs to the function would be r, x0, y0, and n. The outputs would be the n (x, y) coordinates. The following code implements this function."
   ]
  },
  {
   "cell_type": "code",
   "execution_count": null,
   "metadata": {
    "ExecuteTime": {
     "end_time": "2017-05-04T21:08:29.797637+02:00",
     "start_time": "2017-05-04T21:08:29.791193"
    },
    "collapsed": true,
    "jupyter": {
     "outputs_hidden": true
    }
   },
   "outputs": [],
   "source": [
    "def circle(r, x0, y0, n):\n",
    "    theta = np.linspace(0., 2.*np.pi, n, endpoint=False)\n",
    "    x = r * np.cos(theta)\n",
    "    y = r * np.sin(theta)\n",
    "    return x0+x, y0+y"
   ]
  },
  {
   "cell_type": "markdown",
   "metadata": {},
   "source": [
    "This function has four inputs and two outputs. In this case, the four inputs are simple numeric variables and the two outputs are NumPy arrays. In general, the inputs and outputs can be any combination of data types: arrays, lists, strings, etc. Of course, the body of the function must be written to be consistent with the prescribed data types.\n",
    "Functions can also return nothing to the calling program but just perform some task. For example, here is a program that clears the terminal screen\n",
    "\n",
    "***\n",
    "### Positional and keyword arguments\n",
    "\n",
    "It is often useful to have function arguments that have some default setting. This happens when you want an input to a function to have some standard value or setting most of the time, but you would like to reserve the possibility of giving it some value other than the default value."
   ]
  },
  {
   "cell_type": "code",
   "execution_count": 4,
   "metadata": {
    "collapsed": true,
    "jupyter": {
     "outputs_hidden": true
    }
   },
   "outputs": [],
   "source": [
    "import numpy as np\n",
    "def circle(r, x0=0.0, y0=0.0, n=12):\n",
    "    theta = np.linspace(0., 2.*np.pi, n, endpoint=False)\n",
    "    x = r * np.cos(theta)\n",
    "    y = r * np.sin(theta)\n",
    "    return x0+x, y0+y"
   ]
  },
  {
   "cell_type": "markdown",
   "metadata": {},
   "source": [
    "The default values of the arguments x0, y0, and n are specified in the argument of the function definition in the def line. Arguments whose default values are specified in this manner are called keyword arguments, and they can be omitted from the function call if the user is content using those values."
   ]
  },
  {
   "cell_type": "code",
   "execution_count": 16,
   "metadata": {},
   "outputs": [
    {
     "data": {
      "text/plain": [
       "(array([ 3.00000000e+00,  2.59807621e+00,  1.50000000e+00,  1.83697020e-16,\n",
       "        -1.50000000e+00, -2.59807621e+00, -3.00000000e+00, -2.59807621e+00,\n",
       "        -1.50000000e+00, -5.51091060e-16,  1.50000000e+00,  2.59807621e+00]),\n",
       " array([ 0.00000000e+00,  1.50000000e+00,  2.59807621e+00,  3.00000000e+00,\n",
       "         2.59807621e+00,  1.50000000e+00,  3.67394040e-16, -1.50000000e+00,\n",
       "        -2.59807621e+00, -3.00000000e+00, -2.59807621e+00, -1.50000000e+00]))"
      ]
     },
     "execution_count": 16,
     "metadata": {},
     "output_type": "execute_result"
    }
   ],
   "source": [
    "circle(3)"
   ]
  },
  {
   "cell_type": "markdown",
   "metadata": {},
   "source": [
    "***\n",
    "### Variable number of arguments\n",
    "\n",
    "\n",
    "While it may seem odd, it is sometimes useful to leave the number of arguments unspecified. A simple example is a function that computes the product of an arbitrary number of numbers:"
   ]
  },
  {
   "cell_type": "code",
   "execution_count": 214,
   "metadata": {
    "ExecuteTime": {
     "end_time": "2017-05-05T09:13:36.354856+02:00",
     "start_time": "2017-05-05T09:13:36.349269"
    },
    "collapsed": true,
    "jupyter": {
     "outputs_hidden": true
    }
   },
   "outputs": [],
   "source": [
    "def product(*args):\n",
    "    print(\"args = {}\".format(args))\n",
    "    p = 1\n",
    "    for num in args:\n",
    "        p *= num\n",
    "    return p"
   ]
  },
  {
   "cell_type": "markdown",
   "metadata": {},
   "source": [
    "The print(\"args...) statement in the function definition is not necessary, of course, but is put in to show that the argument args is a tuple inside the function. Here it used because one does not know ahead of time how many numbers are to be multiplied together.\n",
    "\n",
    "The *args argument is also quite useful in another context: when passing the name of a function as an argument in another function. In many cases, the function name that is passed may have a number of parameters that must also be passed but aren’t known ahead of time. If this all sounds a bit confusing—functions calling other functions—a concrete example will help you understand.\n",
    "\n"
   ]
  },
  {
   "cell_type": "code",
   "execution_count": 9,
   "metadata": {
    "ExecuteTime": {
     "end_time": "2018-06-15T20:19:53.172584Z",
     "start_time": "2018-06-15T20:19:53.170299Z"
    },
    "collapsed": true,
    "jupyter": {
     "outputs_hidden": true
    }
   },
   "outputs": [],
   "source": [
    "def f1(x, a, p): \n",
    "        return a*x**p"
   ]
  },
  {
   "cell_type": "code",
   "execution_count": 10,
   "metadata": {
    "ExecuteTime": {
     "end_time": "2018-06-15T20:19:53.828545Z",
     "start_time": "2018-06-15T20:19:53.825982Z"
    },
    "collapsed": true,
    "jupyter": {
     "outputs_hidden": true
    }
   },
   "outputs": [],
   "source": [
    "def test(f, x, h=2, *params):    \n",
    "    return f(x+h,*params)"
   ]
  },
  {
   "cell_type": "code",
   "execution_count": 11,
   "metadata": {
    "ExecuteTime": {
     "end_time": "2018-06-15T20:19:54.904707Z",
     "start_time": "2018-06-15T20:19:54.901071Z"
    }
   },
   "outputs": [
    {
     "data": {
      "text/plain": [
       "125"
      ]
     },
     "execution_count": 11,
     "metadata": {},
     "output_type": "execute_result"
    }
   ],
   "source": [
    "test(f1, 3, 2, 1, 3)"
   ]
  },
  {
   "cell_type": "markdown",
   "metadata": {
    "ExecuteTime": {
     "end_time": "2017-05-05T13:10:58.571227+02:00",
     "start_time": "2017-05-05T13:10:58.565775"
    }
   },
   "source": [
    "The order of the parameters is important. The function *test* uses x, the first argument of f1, as its principal argument, and then uses *a* and *p*, in the same order that they are defined in the function f1, to fill in the additional arguments—the parameters—of the function f1.\n"
   ]
  },
  {
   "cell_type": "markdown",
   "metadata": {},
   "source": [
    "***\n",
    "## Numerical differentiation\n",
    "\n",
    "We want to use our current knowledge of python and in particular also functions to start with some very useful thing for our physical modeling: * Numerical Differentiation *. What we want to calculate, is the derivative of a function $f(x)$ where the function values are given at certain positions $x_{i}$. Since we do not want to calculate the symbolic derivative, we have to get along with an numerical approximation. This can be obtained by looking at the definition of the derivative, i.e. the first derivative \n",
    "\n",
    "\\begin{equation}\n",
    "f^{\\prime}(x)=\\lim_{\\delta x->0}\\frac{f(x+\\delta x)-f(x)}{\\delta x}\n",
    "\\end{equation}\n",
    "\n",
    "If the function values are given at the positions $x_{i}$ with $\\delta x_{i}=x_{i+1}-x_{i}$, the an approximate value of the first derivative can be found from \n",
    "\n",
    "\\begin{equation}\n",
    "f^{\\prime}(x_{i})\\approx\\frac{f(x+\\delta x)-f(x)}{\\delta x}=\\frac{f(x_{i+1})-f(x_{i})}{x_{i+1}-x_{i}}\n",
    "\\end{equation}\n",
    "\n",
    "This already delivers a good approximation of the first derivative of a function as we see in the next examples. At frist we want to use our knowledge of multiple arguments and functions as an argument.\n",
    "\n",
    "Suppose we have the following function that numerically computes the value of the derivative of an arbitrary function $f(x)$:\n",
    "\n"
   ]
  },
  {
   "cell_type": "code",
   "execution_count": 224,
   "metadata": {
    "ExecuteTime": {
     "end_time": "2017-05-05T09:15:34.249414+02:00",
     "start_time": "2017-05-05T09:15:34.245158"
    },
    "collapsed": true,
    "jupyter": {
     "outputs_hidden": true
    }
   },
   "outputs": [],
   "source": [
    "def deriv(f, x, h=1.e-9, *params):\n",
    "    return (f(x+h, *params)-f(x-h, *params))/(2.*h)"
   ]
  },
  {
   "cell_type": "markdown",
   "metadata": {},
   "source": [
    "where our function shall be given by:"
   ]
  },
  {
   "cell_type": "code",
   "execution_count": 225,
   "metadata": {
    "ExecuteTime": {
     "end_time": "2017-05-05T09:15:34.750923+02:00",
     "start_time": "2017-05-05T09:15:34.745826"
    },
    "collapsed": true,
    "jupyter": {
     "outputs_hidden": true
    }
   },
   "outputs": [],
   "source": [
    "def f0(x):\n",
    "    return 4.*x**2"
   ]
  },
  {
   "cell_type": "code",
   "execution_count": 226,
   "metadata": {
    "ExecuteTime": {
     "end_time": "2017-05-05T13:11:10.321698+02:00",
     "start_time": "2017-05-05T13:11:10.316118"
    }
   },
   "outputs": [
    {
     "data": {
      "text/plain": [
       "24.000001985768904"
      ]
     },
     "execution_count": 226,
     "metadata": {},
     "output_type": "execute_result"
    }
   ],
   "source": [
    "deriv(f0,3)"
   ]
  },
  {
   "cell_type": "code",
   "execution_count": 227,
   "metadata": {
    "collapsed": true,
    "jupyter": {
     "outputs_hidden": true
    }
   },
   "outputs": [],
   "source": [
    "x=np.linspace(0,5,100)"
   ]
  },
  {
   "cell_type": "code",
   "execution_count": 228,
   "metadata": {
    "collapsed": true,
    "jupyter": {
     "outputs_hidden": true
    }
   },
   "outputs": [],
   "source": [
    "y=f0(x)\n",
    "yp=deriv(f0,x)"
   ]
  },
  {
   "cell_type": "code",
   "execution_count": 229,
   "metadata": {},
   "outputs": [
    {
     "data": {
      "text/plain": [
       "<matplotlib.legend.Legend at 0x152b290860>"
      ]
     },
     "execution_count": 229,
     "metadata": {},
     "output_type": "execute_result"
    },
    {
     "data": {
      "image/png": "[encoded data removed]",
      "text/plain": [
       "<Figure size 432x288 with 1 Axes>"
      ]
     },
     "metadata": {
      "image/png": {
       "height": 280,
       "width": 415
      }
     },
     "output_type": "display_data"
    }
   ],
   "source": [
    "plot(x,y,label='original')\n",
    "plot(x,yp,label='derivative')\n",
    "plt.xlabel('x')\n",
    "plt.ylabel('$y$, $y^{\\prime}$')\n",
    "legend()"
   ]
  },
  {
   "cell_type": "markdown",
   "metadata": {},
   "source": [
    "### More differentiation\n",
    "\n",
    "\n",
    "While the above method is good for calculating the derivative of a function if this function is given at certain values, we will later often encounter the situation, that we want to solve a differential equation. As we will see later, this may involve the solution of the Schrödinger equation for an harmonic oscillator or a band structure. \n",
    "\n",
    "\\begin{equation}\n",
    "H\\Psi=(T+U)\\Psi\n",
    "\\end{equation}\n",
    "\n",
    "where $T$ and $U$ are the kinetic and potential energies and $H$ is the Hamilton operator.\n",
    "For solving these systems of equations numerically at certain positions (or times) in space (time), it is sometimes usefult to represent a discretized version of the derivatives in form of a matrix.\n",
    "Such a matrix can be efficiently generated with various python modules. Here we will use the *scipy.sparse* module, which is a module which generated sparse matrices. \n",
    "\n",
    "If we consider the above finite difference formulas for a set of positions $x_{i}$, we can represent the derivative at these positions by matrix operation as well:\n",
    "\n",
    "$f^{\\prime}=\\frac{1}{\\delta x}\n",
    "\\begin{bmatrix}\n",
    "-1 & 1  & 0 & 0 & 0 & 0\\\\\n",
    " 0 & -1 & 1 & 0 & 0 & 0\\\\\n",
    " 0 & 0  & -1 & 1 & 0 & 0\\\\\n",
    " 0 & 0  & 0  & -1 & 1 & 0\\\\\n",
    " 0 & 0  & 0  &  0 & -1 & 1\\\\\n",
    " 0 & 0  & 0  &  0 &  0 & -1\\\\\n",
    "\\end{bmatrix}\n",
    "\\begin{bmatrix}\n",
    "x_{1}\\\\\n",
    "x_{2}\\\\\n",
    "x_{3}\\\\\n",
    "x_{4}\\\\\n",
    "x_{5}\\\\\n",
    "x_{6}\n",
    "\\end{bmatrix}\n",
    "=\n",
    "\\begin{bmatrix}\n",
    "(x_{2}-x_{1})/\\delta x\\\\\n",
    "(x_{3}-x_{2})/\\delta x\\\\\n",
    "(x_{4}-x_{3})/\\delta x\\\\\n",
    "(x_{5}-x_{4})/\\delta x\\\\\n",
    "(x_{6}-x_{5})/\\delta x\\\\\n",
    "(0-x_{6})/\\delta x\\\\\n",
    "\\end{bmatrix}$\n",
    "\n",
    "Each row of the matrix multiplied by the vector containing the positions is then containing the derivative of the function $f$ at the position $x_{i}$ and the resulting vector represents the deravitave in a certain position region."
   ]
  },
  {
   "cell_type": "code",
   "execution_count": 191,
   "metadata": {
    "collapsed": true,
    "jupyter": {
     "outputs_hidden": true
    }
   },
   "outputs": [],
   "source": [
    "import numpy as np\n",
    "from scipy.sparse import diags\n",
    "from scipy.sparse.linalg import eigsh\n",
    "import matplotlib.pyplot as plt"
   ]
  },
  {
   "cell_type": "code",
   "execution_count": 196,
   "metadata": {
    "collapsed": true,
    "jupyter": {
     "outputs_hidden": true
    }
   },
   "outputs": [],
   "source": [
    "x=np.linspace(-5,5,100)\n",
    "y=x**2"
   ]
  },
  {
   "cell_type": "markdown",
   "metadata": {},
   "source": [
    "We can construct such a matrix for the first derivative with the help of the [*diags* function](https://docs.scipy.org/doc/scipy/reference/generated/scipy.sparse.diags.html) of the *scipy.sparse* module. The *diags* function uses a set of numbers, that shoud be distributed along the diagonal of the matrix. If you supply a list like in the example below, the numbers are distributed using the offsets as defined in the second list. The *shape* keyword defines the shape of the matrix. Try the example in the over next cell with the *.todense()* suffix. This converts the otherwise unreadable sparse output to a readable matrix form."
   ]
  },
  {
   "cell_type": "code",
   "execution_count": 206,
   "metadata": {
    "collapsed": true,
    "jupyter": {
     "outputs_hidden": true
    }
   },
   "outputs": [],
   "source": [
    "m=diags([-1., 0., 1.], [0,-1, 1],shape=(100,100))/(x[1]-x[0])"
   ]
  },
  {
   "cell_type": "code",
   "execution_count": 207,
   "metadata": {},
   "outputs": [
    {
     "data": {
      "text/plain": [
       "matrix([[-1.,  1.,  0.,  0.,  0.,  0.,  0.,  0.,  0.,  0.],\n",
       "        [ 0., -1.,  1.,  0.,  0.,  0.,  0.,  0.,  0.,  0.],\n",
       "        [ 0.,  0., -1.,  1.,  0.,  0.,  0.,  0.,  0.,  0.],\n",
       "        [ 0.,  0.,  0., -1.,  1.,  0.,  0.,  0.,  0.,  0.],\n",
       "        [ 0.,  0.,  0.,  0., -1.,  1.,  0.,  0.,  0.,  0.],\n",
       "        [ 0.,  0.,  0.,  0.,  0., -1.,  1.,  0.,  0.,  0.],\n",
       "        [ 0.,  0.,  0.,  0.,  0.,  0., -1.,  1.,  0.,  0.],\n",
       "        [ 0.,  0.,  0.,  0.,  0.,  0.,  0., -1.,  1.,  0.],\n",
       "        [ 0.,  0.,  0.,  0.,  0.,  0.,  0.,  0., -1.,  1.],\n",
       "        [ 0.,  0.,  0.,  0.,  0.,  0.,  0.,  0.,  0., -1.]])"
      ]
     },
     "execution_count": 207,
     "metadata": {},
     "output_type": "execute_result"
    }
   ],
   "source": [
    "diags([-1., 0., 1.], [0,-1, 1],shape=(10,10)).todense()"
   ]
  },
  {
   "cell_type": "markdown",
   "metadata": {},
   "source": [
    "If this matrix is now multiplied from the right with a vector of function values $f(x_{i})$, you obtain the corresponding derivatives. "
   ]
  },
  {
   "cell_type": "code",
   "execution_count": 208,
   "metadata": {
    "collapsed": true,
    "jupyter": {
     "outputs_hidden": true
    }
   },
   "outputs": [],
   "source": [
    "diff=m*y"
   ]
  },
  {
   "cell_type": "code",
   "execution_count": 211,
   "metadata": {},
   "outputs": [
    {
     "data": {
      "image/png": "[encoded data removed]",
      "text/plain": [
       "<Figure size 432x288 with 1 Axes>"
      ]
     },
     "metadata": {
      "image/png": {
       "height": 299,
       "width": 417
      }
     },
     "output_type": "display_data"
    }
   ],
   "source": [
    "plt.plot(x[:-1],diff[:-1],label='$f^{\\prime}$')\n",
    "plt.plot(x,y,label='$f(x)=x^{2}$')\n",
    "plt.xlabel('x')\n",
    "plt.ylabel('$f$, $f^{\\prime}$')\n",
    "plt.legend()\n",
    "plt.title('Function and Numerical Derivative')\n",
    "plt.savefig('derivative.pdf', format='pdf')"
   ]
  },
  {
   "cell_type": "markdown",
   "metadata": {},
   "source": [
    "Similar to what we did above with the first derivative, we can also obtain a version for the second derivative according to the finite differences for the second derivative:\n",
    "\n",
    "\\begin{equation}\n",
    "f^{''}\\approx\\frac{f(x+\\delta x)-2f(x)+f(x-\\delta x)}{\\delta x^{2}}\n",
    "\\end{equation}"
   ]
  },
  {
   "cell_type": "code",
   "execution_count": 213,
   "metadata": {},
   "outputs": [
    {
     "data": {
      "text/plain": [
       "matrix([[-2.,  1.,  0.,  0.,  0.,  0.,  0.,  0.,  0.,  0.],\n",
       "        [ 1., -2.,  1.,  0.,  0.,  0.,  0.,  0.,  0.,  0.],\n",
       "        [ 0.,  1., -2.,  1.,  0.,  0.,  0.,  0.,  0.,  0.],\n",
       "        [ 0.,  0.,  1., -2.,  1.,  0.,  0.,  0.,  0.,  0.],\n",
       "        [ 0.,  0.,  0.,  1., -2.,  1.,  0.,  0.,  0.,  0.],\n",
       "        [ 0.,  0.,  0.,  0.,  1., -2.,  1.,  0.,  0.,  0.],\n",
       "        [ 0.,  0.,  0.,  0.,  0.,  1., -2.,  1.,  0.,  0.],\n",
       "        [ 0.,  0.,  0.,  0.,  0.,  0.,  1., -2.,  1.,  0.],\n",
       "        [ 0.,  0.,  0.,  0.,  0.,  0.,  0.,  1., -2.,  1.],\n",
       "        [ 0.,  0.,  0.,  0.,  0.,  0.,  0.,  0.,  1., -2.]])"
      ]
     },
     "execution_count": 213,
     "metadata": {},
     "output_type": "execute_result"
    }
   ],
   "source": [
    "diags([-2., 1., 1.], [0,-1, 1], shape=(10, 10)).todense()"
   ]
  },
  {
   "cell_type": "markdown",
   "metadata": {},
   "source": [
    "Equivalently, you may also find a general form for higher order finite difference which can be found [here](https://en.wikipedia.org/wiki/Finite_difference)."
   ]
  }
 ],
 "metadata": {
  "anaconda-cloud": {},
  "hide_input": false,
  "kernelspec": {
   "display_name": "Python 3",
   "language": "python",
   "name": "python3"
  },
  "language_info": {
   "codemirror_mode": {
    "name": "ipython",
    "version": 3
   },
   "file_extension": ".py",
   "mimetype": "text/x-python",
   "name": "python",
   "nbconvert_exporter": "python",
   "pygments_lexer": "ipython3",
   "version": "3.7.6"
  },
  "latex_envs": {
   "LaTeX_envs_menu_present": true,
   "autoclose": false,
   "autocomplete": true,
   "bibliofile": "biblio.bib",
   "cite_by": "apalike",
   "current_citInitial": 1,
   "eqLabelWithNumbers": true,
   "eqNumInitial": 1,
   "hotkeys": {
    "equation": "Ctrl-E",
    "itemize": "Ctrl-I"
   },
   "labels_anchors": false,
   "latex_user_defs": false,
   "report_style_numbering": true,
   "user_envs_cfg": false
  },
  "toc": {
   "colors": {
    "hover_highlight": "#DAA520",
    "running_highlight": "#FF0000",
    "selected_highlight": "#FFD700"
   },
   "moveMenuLeft": true,
   "nav_menu": {
    "height": "12px",
    "width": "252px"
   },
   "navigate_menu": true,
   "number_sections": true,
   "sideBar": true,
   "threshold": 4,
   "toc_cell": true,
   "toc_section_display": "block",
   "toc_window_display": false,
   "widenNotebook": false
  },
  "varInspector": {
   "cols": {
    "lenName": 16,
    "lenType": 16,
    "lenVar": 40
   },
   "kernels_config": {
    "python": {
     "delete_cmd_postfix": "",
     "delete_cmd_prefix": "del ",
     "library": "var_list.py",
     "varRefreshCmd": "print(var_dic_list())"
    },
    "r": {
     "delete_cmd_postfix": ") ",
     "delete_cmd_prefix": "rm(",
     "library": "var_list.r",
     "varRefreshCmd": "cat(var_dic_list()) "
    }
   },
   "types_to_exclude": [
    "module",
    "function",
    "builtin_function_or_method",
    "instance",
    "_Feature"
   ],
   "window_display": false
  },
  "widgets": {
   "application/vnd.jupyter.widget-state+json": {
    "state": {},
    "version_major": 2,
    "version_minor": 0
   }
  }
 },
 "nbformat": 4,
 "nbformat_minor": 4
}
