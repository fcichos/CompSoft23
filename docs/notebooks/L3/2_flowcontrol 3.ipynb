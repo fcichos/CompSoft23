{
 "cells": [
  {
   "cell_type": "markdown",
   "metadata": {
    "slideshow": {
     "slide_type": "slide"
    }
   },
   "source": [
    "# Flow Control"
   ]
  },
  {
   "cell_type": "code",
   "execution_count": 42,
   "metadata": {
    "ExecuteTime": {
     "end_time": "2019-04-23T12:57:22.018368Z",
     "start_time": "2019-04-23T12:57:22.002149Z"
    },
    "slideshow": {
     "slide_type": "skip"
    }
   },
   "outputs": [],
   "source": [
    "# include the required modules\n",
    "\n",
    "import numpy as np\n",
    "import matplotlib.pyplot as plt\n",
    "\n",
    "#%config InlineBackend.figure_format = 'retina' \n",
    "\n",
    "plt.rcParams.update({'font.size': 12,\n",
    "                     'axes.titlesize': 18,\n",
    "                     'axes.labelsize': 16,\n",
    "                     'axes.labelpad': 14,\n",
    "                     'lines.linewidth': 1,\n",
    "                     'lines.markersize': 10,\n",
    "                     'xtick.labelsize' : 16,\n",
    "                     'ytick.labelsize' : 16,\n",
    "                     'xtick.top' : True,\n",
    "                     'xtick.direction' : 'in',\n",
    "                     'ytick.right' : True,\n",
    "                     'ytick.direction' : 'in',}) "
   ]
  },
  {
   "cell_type": "markdown",
   "metadata": {
    "slideshow": {
     "slide_type": "subslide"
    },
    "toc-hr-collapsed": true
   },
   "source": [
    "## Conditionals: if, elif, and else statements"
   ]
  },
  {
   "cell_type": "markdown",
   "metadata": {
    "slideshow": {
     "slide_type": "fragment"
    }
   },
   "source": [
    "\n",
    "The `if`, `elif`, and `else` statements are used to define conditionals in Python.  The `if` keyword is followed by a condition, i.e. a logical comparison, which can either be **true** or **false**.   We\n",
    "illustrate their use with a few examples.\n"
   ]
  },
  {
   "cell_type": "markdown",
   "metadata": {
    "slideshow": {
     "slide_type": "fragment"
    }
   },
   "source": [
    "<div class=\"alert alert-info\">\n",
    "\n",
    "**Note:** code blocks in if and loop statements\n",
    "   \n",
    "Python uses colons (`:`) to indicate that that a code block belonging to the `if` statement follows. The code block starting on the next line is idented with whitespace (often four spaces) to structure conditional statements. If the condition is True, the indented code block after the colon (`:`) is executed. The code block may contain several lines of code with identical identation:\n",
    "\n",
    "```\n",
    "    \n",
    "number = 42\n",
    "\n",
    "if number ==  42:\n",
    "    print('This is the answer to  life,')\n",
    "    print('the universe')\n",
    "    print('and everything.')\n",
    "\n",
    "```    \n",
    "    \n",
    "Wrong identation will yield an `IndentationError` or a `SyntaxError`.\n",
    "\n",
    "\n",
    "</div>"
   ]
  },
  {
   "cell_type": "markdown",
   "metadata": {
    "ExecuteTime": {
     "end_time": "2017-05-04T20:25:25.500222+02:00",
     "start_time": "2017-05-04T20:25:25.494364"
    },
    "slideshow": {
     "slide_type": "subslide"
    }
   },
   "source": [
    "### If example"
   ]
  },
  {
   "cell_type": "code",
   "execution_count": 60,
   "metadata": {
    "ExecuteTime": {
     "end_time": "2019-04-23T12:58:29.972678Z",
     "start_time": "2019-04-23T12:57:28.123755Z"
    },
    "slideshow": {
     "slide_type": "fragment"
    }
   },
   "outputs": [
    {
     "name": "stdout",
     "output_type": "stream",
     "text": [
      "Please input a number: -5\n",
      "The absolute value is 5\n"
     ]
    }
   ],
   "source": [
    "a = eval(input(\"Please input a number: \"))\n",
    "\n",
    "if a < 0:\n",
    "    a = -a\n",
    "\n",
    "    print(\"The absolute value is {0}\".format(a))"
   ]
  },
  {
   "cell_type": "markdown",
   "metadata": {
    "slideshow": {
     "slide_type": "subslide"
    }
   },
   "source": [
    "### If else example"
   ]
  },
  {
   "cell_type": "code",
   "execution_count": 62,
   "metadata": {
    "ExecuteTime": {
     "end_time": "2019-04-23T08:36:30.886585Z",
     "start_time": "2019-04-23T08:36:28.863909Z"
    },
    "slideshow": {
     "slide_type": "fragment"
    }
   },
   "outputs": [
    {
     "name": "stdout",
     "output_type": "stream",
     "text": [
      "Please input an integer: 9\n",
      "9 is an odd number.\n"
     ]
    }
   ],
   "source": [
    "a = int(input(\"Please input an integer: \"))\n",
    "if a%2 == 0:\n",
    "    print(\"{0:0d} is an even number.\".format(a))\n",
    "else:\n",
    "    print(\"{0:0d} is an odd number.\".format(a))"
   ]
  },
  {
   "cell_type": "markdown",
   "metadata": {
    "slideshow": {
     "slide_type": "subslide"
    }
   },
   "source": [
    "### If, elif, else example"
   ]
  },
  {
   "cell_type": "markdown",
   "metadata": {
    "slideshow": {
     "slide_type": "fragment"
    }
   },
   "source": [
    "Suppose we want to know if the solutions to the quadratic equation\n",
    "\n",
    "\\begin{equation}\n",
    "ax^2+bx+c=0\n",
    "\\end{equation}\n",
    "\n",
    "are real, imaginary, or complex for a given set of coefficients a, b, and c. Of course, the answer to that question depends on the value of the discriminant \n",
    "$d = b^2 − 4ac$. The solutions are real if $d \\ge 0$, imaginary if $b=0$ and $d < 0$,and complex if $b\\ne 0$ and $d < 0$. The program below implements the above logic in a Python program. Each part of these statements has a code block to be executed. The code block to be executed is discriminated from the others by an indentation. Usually this is done with a *tab*, which indents 4 characters. You can either insert 4 spaces or press *tab*. Play around with the *tab* to get a feeling how the Jupyter notebook responds to that.\n",
    "\n"
   ]
  },
  {
   "cell_type": "code",
   "execution_count": 64,
   "metadata": {
    "ExecuteTime": {
     "end_time": "2019-04-23T08:36:38.334238Z",
     "start_time": "2019-04-23T08:36:35.527738Z"
    },
    "slideshow": {
     "slide_type": "subslide"
    }
   },
   "outputs": [
    {
     "name": "stdout",
     "output_type": "stream",
     "text": [
      "What is the coefficients a? 4\n",
      "What is the coefficients b? 1\n",
      "What is the coefficients c? 1\n",
      "Solutions are complex\n",
      "Finished!\n"
     ]
    }
   ],
   "source": [
    "a = float(input(\"What is the coefficients a? \"))\n",
    "b = float(input(\"What is the coefficients b? \"))\n",
    "c = float(input(\"What is the coefficients c? \"))\n",
    "d = b*b - 4.*a*c\n",
    "\n",
    "if d >= 0.0:\n",
    "    print(\"Solutions are real\")\n",
    "elif b == 0.0:\n",
    "    print(\"Solutions are imaginary\")\n",
    "else:\n",
    "    print(\"Solutions are complex\")\n",
    "    print(\"Finished!\")\n"
   ]
  },
  {
   "cell_type": "markdown",
   "metadata": {
    "slideshow": {
     "slide_type": "subslide"
    }
   },
   "source": [
    "### Combining conditions"
   ]
  },
  {
   "cell_type": "markdown",
   "metadata": {
    "slideshow": {
     "slide_type": "fragment"
    }
   },
   "source": [
    "Multiple conditions may be combined with the logical operators `and`, `or`."
   ]
  },
  {
   "cell_type": "code",
   "execution_count": 66,
   "metadata": {
    "slideshow": {
     "slide_type": "fragment"
    }
   },
   "outputs": [
    {
     "name": "stdout",
     "output_type": "stream",
     "text": [
      "Both parts are true\n"
     ]
    }
   ],
   "source": [
    "if (1 > 0) and (5 > 0):\n",
    "     print('Both parts are true')\n",
    "else:\n",
    "     print('At least one part is not true')"
   ]
  },
  {
   "cell_type": "code",
   "execution_count": 67,
   "metadata": {
    "slideshow": {
     "slide_type": "fragment"
    }
   },
   "outputs": [
    {
     "name": "stdout",
     "output_type": "stream",
     "text": [
      "At least one test is true\n"
     ]
    }
   ],
   "source": [
    "if (1 < 0) or (-1 < 0):\n",
    "    print('At least one test is true')"
   ]
  },
  {
   "cell_type": "markdown",
   "metadata": {
    "slideshow": {
     "slide_type": "subslide"
    }
   },
   "source": [
    "**Let's return to our example about making decisions on a rainy day ☔.** Imagine that we consider not only the rain, but also whether or not it is windy. If it is windy or raining, we’ll just stay at home. If it's not windy or raining, we can go out and enjoy the weather! Let's try to solve this problem using Python:"
   ]
  },
  {
   "cell_type": "code",
   "execution_count": 68,
   "metadata": {
    "slideshow": {
     "slide_type": "fragment"
    }
   },
   "outputs": [
    {
     "name": "stdout",
     "output_type": "stream",
     "text": [
      "Just stay at home\n"
     ]
    }
   ],
   "source": [
    "weather = 'rain'\n",
    "wind = 'windy'\n",
    "\n",
    "if (weather == 'rain') or (wind == 'windy'):\n",
    "    print('Just stay at home')\n",
    "else:\n",
    "    print('Go out and enjoy the weather! :)')"
   ]
  },
  {
   "cell_type": "markdown",
   "metadata": {
    "slideshow": {
     "slide_type": "subslide"
    },
    "toc-hr-collapsed": false
   },
   "source": [
    "## Loops\n",
    "In computer programming a loop is statement or block of statements that is executed repeatedly. Python has two kinds of loops, a `for` loop and a `while` loop. "
   ]
  },
  {
   "cell_type": "markdown",
   "metadata": {
    "slideshow": {
     "slide_type": "subslide"
    }
   },
   "source": [
    "### For loops\n",
    "\n",
    "The general form of a for loop in Python is\n",
    "\n",
    "~~~\n",
    " for <itervar> in <sequence>: \n",
    "     <body> \n",
    "~~~\n",
    "\n",
    "where `<intervar>` is a variable `<sequence>` is a sequence such as list or string or array, and `<body>` is a series of Python commands to be executed repeatedly for each element in the `<sequence>`. The `<body>` is indented from the rest of the text, which difines the extent of the loop. Let’s look at a few examples."
   ]
  },
  {
   "cell_type": "code",
   "execution_count": 69,
   "metadata": {
    "ExecuteTime": {
     "end_time": "2019-04-23T08:36:46.524042Z",
     "start_time": "2019-04-23T08:36:46.520376Z"
    },
    "slideshow": {
     "slide_type": "fragment"
    }
   },
   "outputs": [
    {
     "name": "stdout",
     "output_type": "stream",
     "text": [
      "Max\n",
      " Arf, arf!\n",
      "Molly\n",
      " Arf, arf!\n",
      "Buster\n",
      " Arf, arf!\n",
      "Maggie\n",
      " Arf, arf!\n",
      "Lucy\n",
      " Arf, arf!\n",
      "All done.\n"
     ]
    }
   ],
   "source": [
    "for dogname in [\"Max\", \"Molly\", \"Buster\", \"Maggie\", \"Lucy\"]: \n",
    "    print(dogname)\n",
    "    print(\" Arf, arf!\") \n",
    "print(\"All done.\")"
   ]
  },
  {
   "cell_type": "markdown",
   "metadata": {
    "slideshow": {
     "slide_type": "subslide"
    }
   },
   "source": [
    "When iterating through lists like in the example before, it is sometimes useful to have the index of the list element also available. Therefore the `enumerate` function is very useful."
   ]
  },
  {
   "cell_type": "code",
   "execution_count": 70,
   "metadata": {
    "slideshow": {
     "slide_type": "fragment"
    }
   },
   "outputs": [
    {
     "name": "stdout",
     "output_type": "stream",
     "text": [
      "0 . Max\n",
      " Arf, arf!\n",
      "1 . Molly\n",
      " Arf, arf!\n",
      "2 . Buster\n",
      " Arf, arf!\n",
      "3 . Maggie\n",
      " Arf, arf!\n",
      "4 . Lucy\n",
      " Arf, arf!\n",
      "All done.\n"
     ]
    }
   ],
   "source": [
    "for index,dogname in enumerate([\"Max\", \"Molly\", \"Buster\", \"Maggie\", \"Lucy\"]): \n",
    "    print(index,'.',dogname)\n",
    "    print(\" Arf, arf!\") \n",
    "print(\"All done.\")"
   ]
  },
  {
   "cell_type": "code",
   "execution_count": 71,
   "metadata": {
    "ExecuteTime": {
     "end_time": "2019-04-23T08:36:47.803222Z",
     "start_time": "2019-04-23T08:36:47.799419Z"
    },
    "slideshow": {
     "slide_type": "fragment"
    }
   },
   "outputs": [
    {
     "name": "stdout",
     "output_type": "stream",
     "text": [
      "2500\n"
     ]
    }
   ],
   "source": [
    "s=0\n",
    "for i in np.arange(1, 100, 2):\n",
    "    s = s+i \n",
    "print(s)"
   ]
  },
  {
   "cell_type": "code",
   "execution_count": 72,
   "metadata": {
    "ExecuteTime": {
     "end_time": "2019-04-23T08:36:48.421359Z",
     "start_time": "2019-04-23T08:36:48.304285Z"
    },
    "slideshow": {
     "slide_type": "fragment"
    }
   },
   "outputs": [
    {
     "data": {
      "text/plain": [
       "2500"
      ]
     },
     "execution_count": 72,
     "metadata": {},
     "output_type": "execute_result"
    }
   ],
   "source": [
    "np.sum(np.arange(1, 100, 2))"
   ]
  },
  {
   "cell_type": "markdown",
   "metadata": {
    "slideshow": {
     "slide_type": "subslide"
    }
   },
   "source": [
    "### While loops\n",
    "\n",
    "The general form of a while loop in Python is\n",
    "\n",
    "~~~\n",
    "while <condition>: \n",
    "    <body>\n",
    "~~~\n",
    "   \n",
    "where < condition > is a statement that can be either *True* or *False* and < body > is a series of Python commands that is executed repeatedly until < condition > becomes *false*. This means that somewhere in < body >, the truth value of < condition > must be changed so that it becomes *false* after a finite number of iterations. This is one of the great dangers of a while loop, that accidentially the condition might never become *false* and your loop runs forever.  "
   ]
  },
  {
   "cell_type": "markdown",
   "metadata": {
    "slideshow": {
     "slide_type": "subslide"
    }
   },
   "source": [
    "Consider the following example. Suppose you want to calculate all the Fibonacci numbers smaller than 1000. The Fibonacci numbers are determined by starting with the integers 0 and 1. The next number in the sequence is the sum of the previous two. So, starting with 0 and 1, the next Fibonacci number is 0 + 1 = 1, giving the sequence 0, 1, 1. Continuing this process, we obtain 0, 1, 1, 2, 3, 5, 8, ... where each element in the list is the sum of the previous two. Using a for loop to calculate the Fibonacci numbers is impractical because we do not know ahead of time how many Fibonacci numbers there are smaller than 1000. By contrast a while loop is perfect for calculating all the Fibonacci numbers because it keeps calculating Fibonacci numbers until it reaches the desired goal, in this case 1000. Here is the code using a while loop."
   ]
  },
  {
   "cell_type": "code",
   "execution_count": 73,
   "metadata": {
    "ExecuteTime": {
     "end_time": "2019-04-23T13:03:47.668989Z",
     "start_time": "2019-04-23T13:03:47.665207Z"
    },
    "slideshow": {
     "slide_type": "fragment"
    }
   },
   "outputs": [
    {
     "name": "stdout",
     "output_type": "stream",
     "text": [
      "0\n",
      "1\n",
      "1\n",
      "2\n",
      "3\n",
      "5\n",
      "8\n",
      "13\n",
      "21\n",
      "34\n",
      "55\n",
      "89\n",
      "144\n",
      "233\n",
      "377\n",
      "610\n",
      "987\n"
     ]
    }
   ],
   "source": [
    "x, y = 0, 1 \n",
    "while x < 1000:\n",
    "    print(x)\n",
    "    x, y = y, x+y"
   ]
  },
  {
   "cell_type": "markdown",
   "metadata": {
    "slideshow": {
     "slide_type": "subslide"
    }
   },
   "source": [
    "### Loops and array operations\n",
    "\n",
    "Loops are often used to sequentially modify the elements of an array. For example, suppose we want to square each element of the array *a = np.linspace(0, 32, 1e7)*. This is a hefty array with 10 million elements. Nevertheless, the following loop does the trick."
   ]
  },
  {
   "cell_type": "code",
   "execution_count": 74,
   "metadata": {
    "ExecuteTime": {
     "end_time": "2019-04-23T08:36:55.060284Z",
     "start_time": "2019-04-23T08:36:51.703624Z"
    },
    "slideshow": {
     "slide_type": "fragment"
    }
   },
   "outputs": [
    {
     "name": "stdout",
     "output_type": "stream",
     "text": [
      "[0.00000000e+00 3.20000032e-06 6.40000064e-06 ... 3.19999936e+01\n",
      " 3.19999968e+01 3.20000000e+01]\n",
      "[0.00000000e+00 1.02400020e-11 4.09600082e-11 ... 1.02399959e+03\n",
      " 1.02399980e+03 1.02400000e+03]\n"
     ]
    }
   ],
   "source": [
    "a = np.linspace(0, 32, int(1e7)) \n",
    "print(a)\n",
    "for i in range(len(a)):\n",
    "    a[i] = a[i]*a[i]\n",
    "print(a)"
   ]
  },
  {
   "cell_type": "markdown",
   "metadata": {
    "slideshow": {
     "slide_type": "subslide"
    }
   },
   "source": [
    "Running this on my computer returns the result in about 6 seconds—not bad for having performed 10 million multiplications. Of course we could have performed the same calculation using the array multiplication we learned in Lecture 1 (Strings, Lists, Arrays, and Dictionaries). Here is the code."
   ]
  },
  {
   "cell_type": "code",
   "execution_count": 75,
   "metadata": {
    "ExecuteTime": {
     "end_time": "2017-05-05T12:56:10.305487+02:00",
     "start_time": "2017-05-05T12:56:10.145623"
    },
    "slideshow": {
     "slide_type": "fragment"
    }
   },
   "outputs": [
    {
     "name": "stdout",
     "output_type": "stream",
     "text": [
      "[0.00000000e+00 3.20000032e-06 6.40000064e-06 ... 3.19999936e+01\n",
      " 3.19999968e+01 3.20000000e+01]\n",
      "[0.00000000e+00 1.02400020e-11 4.09600082e-11 ... 1.02399959e+03\n",
      " 1.02399980e+03 1.02400000e+03]\n"
     ]
    }
   ],
   "source": [
    "import numpy as np\n",
    "a = np.linspace(0, 32, int(1e7))\n",
    "print(a)\n",
    "a = a*a\n",
    "print(a)"
   ]
  },
  {
   "cell_type": "markdown",
   "metadata": {
    "slideshow": {
     "slide_type": "fragment"
    }
   },
   "source": [
    "Running this on my computer returns the results in 190 millisecond. This illustrates an important point: **for loops are slow**. Array operations run much faster and are therefore to be preferred in any case where you have a choice. Sometimes finding an array operation that is equivalent to a loop can be difficult, especially for a novice. Nevertheless, doing so pays rich rewards in execution time. Moreover, the array notation is usually simpler and clearer, providing further reasons to prefer array operations over loops."
   ]
  },
  {
   "cell_type": "markdown",
   "metadata": {
    "slideshow": {
     "slide_type": "subslide"
    }
   },
   "source": [
    "### List comprehensions\n",
    "\n",
    "List comprehensions are a special feature of core Python for processing and constructing lists. We introduce them here because they use a looping process. They are used quite commonly in Python coding and they often provide elegant compact solutions to some common computing tasks."
   ]
  },
  {
   "cell_type": "code",
   "execution_count": 76,
   "metadata": {
    "ExecuteTime": {
     "end_time": "2017-05-05T12:57:16.150512+02:00",
     "start_time": "2017-05-05T12:57:16.145993"
    },
    "slideshow": {
     "slide_type": "fragment"
    }
   },
   "outputs": [],
   "source": [
    "x = [[1, 2, 3], [4, 5, 6], [7, 8, 9]]"
   ]
  },
  {
   "cell_type": "markdown",
   "metadata": {
    "slideshow": {
     "slide_type": "subslide"
    }
   },
   "source": [
    "\n",
    "Suppose we want to construct a vector from the diagonal elements of this matrix. We could do so with a for loop with an accumulator as follows"
   ]
  },
  {
   "cell_type": "code",
   "execution_count": 77,
   "metadata": {
    "ExecuteTime": {
     "end_time": "2017-05-05T12:57:19.901645+02:00",
     "start_time": "2017-05-05T12:57:19.896263"
    },
    "slideshow": {
     "slide_type": "fragment"
    }
   },
   "outputs": [],
   "source": [
    "diag = []\n",
    "for i in [0, 1, 2]:\n",
    "    diag.append(x[i][i])"
   ]
  },
  {
   "cell_type": "code",
   "execution_count": 79,
   "metadata": {
    "ExecuteTime": {
     "end_time": "2017-05-05T12:57:21.253789+02:00",
     "start_time": "2017-05-05T12:57:21.245228"
    },
    "slideshow": {
     "slide_type": "fragment"
    }
   },
   "outputs": [
    {
     "data": {
      "text/plain": [
       "[1, 5, 9]"
      ]
     },
     "execution_count": 79,
     "metadata": {},
     "output_type": "execute_result"
    }
   ],
   "source": [
    "diag"
   ]
  },
  {
   "cell_type": "markdown",
   "metadata": {
    "slideshow": {
     "slide_type": "subslide"
    }
   },
   "source": [
    "List comprehensions provide a simpler, cleaner, and faster way of doing the same thing"
   ]
  },
  {
   "cell_type": "code",
   "execution_count": 80,
   "metadata": {
    "ExecuteTime": {
     "end_time": "2017-05-05T12:57:24.198203+02:00",
     "start_time": "2017-05-05T12:57:24.194066"
    },
    "slideshow": {
     "slide_type": "fragment"
    }
   },
   "outputs": [],
   "source": [
    "diagLC = [x[i][i] for i in [0, 1, 2]]"
   ]
  },
  {
   "cell_type": "code",
   "execution_count": 81,
   "metadata": {
    "ExecuteTime": {
     "end_time": "2017-05-05T08:40:09.794081+02:00",
     "start_time": "2017-05-05T08:40:09.788522"
    },
    "slideshow": {
     "slide_type": "fragment"
    }
   },
   "outputs": [
    {
     "data": {
      "text/plain": [
       "[1, 5, 9]"
      ]
     },
     "execution_count": 81,
     "metadata": {},
     "output_type": "execute_result"
    }
   ],
   "source": [
    "diagLC"
   ]
  },
  {
   "cell_type": "markdown",
   "metadata": {
    "slideshow": {
     "slide_type": "subslide"
    }
   },
   "source": [
    "They can be used for fast computations as well. Here *y* serves as a dummy to access the elements in *diagLC*."
   ]
  },
  {
   "cell_type": "code",
   "execution_count": 82,
   "metadata": {
    "ExecuteTime": {
     "end_time": "2017-05-04T20:51:09.334472+02:00",
     "start_time": "2017-05-04T20:51:09.328459"
    },
    "slideshow": {
     "slide_type": "fragment"
    }
   },
   "outputs": [
    {
     "data": {
      "text/plain": [
       "[1, 25, 81]"
      ]
     },
     "execution_count": 82,
     "metadata": {},
     "output_type": "execute_result"
    }
   ],
   "source": [
    "[y*y for y in diagLC]"
   ]
  },
  {
   "cell_type": "markdown",
   "metadata": {
    "slideshow": {
     "slide_type": "subslide"
    }
   },
   "source": [
    "Obtaining a column is not as simple, but a list comprehension makes it quite straightforward:"
   ]
  },
  {
   "cell_type": "code",
   "execution_count": 83,
   "metadata": {
    "ExecuteTime": {
     "end_time": "2017-05-04T20:49:27.277538+02:00",
     "start_time": "2017-05-04T20:49:27.265646"
    },
    "slideshow": {
     "slide_type": "fragment"
    }
   },
   "outputs": [],
   "source": [
    "c1 = [a[1] for a in x]"
   ]
  },
  {
   "cell_type": "code",
   "execution_count": 84,
   "metadata": {
    "ExecuteTime": {
     "end_time": "2017-05-04T20:49:29.472941+02:00",
     "start_time": "2017-05-04T20:49:29.465771"
    },
    "slideshow": {
     "slide_type": "fragment"
    }
   },
   "outputs": [
    {
     "data": {
      "text/plain": [
       "[2, 5, 8]"
      ]
     },
     "execution_count": 84,
     "metadata": {},
     "output_type": "execute_result"
    }
   ],
   "source": [
    "c1"
   ]
  },
  {
   "cell_type": "code",
   "execution_count": 57,
   "metadata": {
    "ExecuteTime": {
     "end_time": "2017-05-04T20:51:22.076599+02:00",
     "start_time": "2017-05-04T20:51:22.070277"
    },
    "slideshow": {
     "slide_type": "fragment"
    }
   },
   "outputs": [
    {
     "data": {
      "text/plain": [
       "[2, 5, 8]"
      ]
     },
     "execution_count": 57,
     "metadata": {},
     "output_type": "execute_result"
    }
   ],
   "source": [
    "[x[i][1] for i in range(3)]"
   ]
  },
  {
   "cell_type": "markdown",
   "metadata": {
    "slideshow": {
     "slide_type": "subslide"
    }
   },
   "source": [
    "Suppose you have a list of numbers and you want to extract all the elements of the list that are divisible by three. A slightly fancier list comprehension accomplishes the task quite simply and demonstrates a new feature:"
   ]
  },
  {
   "cell_type": "code",
   "execution_count": 58,
   "metadata": {
    "ExecuteTime": {
     "end_time": "2017-05-04T20:52:23.132075+02:00",
     "start_time": "2017-05-04T20:52:23.124942"
    },
    "slideshow": {
     "slide_type": "fragment"
    }
   },
   "outputs": [
    {
     "data": {
      "text/plain": [
       "[-3, 27, -9]"
      ]
     },
     "execution_count": 58,
     "metadata": {},
     "output_type": "execute_result"
    }
   ],
   "source": [
    "y=[-5,-3,1,7,4,23,27,-9,11,41]\n",
    "[a for a in y if a%3==0]"
   ]
  }
 ],
 "metadata": {
  "anaconda-cloud": {},
  "celltoolbar": "Slideshow",
  "hide_input": false,
  "kernelspec": {
   "display_name": "Python 3",
   "language": "python",
   "name": "python3"
  },
  "language_info": {
   "codemirror_mode": {
    "name": "ipython",
    "version": 3
   },
   "file_extension": ".py",
   "mimetype": "text/x-python",
   "name": "python",
   "nbconvert_exporter": "python",
   "pygments_lexer": "ipython3",
   "version": "3.7.6"
  },
  "latex_envs": {
   "LaTeX_envs_menu_present": true,
   "autoclose": false,
   "autocomplete": true,
   "bibliofile": "biblio.bib",
   "cite_by": "apalike",
   "current_citInitial": 1,
   "eqLabelWithNumbers": true,
   "eqNumInitial": 1,
   "hotkeys": {
    "equation": "Ctrl-E",
    "itemize": "Ctrl-I"
   },
   "labels_anchors": false,
   "latex_user_defs": false,
   "report_style_numbering": true,
   "user_envs_cfg": false
  },
  "toc": {
   "colors": {
    "hover_highlight": "#DAA520",
    "running_highlight": "#FF0000",
    "selected_highlight": "#FFD700"
   },
   "moveMenuLeft": true,
   "nav_menu": {
    "height": "12px",
    "width": "252px"
   },
   "navigate_menu": true,
   "number_sections": true,
   "sideBar": true,
   "threshold": 4,
   "toc_cell": true,
   "toc_section_display": "block",
   "toc_window_display": false,
   "widenNotebook": false
  },
  "varInspector": {
   "cols": {
    "lenName": 16,
    "lenType": 16,
    "lenVar": 40
   },
   "kernels_config": {
    "python": {
     "delete_cmd_postfix": "",
     "delete_cmd_prefix": "del ",
     "library": "var_list.py",
     "varRefreshCmd": "print(var_dic_list())"
    },
    "r": {
     "delete_cmd_postfix": ") ",
     "delete_cmd_prefix": "rm(",
     "library": "var_list.r",
     "varRefreshCmd": "cat(var_dic_list()) "
    }
   },
   "types_to_exclude": [
    "module",
    "function",
    "builtin_function_or_method",
    "instance",
    "_Feature"
   ],
   "window_display": false
  },
  "widgets": {
   "application/vnd.jupyter.widget-state+json": {
    "state": {},
    "version_major": 2,
    "version_minor": 0
   }
  }
 },
 "nbformat": 4,
 "nbformat_minor": 4
}
