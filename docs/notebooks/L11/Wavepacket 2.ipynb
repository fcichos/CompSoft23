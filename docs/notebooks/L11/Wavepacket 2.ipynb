{
 "cells": [
  {
   "cell_type": "code",
   "execution_count": null,
   "metadata": {},
   "outputs": [],
   "source": [
    "import dask"
   ]
  },
  {
   "cell_type": "code",
   "execution_count": 3,
   "metadata": {},
   "outputs": [],
   "source": [
    "%matplotlib inline\n",
    "import matplotlib.pyplot as plt \n",
    "import scipy as sp\n",
    "from scipy.sparse import linalg as ln\n",
    "from scipy import sparse as sparse\n",
    "import matplotlib.animation as animation"
   ]
  },
  {
   "cell_type": "code",
   "execution_count": 7,
   "metadata": {},
   "outputs": [],
   "source": [
    "class Wave_Packet:\n",
    "    def __init__(self, n_points, dt, sigma0=5.0, k0=1.0, x0=-150.0, x_begin=-200.0,\n",
    "                 x_end=200.0, barrier_height=1.0, barrier_width=3.0):\n",
    " \n",
    "        self.n_points = n_points\n",
    "        self.sigma0 = sigma0\n",
    "        self.k0 = k0\n",
    "        self.x0 = x0\n",
    "        self.dt = dt\n",
    "        self.prob = sp.zeros(n_points)\n",
    "        self.barrier_width = barrier_width\n",
    "        self.barrier_height = barrier_height\n",
    "         \n",
    "        \"\"\" 1) Space discretization \"\"\"\n",
    "        self.x, self.dx = sp.linspace(x_begin, x_end, n_points, retstep=True)        \n",
    " \n",
    "        \"\"\" 2) Initialization of the wave function to Gaussian wave packet \"\"\"\n",
    "        norm = (2.0 * sp.pi * sigma0**2)**(-0.25)\n",
    "        self.psi = sp.exp(-(self.x - x0)**2 / (4.0 * sigma0**2))\n",
    "        self.psi *= sp.exp(1.0j * k0 * self.x)\n",
    "        self.psi *= (2.0 * sp.pi * sigma0**2)**(-0.25)\n",
    " \n",
    "        \"\"\" 3) Setting up the potential barrier \"\"\"\n",
    "        self.potential = sp.array(\n",
    "            [barrier_height if 0.0 < x < barrier_width else 0.0 for x in self.x])\n",
    " \n",
    "        \"\"\" 4) Creating the Hamiltonian \"\"\"\n",
    "        h_diag = sp.ones(n_points) / self.dx**2 + self.potential\n",
    "        h_non_diag = sp.ones(n_points - 1) * (-0.5 / self.dx**2)\n",
    "        hamiltonian = sparse.diags([h_diag, h_non_diag, h_non_diag], [0, 1, -1])\n",
    "         \n",
    "        \"\"\" 5) Computing the Crank-Nicolson time evolution matrix \"\"\"\n",
    "        implicit = (sparse.eye(self.n_points) - dt / 2.0j * hamiltonian).tocsc()\n",
    "        explicit = (sparse.eye(self.n_points) + dt / 2.0j * hamiltonian).tocsc() \n",
    "        self.evolution_matrix = ln.inv(implicit).dot(explicit).tocsr()"
   ]
  },
  {
   "cell_type": "code",
   "execution_count": null,
   "metadata": {},
   "outputs": [],
   "source": [
    "class Animator:\n",
    "    def __init__(self, wave_packet):\n",
    "        self.time = 0.0\n",
    "        self.wave_packet = wave_packet\n",
    "        self.fig, self.ax = plt.subplots()\n",
    "        plt.plot(self.wave_packet.x, self.wave_packet.potential * 0.1, color='r')\n",
    "         \n",
    "        self.time_text = self.ax.text(0.05, 0.95, '', horizontalalignment='left',\n",
    "            verticalalignment='top', transform=self.ax.transAxes)\n",
    "        self.line, = self.ax.plot(self.wave_packet.x, self.wave_packet.evolve())\n",
    "        self.ax.set_ylim(0, 0.2)\n",
    "        self.ax.set_xlabel('Position (a$_0$)')\n",
    "        self.ax.set_ylabel('Probability density (a$_0$)')\n",
    " \n",
    "    def update(self, data):\n",
    "        self.line.set_ydata(data)\n",
    "        return self.line,\n",
    "     \n",
    "    def time_step(self):\n",
    "        while True:\n",
    "            self.time += self.wave_packet.dt\n",
    "            self.time_text.set_text(\n",
    "                'Elapsed time: {:6.2f} fs'.format(self.time * 2.419e-2))\n",
    "           \n",
    "            yield self.wave_packet.evolve()\n",
    "     \n",
    "    def animate(self):\n",
    "        self.ani = animation.FuncAnimation(\n",
    "            self.fig, self.update, self.time_step, interval=5, blit=False)\n",
    " \n",
    " \n",
    "wave_packet = WavePacket(n_points=500, dt=0.5, barrier_width=10, barrier_height=1)\n",
    "animator = Animator(wave_packet)\n",
    "animator.animate()\n",
    "plt.show()"
   ]
  }
 ],
 "metadata": {
  "kernelspec": {
   "display_name": "Python 2",
   "language": "python",
   "name": "python2"
  },
  "language_info": {
   "codemirror_mode": {
    "name": "ipython",
    "version": 3
   },
   "file_extension": ".py",
   "mimetype": "text/x-python",
   "name": "python",
   "nbconvert_exporter": "python",
   "pygments_lexer": "ipython3",
   "version": "3.7.6"
  },
  "widgets": {
   "application/vnd.jupyter.widget-state+json": {
    "state": {},
    "version_major": 2,
    "version_minor": 0
   }
  }
 },
 "nbformat": 4,
 "nbformat_minor": 4
}
