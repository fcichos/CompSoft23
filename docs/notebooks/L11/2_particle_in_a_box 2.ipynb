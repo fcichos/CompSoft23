{
 "cells": [
  {
   "cell_type": "markdown",
   "metadata": {},
   "source": [
    "# Wavepacket in a Potential Box\n",
    "\n"
   ]
  },
  {
   "cell_type": "markdown",
   "metadata": {},
   "source": [
    "Lets have a look at a wavepacket in a potential box first. In this first part, we will solve the problem with with a set of "
   ]
  },
  {
   "cell_type": "code",
   "execution_count": 2,
   "metadata": {},
   "outputs": [],
   "source": [
    "import numpy as np\n",
    "import matplotlib.pyplot as plt\n",
    "from scipy.constants import *\n",
    "from scipy.sparse import diags\n",
    "from scipy.sparse.linalg import eigsh\n",
    "from scipy.fftpack import fft,ifft\n",
    "from time import sleep,time\n",
    "\n",
    "from ipycanvas import MultiCanvas, hold_canvas,Canvas\n",
    "\n",
    "\n",
    "%matplotlib inline\n",
    "%config InlineBackend.figure_format = 'retina'\n",
    "\n",
    "# default values for plotting\n",
    "plt.rcParams.update({'font.size': 16,\n",
    "                     'axes.titlesize': 18,\n",
    "                     'axes.labelsize': 16,\n",
    "                     'axes.labelpad': 14,\n",
    "                     'lines.linewidth': 1,\n",
    "                     'lines.markersize': 10,\n",
    "                     'xtick.labelsize' : 16,\n",
    "                     'ytick.labelsize' : 16,\n",
    "                     'xtick.top' : True,\n",
    "                     'xtick.direction' : 'in',\n",
    "                     'ytick.right' : True,\n",
    "                     'ytick.direction' : 'in',}) "
   ]
  },
  {
   "cell_type": "markdown",
   "metadata": {},
   "source": [
    "## Problem Setup"
   ]
  },
  {
   "cell_type": "markdown",
   "metadata": {},
   "source": [
    "The problem we want to tackle is no similar to the last lecture only that we are interested in the dynamics. \n",
    "\n",
    "![Particle_In_Box.png](Particle_In_Box.png)\n",
    "\n",
    "\n",
    "For a potential box with infinite walls and width $d$, the potential energy in the box can be set to zero. "
   ]
  },
  {
   "cell_type": "markdown",
   "metadata": {},
   "source": [
    "The Schrödinger equation within the box therefore reduces to\n",
    "\n",
    "\\begin{equation}\\label{eq:se}\n",
    "-i\\hbar\\frac{\\partial \\Psi}{\\partial t}=-\\frac{\\hbar^2}{2m}\\frac{\\partial^2}{\\partial x^2} \\Psi \n",
    "\\end{equation}\n",
    "\n",
    "The stationary solution of this problem with infinite walls are just standing waves with an appropriate wavevector such that the wavefunction at the boundaries $x=0$ and $x=d$ are just zero.\n",
    "\n",
    "\\begin{equation}\n",
    "\\Psi_{n}(x,t)= \\sqrt{\\frac{2}{d}} \\sin \\left(\\frac{n\\pi}{d}x\\right)\n",
    "\\end{equation}\n",
    "\n",
    "\n"
   ]
  },
  {
   "cell_type": "markdown",
   "metadata": {},
   "source": [
    "It turns out, that we can use these steady state solutions to construct any time dependent solution. We just have to sum many (to be exact infite) steady state solutions with specific amplitudes. \n",
    "\n",
    "\\begin{equation}\\label{eq:psi}\n",
    "\\Psi(x,t)=\\sum_{n=1}^\\infty C_n(t) \\sqrt{\\frac{2}{d}}\\sin\\left(\\frac{n\\pi}{d}x\\right)\n",
    "\\end{equation}\n",
    "\n",
    "The $sine$ function represents the corresponding boundary conditions, i.e. that $\\Psi(x=0)=0$ and $\\Psi(x=d)=0$. The time dependence of the wave function is encoded in the prefactors $C_n(t)$. Inserting  this solution into the Schrödinger equation  yields\n",
    "\n",
    "\\begin{equation}\n",
    "i\\sum_{n=1}^\\infty \\dot{C}_n(t) \\sqrt{\\frac{2}{d}}\\sin\\left(\\frac{n\\pi}{d}x\\right)=\\frac{\\hbar^2}{2m}\\sum_{n=1}^\\infty C_n(t) \\sqrt{\\frac{2}{d}}\\frac{n^2\\pi^2}{d^2}\\sin\\left(\\frac{n\\pi}{d}x\\right)\n",
    "\\end{equation}\n",
    "\n"
   ]
  },
  {
   "cell_type": "markdown",
   "metadata": {},
   "source": [
    "\n",
    "To obtain a differential equation for the coefficient $C_n(t)$ we multiply both sides of the latter equation with $\\sin\\left(\\frac{l\\pi}{d}x\\right)$ and integrate from $0$ to $d$. Doing this on the left side yields\n",
    "\n",
    "\\begin{equation}\n",
    "i\\int_{0}^{d} \\sum_{n=1}^\\infty \\dot{C}_n(t) \\frac{2}{d}\\sin\\left(\\frac{n\\pi}{d}x\\right)\\sin\\left(\\frac{l\\pi}{d}x\\right)dx\n",
    "\\end{equation}\n",
    "\n",
    "An equivalent operation can be carried out on the right side. The orthogonality of the $sine$-function basis yields only terms of the sum for $n=l$ and thus\n",
    "\n",
    "\\begin{equation}\\label{eq:deq}\n",
    "\\dot{C}_n(t)=-i\\frac{\\hbar k^2}{2m}C_n(t)\n",
    "\\end{equation}\n"
   ]
  },
  {
   "cell_type": "markdown",
   "metadata": {},
   "source": [
    "This differential equation can be solved by\n",
    "\n",
    "\\begin{equation}\n",
    "C_n(t)=C_{0n} e^{\\lambda t}\n",
    "\\end{equation}\n",
    "\n",
    "which finally yields \n",
    "\n",
    "\\begin{equation}\n",
    "\\lambda=-i\\frac{\\hbar k^2}{2m}=-i\\omega\n",
    "\\end{equation}\n",
    "\n",
    "with $k^2=\\frac{n^2\\pi^2}{d^2}$. "
   ]
  },
  {
   "cell_type": "markdown",
   "metadata": {},
   "source": [
    "Thus the final solution of the time dependent Schrödinger equation for a wave paket in a box potential reads\n",
    "\n",
    "\\begin{equation}\n",
    "\\Psi(x,t)=\\sum_{n=1}^\\infty C_{0n}\\sqrt{\\frac{2}{d}}  e^{-i\\frac{\\hbar n^2\\pi^2}{2m d^2}t} \\sin\\left(\\frac{n\\pi}{d}x\\right)\n",
    "\\end{equation}\n",
    "\n",
    "The only thing we have to determine then are the coefficients $C_{0n}$, which follow from the initial conditions $\\Psi(x,t=0)=\\Psi(x)$. "
   ]
  },
  {
   "cell_type": "markdown",
   "metadata": {},
   "source": [
    "## Initial conditions\n",
    "\n"
   ]
  },
  {
   "cell_type": "markdown",
   "metadata": {},
   "source": [
    "For this project $\\Psi(x,t=0)$ shall be assumed to be a Gaussian wave packet centered at a specific position in the box. Also other initial conditions such as triangular shaped wavepackets may be considered. Different states of the temporal evolution of the probability density of the wave packet shall be plotted and saved together with an animation of its time evolution. We will for simplicity assume that the mass of the particle is just 1."
   ]
  },
  {
   "cell_type": "code",
   "execution_count": 396,
   "metadata": {},
   "outputs": [],
   "source": [
    "def wave(x): # initial wave\n",
    "    sigma=0.1\n",
    "    return(np.exp(-(x-np.pi/2)**2/(2*sigma**2))*np.exp(1.0j * 1 * x)/np.sqrt(2*np.pi*sigma**2))"
   ]
  },
  {
   "cell_type": "markdown",
   "metadata": {},
   "source": [
    "Let's plot this wavefunction."
   ]
  },
  {
   "cell_type": "code",
   "execution_count": 399,
   "metadata": {},
   "outputs": [
    {
     "data": {
      "image/png": "[encoded data removed]",
      "text/plain": [
       "<Figure size 432x288 with 1 Axes>"
      ]
     },
     "metadata": {
      "image/png": {
       "height": 280,
       "width": 408
      },
      "needs_background": "light"
     },
     "output_type": "display_data"
    }
   ],
   "source": [
    "xp=np.linspace(0,np.pi,1000)\n",
    "plt.plot(xp,np.abs(wave(xp))**2)\n",
    "plt.xlabel('x-position')\n",
    "plt.ylabel('$|\\Psi(x)|^2$')\n",
    "plt.axvline(x=0,ls='--',color='k')\n",
    "plt.axvline(x=np.pi,ls='--',color='k')\n",
    "plt.show()"
   ]
  },
  {
   "cell_type": "markdown",
   "metadata": {},
   "source": [
    "### Eigenfunctions"
   ]
  },
  {
   "cell_type": "markdown",
   "metadata": {},
   "source": [
    "To obtain the initial wavepacket as a representation of eigenfunctions, we just need a function that generates the eigenfunctions of the stationary solution $\\Psi_{n}(x)$."
   ]
  },
  {
   "cell_type": "code",
   "execution_count": 400,
   "metadata": {},
   "outputs": [],
   "source": [
    "def eigen_f(x,n,d):\n",
    "    return(np.sin(n*np.pi*x/d)*np.sqrt(2/d))"
   ]
  },
  {
   "cell_type": "markdown",
   "metadata": {},
   "source": [
    "The initial conditions resemble the coefficients $C_{0n}$, which we obtain by calculating the integral\n",
    "\n",
    "\\begin{equation}\n",
    "C_{0n}=\\int_{0}^{d}\\Psi(x,t=0)\\Psi_{n}(x)dx\n",
    "\\end{equation}\n",
    "\n",
    "For that purpose, we just write a simple function `integrate` that integrates with our box method. `integrate` takes as arguments the function to integrate, the boundaries for the integration as well as additional parameters for the function.\n"
   ]
  },
  {
   "cell_type": "code",
   "execution_count": 401,
   "metadata": {},
   "outputs": [],
   "source": [
    "def integrate(fun,a,b,*params):\n",
    "    N=10000\n",
    "    x=np.linspace(0,np.pi,N)\n",
    "    fu=fun(x)*eigen_f(x,*params)\n",
    "    return(np.sum(fu)*np.abs(a-b)/N)"
   ]
  },
  {
   "cell_type": "markdown",
   "metadata": {},
   "source": [
    "With the help of this function, we can calculate an array of initial coefficients $C_{0n}$ for a certain number of of eigenfunctions. "
   ]
  },
  {
   "cell_type": "code",
   "execution_count": 404,
   "metadata": {},
   "outputs": [],
   "source": [
    "def init(x,num):\n",
    "    c0n=np.zeros(num,dtype=complex)\n",
    "    for n in range(len(c0n)):\n",
    "        c0n[n]=integrate(wave,0,np.pi,n,np.pi)\n",
    "    return(c0n)"
   ]
  },
  {
   "cell_type": "markdown",
   "metadata": {},
   "source": [
    "The values are then calculated by the `init` function and stored in the array `c0n`. Let us try 20 eigenfunctions for the moment."
   ]
  },
  {
   "cell_type": "code",
   "execution_count": 405,
   "metadata": {},
   "outputs": [],
   "source": [
    "xp=np.linspace(0,np.pi,1000)\n",
    "c0n=init(xp,30)"
   ]
  },
  {
   "cell_type": "markdown",
   "metadata": {},
   "source": [
    "### Quality of the coefficients"
   ]
  },
  {
   "cell_type": "markdown",
   "metadata": {},
   "source": [
    "We may have a look at the quality of the approximated initial conditions. Above we used 20 of the eigenfunctions. To calculate the final $\\Psi(x,t)$ we still need a function which does that."
   ]
  },
  {
   "cell_type": "code",
   "execution_count": 406,
   "metadata": {},
   "outputs": [],
   "source": [
    "def w_func(x,d,c0n,t):\n",
    "    psi=0\n",
    "    for n in range(len(c0n)):\n",
    "        psi=psi+c0n[n]*np.exp(-1j*(n**2*np.pi**2)*t/(2*d**2))*eigen_f(x,n,d)\n",
    "    return(psi)   \n",
    " "
   ]
  },
  {
   "cell_type": "markdown",
   "metadata": {},
   "source": [
    "The plot below shows that the 20 eigenfunctions are not really enough. We should use more. Turns out, that 30 gives a better approximation of the initial conditions."
   ]
  },
  {
   "cell_type": "code",
   "execution_count": 407,
   "metadata": {},
   "outputs": [
    {
     "data": {
      "image/png": "[encoded data removed]",
      "text/plain": [
       "<Figure size 432x288 with 1 Axes>"
      ]
     },
     "metadata": {
      "image/png": {
       "height": 280,
       "width": 403
      },
      "needs_background": "light"
     },
     "output_type": "display_data"
    }
   ],
   "source": [
    "wv=w_func(xp,np.pi,c0n,0)\n",
    "plt.plot(xp,np.abs(wv)**2)\n",
    "plt.plot(xp,np.abs(wave(xp))**2,'k--')\n",
    "\n",
    "plt.xlabel('position')\n",
    "plt.ylabel(r'$\\Psi(x)$')\n",
    "plt.show()"
   ]
  },
  {
   "cell_type": "markdown",
   "metadata": {},
   "source": [
    "## Animation"
   ]
  },
  {
   "cell_type": "markdown",
   "metadata": {},
   "source": [
    "Ok, we are only here to make things move. We want to see the animated wavepacket bouncing back from the walls. This is now a piece of cake, as we have used the animation feature already in the section before."
   ]
  },
  {
   "cell_type": "code",
   "execution_count": 408,
   "metadata": {},
   "outputs": [
    {
     "data": {
      "application/vnd.jupyter.widget-view+json": {
       "model_id": "0e339209faa14f65a2de4bb0331a597d",
       "version_major": 2,
       "version_minor": 0
      },
      "text/plain": [
       "Canvas(height=380, width=800)"
      ]
     },
     "metadata": {},
     "output_type": "display_data"
    }
   ],
   "source": [
    "## setup the canvas\n",
    "canvas = Canvas(width=800, height=380,sync_image_data=False)\n",
    "display(canvas)"
   ]
  },
  {
   "cell_type": "markdown",
   "metadata": {},
   "source": [
    "Just plot the wavefunction without showing it."
   ]
  },
  {
   "cell_type": "code",
   "execution_count": 409,
   "metadata": {},
   "outputs": [],
   "source": [
    "xp=np.linspace(0,np.pi,1000)\n",
    "\n",
    "fig, ax = plt.subplots(1,1,figsize=(10,5))\n",
    "plt.xlim(-0.1,np.pi+0.1)\n",
    "plt.ylim(-1,20)\n",
    "plt.axvline(x=0,ls='--',color='k')\n",
    "plt.axvline(x=np.pi,ls='--',color='k')\n",
    "plt.xlabel('x-position')\n",
    "plt.ylabel(r'$|\\Psi(x,t)|^2$')\n",
    "plt.tight_layout()  \n",
    "plt.draw()\n",
    "\n",
    "background = fig.canvas.copy_from_bbox(ax.bbox)\n",
    "points=ax.plot(xp,np.abs(w_func(xp,np.pi,c0n,t))**2)[0]\n",
    "plt.close() "
   ]
  },
  {
   "cell_type": "markdown",
   "metadata": {},
   "source": [
    "Then animate everything. The simulation nicely demonstrates that the wavepacket falls apart due to the different time dependence of the prefactors $C_{n}$. Yet, the wave packet is restored after a certain time."
   ]
  },
  {
   "cell_type": "code",
   "execution_count": 410,
   "metadata": {},
   "outputs": [],
   "source": [
    "for t in np.linspace(0,4,1000):\n",
    "    fig.canvas.restore_region(background)\n",
    "    ax.draw_artist(points)\n",
    "    points.set_data(xp,np.abs(w_func(xp,np.pi,c0n,t))**2)\n",
    "\n",
    "    fig.canvas.blit(ax.bbox)\n",
    "    X = np.array(fig.canvas.renderer.buffer_rgba())\n",
    "   \n",
    "    with hold_canvas(canvas): \n",
    "        canvas.clear()\n",
    "        canvas.put_image_data(X)\n",
    "        sleep(0.05)"
   ]
  },
  {
   "cell_type": "code",
   "execution_count": null,
   "metadata": {},
   "outputs": [],
   "source": []
  }
 ],
 "metadata": {
  "kernelspec": {
   "display_name": "Python 3",
   "language": "python",
   "name": "python3"
  },
  "language_info": {
   "codemirror_mode": {
    "name": "ipython",
    "version": 3
   },
   "file_extension": ".py",
   "mimetype": "text/x-python",
   "name": "python",
   "nbconvert_exporter": "python",
   "pygments_lexer": "ipython3",
   "version": "3.7.6"
  },
  "widgets": {
   "application/vnd.jupyter.widget-state+json": {
    "state": {
     "0291afcbf0e746878ab1036be80d6467": {
      "model_module": "ipycanvas",
      "model_module_version": "^0.4.3",
      "model_name": "CanvasModel",
      "state": {
       "_model_module_version": "^0.4.3",
       "_view_module_version": "^0.4.3",
       "height": 380,
       "layout": "IPY_MODEL_b7164891a93d424fa641c21e02ff2e6f",
       "width": 800
      }
     },
     "040a33c3cc6440f3b599cce399535549": {
      "model_module": "@jupyter-widgets/base",
      "model_module_version": "1.2.0",
      "model_name": "LayoutModel",
      "state": {}
     },
     "049214de2c06417c91655db37af70ed2": {
      "model_module": "@jupyter-widgets/base",
      "model_module_version": "1.2.0",
      "model_name": "LayoutModel",
      "state": {}
     },
     "07d82eae2a42437db59b31c656ddac68": {
      "model_module": "ipycanvas",
      "model_module_version": "^0.4.3",
      "model_name": "CanvasModel",
      "state": {
       "_model_module_version": "^0.4.3",
       "_view_module_version": "^0.4.3",
       "height": 380,
       "layout": "IPY_MODEL_89c63c284ea344efa83ef1096b825bde",
       "width": 800
      }
     },
     "0e339209faa14f65a2de4bb0331a597d": {
      "model_module": "ipycanvas",
      "model_module_version": "^0.4.3",
      "model_name": "CanvasModel",
      "state": {
       "_model_module_version": "^0.4.3",
       "_view_module_version": "^0.4.3",
       "height": 380,
       "layout": "IPY_MODEL_bdd20eff33f843dfaa90de7fa8a5a3f0",
       "width": 800
      }
     },
     "14251d8e04db44ddb40dd87910b415fd": {
      "model_module": "@jupyter-widgets/base",
      "model_module_version": "1.2.0",
      "model_name": "LayoutModel",
      "state": {}
     },
     "1644b420304b45758ba669e438608d05": {
      "model_module": "@jupyter-widgets/base",
      "model_module_version": "1.2.0",
      "model_name": "LayoutModel",
      "state": {}
     },
     "191512ffdc18420daa649036de9fa87e": {
      "model_module": "ipycanvas",
      "model_module_version": "^0.4.3",
      "model_name": "CanvasModel",
      "state": {
       "_model_module_version": "^0.4.3",
       "_view_module_version": "^0.4.3",
       "height": 400,
       "layout": "IPY_MODEL_4ee7b08d4a674d8084bdc3289b3a4685",
       "width": 800
      }
     },
     "1bd2198ed0604753be3d7e8616188381": {
      "model_module": "ipycanvas",
      "model_module_version": "^0.4.3",
      "model_name": "CanvasModel",
      "state": {
       "_model_module_version": "^0.4.3",
       "_view_module_version": "^0.4.3",
       "height": 380,
       "layout": "IPY_MODEL_92f12fe0e8374677a58dce2ba31484a6",
       "width": 800
      }
     },
     "1caf97c6d8004ace95e29987a518559d": {
      "model_module": "@jupyter-widgets/base",
      "model_module_version": "1.2.0",
      "model_name": "LayoutModel",
      "state": {}
     },
     "1cb15dd3288f4a09b6102ce634fe4aa9": {
      "model_module": "ipycanvas",
      "model_module_version": "^0.4.3",
      "model_name": "CanvasModel",
      "state": {
       "_model_module_version": "^0.4.3",
       "_view_module_version": "^0.4.3",
       "height": 600,
       "layout": "IPY_MODEL_d79ad2700a204567b44d0469eae3f1e1",
       "width": 400
      }
     },
     "1d3fe72438f04c8ebb7b52fae72614a6": {
      "model_module": "ipycanvas",
      "model_module_version": "^0.4.3",
      "model_name": "CanvasModel",
      "state": {
       "_model_module_version": "^0.4.3",
       "_view_module_version": "^0.4.3",
       "height": 380,
       "layout": "IPY_MODEL_2590696e83344f839a6ab2edf76f49fa",
       "width": 800
      }
     },
     "24a5f0969d1b4e2fbd4104f545974cee": {
      "model_module": "ipycanvas",
      "model_module_version": "^0.4.3",
      "model_name": "CanvasModel",
      "state": {
       "_model_module_version": "^0.4.3",
       "_view_module_version": "^0.4.3",
       "height": 380,
       "layout": "IPY_MODEL_cb7ab4243380418f924d76d624a1e453",
       "width": 800
      }
     },
     "2590696e83344f839a6ab2edf76f49fa": {
      "model_module": "@jupyter-widgets/base",
      "model_module_version": "1.2.0",
      "model_name": "LayoutModel",
      "state": {}
     },
     "25b121fa20e442d398c750a3782681fc": {
      "model_module": "@jupyter-widgets/base",
      "model_module_version": "1.2.0",
      "model_name": "LayoutModel",
      "state": {}
     },
     "261685117f6347aa90dfa5ed95632df7": {
      "model_module": "ipycanvas",
      "model_module_version": "^0.4.3",
      "model_name": "CanvasModel",
      "state": {
       "_model_module_version": "^0.4.3",
       "_view_module_version": "^0.4.3",
       "height": 200,
       "layout": "IPY_MODEL_fee516a465c24eda8b215a8f9755dda3",
       "width": 800
      }
     },
     "2766324be9a24806b8bcfe31d9548692": {
      "model_module": "ipycanvas",
      "model_module_version": "^0.4.3",
      "model_name": "CanvasModel",
      "state": {
       "_model_module_version": "^0.4.3",
       "_view_module_version": "^0.4.3",
       "height": 380,
       "layout": "IPY_MODEL_449ae7ec0f724a34bf6875fcba6d4940",
       "width": 800
      }
     },
     "2c78d82927d240f59d33aaa74a16f903": {
      "model_module": "@jupyter-widgets/base",
      "model_module_version": "1.2.0",
      "model_name": "LayoutModel",
      "state": {}
     },
     "2d9d40d75ec14d7c9b7dcb0408e566d1": {
      "model_module": "@jupyter-widgets/base",
      "model_module_version": "1.2.0",
      "model_name": "LayoutModel",
      "state": {}
     },
     "2ee56911f025497ca231f5730fa1b13b": {
      "model_module": "ipycanvas",
      "model_module_version": "^0.4.3",
      "model_name": "CanvasModel",
      "state": {
       "_model_module_version": "^0.4.3",
       "_view_module_version": "^0.4.3",
       "height": 380,
       "layout": "IPY_MODEL_b4ec711db2ff44e98f91bc37b20c3240",
       "width": 800
      }
     },
     "36df21f608be4e91b4f4d2a26d32bb6b": {
      "model_module": "@jupyter-widgets/base",
      "model_module_version": "1.2.0",
      "model_name": "LayoutModel",
      "state": {}
     },
     "3b53a8ce3639444584d440bc099eaadd": {
      "model_module": "ipycanvas",
      "model_module_version": "^0.4.3",
      "model_name": "CanvasModel",
      "state": {
       "_model_module_version": "^0.4.3",
       "_view_module_version": "^0.4.3",
       "height": 380,
       "layout": "IPY_MODEL_040a33c3cc6440f3b599cce399535549",
       "width": 800
      }
     },
     "3bd3851d8cf144efbee1c72b8ba57c83": {
      "model_module": "@jupyter-widgets/base",
      "model_module_version": "1.2.0",
      "model_name": "LayoutModel",
      "state": {}
     },
     "3c48f0cbf9df45a9ae2640d27b1d89f9": {
      "model_module": "@jupyter-widgets/base",
      "model_module_version": "1.2.0",
      "model_name": "LayoutModel",
      "state": {}
     },
     "430cb0dd554249a4aed3f97bf90ea23e": {
      "model_module": "ipycanvas",
      "model_module_version": "^0.4.3",
      "model_name": "CanvasModel",
      "state": {
       "_model_module_version": "^0.4.3",
       "_view_module_version": "^0.4.3",
       "height": 450,
       "layout": "IPY_MODEL_1644b420304b45758ba669e438608d05",
       "width": 400
      }
     },
     "449ae7ec0f724a34bf6875fcba6d4940": {
      "model_module": "@jupyter-widgets/base",
      "model_module_version": "1.2.0",
      "model_name": "LayoutModel",
      "state": {}
     },
     "4ea4dcd51b2c4fb0846437157593b978": {
      "model_module": "ipycanvas",
      "model_module_version": "^0.4.3",
      "model_name": "CanvasModel",
      "state": {
       "_model_module_version": "^0.4.3",
       "_view_module_version": "^0.4.3",
       "height": 400,
       "layout": "IPY_MODEL_eb34f86195854c929e05ec3071ec0a00",
       "width": 600
      }
     },
     "4ee7b08d4a674d8084bdc3289b3a4685": {
      "model_module": "@jupyter-widgets/base",
      "model_module_version": "1.2.0",
      "model_name": "LayoutModel",
      "state": {}
     },
     "530b6b5ac35945179eefe7f522b35716": {
      "model_module": "ipycanvas",
      "model_module_version": "^0.4.3",
      "model_name": "CanvasModel",
      "state": {
       "_model_module_version": "^0.4.3",
       "_view_module_version": "^0.4.3",
       "height": 380,
       "layout": "IPY_MODEL_92726989eb77486388a8ff4573f70f1b",
       "width": 800
      }
     },
     "564ec0da61674283a84aae7c9f729a8b": {
      "model_module": "ipycanvas",
      "model_module_version": "^0.4.3",
      "model_name": "CanvasModel",
      "state": {
       "_model_module_version": "^0.4.3",
       "_view_module_version": "^0.4.3",
       "height": 380,
       "layout": "IPY_MODEL_3bd3851d8cf144efbee1c72b8ba57c83",
       "width": 800
      }
     },
     "5fe1054fdd13406e8318aa7b7f0ad641": {
      "model_module": "@jupyter-widgets/base",
      "model_module_version": "1.2.0",
      "model_name": "LayoutModel",
      "state": {}
     },
     "60e54ce616e8416580421ee8153f1bc7": {
      "model_module": "@jupyter-widgets/base",
      "model_module_version": "1.2.0",
      "model_name": "LayoutModel",
      "state": {}
     },
     "64c0907f3bd241a0868970751949498d": {
      "model_module": "ipycanvas",
      "model_module_version": "^0.4.3",
      "model_name": "CanvasModel",
      "state": {
       "_model_module_version": "^0.4.3",
       "_view_module_version": "^0.4.3",
       "height": 380,
       "layout": "IPY_MODEL_1caf97c6d8004ace95e29987a518559d",
       "width": 800
      }
     },
     "6dc1b36532d54765a9b176a537590f50": {
      "model_module": "@jupyter-widgets/base",
      "model_module_version": "1.2.0",
      "model_name": "LayoutModel",
      "state": {}
     },
     "71cc90c095d54f8fb05dbb973c3a7fa3": {
      "model_module": "ipycanvas",
      "model_module_version": "^0.4.3",
      "model_name": "CanvasModel",
      "state": {
       "_model_module_version": "^0.4.3",
       "_view_module_version": "^0.4.3",
       "height": 380,
       "layout": "IPY_MODEL_3c48f0cbf9df45a9ae2640d27b1d89f9",
       "width": 800
      }
     },
     "7b77fa0e7f924de08db674319a78cb69": {
      "model_module": "ipycanvas",
      "model_module_version": "^0.4.3",
      "model_name": "CanvasModel",
      "state": {
       "_model_module_version": "^0.4.3",
       "_view_module_version": "^0.4.3",
       "height": 380,
       "layout": "IPY_MODEL_f9ad1a1c4c8f4a8796f97acc4da3be4d",
       "width": 800
      }
     },
     "899d0ce769574c618e7a19137bac4a06": {
      "model_module": "@jupyter-widgets/base",
      "model_module_version": "1.2.0",
      "model_name": "LayoutModel",
      "state": {}
     },
     "89c63c284ea344efa83ef1096b825bde": {
      "model_module": "@jupyter-widgets/base",
      "model_module_version": "1.2.0",
      "model_name": "LayoutModel",
      "state": {}
     },
     "8d0b124b66e94fc3949d116bc797d633": {
      "model_module": "ipycanvas",
      "model_module_version": "^0.4.3",
      "model_name": "CanvasModel",
      "state": {
       "_model_module_version": "^0.4.3",
       "_view_module_version": "^0.4.3",
       "height": 380,
       "layout": "IPY_MODEL_049214de2c06417c91655db37af70ed2",
       "width": 800
      }
     },
     "8e8fdebd1de145ccbecb0b48967a793c": {
      "model_module": "ipycanvas",
      "model_module_version": "^0.4.3",
      "model_name": "CanvasModel",
      "state": {
       "_model_module_version": "^0.4.3",
       "_view_module_version": "^0.4.3",
       "height": 380,
       "layout": "IPY_MODEL_6dc1b36532d54765a9b176a537590f50",
       "width": 800
      }
     },
     "91dceb75fad442039c04cf86d3946871": {
      "model_module": "ipycanvas",
      "model_module_version": "^0.4.3",
      "model_name": "CanvasModel",
      "state": {
       "_model_module_version": "^0.4.3",
       "_view_module_version": "^0.4.3",
       "height": 380,
       "layout": "IPY_MODEL_25b121fa20e442d398c750a3782681fc",
       "width": 800
      }
     },
     "92726989eb77486388a8ff4573f70f1b": {
      "model_module": "@jupyter-widgets/base",
      "model_module_version": "1.2.0",
      "model_name": "LayoutModel",
      "state": {}
     },
     "92f12fe0e8374677a58dce2ba31484a6": {
      "model_module": "@jupyter-widgets/base",
      "model_module_version": "1.2.0",
      "model_name": "LayoutModel",
      "state": {}
     },
     "9b05929cfb5a4027a11020d306724f1a": {
      "model_module": "ipycanvas",
      "model_module_version": "^0.4.3",
      "model_name": "CanvasModel",
      "state": {
       "_model_module_version": "^0.4.3",
       "_view_module_version": "^0.4.3",
       "layout": "IPY_MODEL_2d9d40d75ec14d7c9b7dcb0408e566d1",
       "width": 400
      }
     },
     "9e942b97e74d45c192b91ea29efa242f": {
      "model_module": "@jupyter-widgets/base",
      "model_module_version": "1.2.0",
      "model_name": "LayoutModel",
      "state": {}
     },
     "b4ec711db2ff44e98f91bc37b20c3240": {
      "model_module": "@jupyter-widgets/base",
      "model_module_version": "1.2.0",
      "model_name": "LayoutModel",
      "state": {}
     },
     "b7164891a93d424fa641c21e02ff2e6f": {
      "model_module": "@jupyter-widgets/base",
      "model_module_version": "1.2.0",
      "model_name": "LayoutModel",
      "state": {}
     },
     "b7a64af8d2324311bd81012320ca680e": {
      "model_module": "@jupyter-widgets/base",
      "model_module_version": "1.2.0",
      "model_name": "LayoutModel",
      "state": {}
     },
     "bdd20eff33f843dfaa90de7fa8a5a3f0": {
      "model_module": "@jupyter-widgets/base",
      "model_module_version": "1.2.0",
      "model_name": "LayoutModel",
      "state": {}
     },
     "c0d7ce857e934ff9af42e1b123ea95dd": {
      "model_module": "ipycanvas",
      "model_module_version": "^0.4.3",
      "model_name": "CanvasModel",
      "state": {
       "_model_module_version": "^0.4.3",
       "_view_module_version": "^0.4.3",
       "height": 380,
       "layout": "IPY_MODEL_9e942b97e74d45c192b91ea29efa242f",
       "width": 800
      }
     },
     "c5a6c1a5e2f44d5588ff4a799c8593cb": {
      "model_module": "ipycanvas",
      "model_module_version": "^0.4.3",
      "model_name": "CanvasModel",
      "state": {
       "_model_module_version": "^0.4.3",
       "_view_module_version": "^0.4.3",
       "height": 450,
       "layout": "IPY_MODEL_899d0ce769574c618e7a19137bac4a06",
       "width": 400
      }
     },
     "c6bedb17af10430ca2257784f4670c20": {
      "model_module": "ipycanvas",
      "model_module_version": "^0.4.3",
      "model_name": "CanvasModel",
      "state": {
       "_model_module_version": "^0.4.3",
       "_view_module_version": "^0.4.3",
       "height": 380,
       "layout": "IPY_MODEL_b7a64af8d2324311bd81012320ca680e",
       "width": 800
      }
     },
     "cb7ab4243380418f924d76d624a1e453": {
      "model_module": "@jupyter-widgets/base",
      "model_module_version": "1.2.0",
      "model_name": "LayoutModel",
      "state": {}
     },
     "cea022a14fe6471c8b912dffbd63827b": {
      "model_module": "ipycanvas",
      "model_module_version": "^0.4.3",
      "model_name": "CanvasModel",
      "state": {
       "_model_module_version": "^0.4.3",
       "_view_module_version": "^0.4.3",
       "height": 400,
       "layout": "IPY_MODEL_d50b3150c5394f99a291c51ff722dbfd",
       "width": 400
      }
     },
     "cfb3739c480a4ddc84516c11dac0fcdf": {
      "model_module": "ipycanvas",
      "model_module_version": "^0.4.3",
      "model_name": "CanvasModel",
      "state": {
       "_model_module_version": "^0.4.3",
       "_view_module_version": "^0.4.3",
       "height": 200,
       "layout": "IPY_MODEL_ffa7d368a1994e3b8c810ec93b86565c",
       "width": 800
      }
     },
     "d0c4a22ba1794ed2bd5cebd6fada1d60": {
      "model_module": "ipycanvas",
      "model_module_version": "^0.4.3",
      "model_name": "CanvasModel",
      "state": {
       "_model_module_version": "^0.4.3",
       "_view_module_version": "^0.4.3",
       "height": 380,
       "layout": "IPY_MODEL_5fe1054fdd13406e8318aa7b7f0ad641",
       "width": 800
      }
     },
     "d50b3150c5394f99a291c51ff722dbfd": {
      "model_module": "@jupyter-widgets/base",
      "model_module_version": "1.2.0",
      "model_name": "LayoutModel",
      "state": {}
     },
     "d79ad2700a204567b44d0469eae3f1e1": {
      "model_module": "@jupyter-widgets/base",
      "model_module_version": "1.2.0",
      "model_name": "LayoutModel",
      "state": {}
     },
     "d84dc42b56754b9796ba17e2433fe679": {
      "model_module": "ipycanvas",
      "model_module_version": "^0.4.3",
      "model_name": "CanvasModel",
      "state": {
       "_model_module_version": "^0.4.3",
       "_view_module_version": "^0.4.3",
       "height": 380,
       "layout": "IPY_MODEL_fcc92283e4cc4890bf4eecac0c4066c4",
       "width": 800
      }
     },
     "e901b64bda0c45f89776afe79618d117": {
      "model_module": "ipycanvas",
      "model_module_version": "^0.4.3",
      "model_name": "CanvasModel",
      "state": {
       "_model_module_version": "^0.4.3",
       "_view_module_version": "^0.4.3",
       "height": 400,
       "layout": "IPY_MODEL_36df21f608be4e91b4f4d2a26d32bb6b",
       "width": 400
      }
     },
     "e9aa8bc8433d4b03bdc0371ed1108ec1": {
      "model_module": "ipycanvas",
      "model_module_version": "^0.4.3",
      "model_name": "CanvasModel",
      "state": {
       "_model_module_version": "^0.4.3",
       "_view_module_version": "^0.4.3",
       "height": 450,
       "layout": "IPY_MODEL_2c78d82927d240f59d33aaa74a16f903",
       "width": 400
      }
     },
     "eb34f86195854c929e05ec3071ec0a00": {
      "model_module": "@jupyter-widgets/base",
      "model_module_version": "1.2.0",
      "model_name": "LayoutModel",
      "state": {}
     },
     "f287567923f149b59be73f35c90a2417": {
      "model_module": "ipycanvas",
      "model_module_version": "^0.4.3",
      "model_name": "CanvasModel",
      "state": {
       "_model_module_version": "^0.4.3",
       "_view_module_version": "^0.4.3",
       "height": 600,
       "layout": "IPY_MODEL_14251d8e04db44ddb40dd87910b415fd",
       "width": 300
      }
     },
     "f68f70a955f24d0da538b0db118ee37f": {
      "model_module": "ipycanvas",
      "model_module_version": "^0.4.3",
      "model_name": "CanvasModel",
      "state": {
       "_model_module_version": "^0.4.3",
       "_view_module_version": "^0.4.3",
       "height": 380,
       "layout": "IPY_MODEL_60e54ce616e8416580421ee8153f1bc7",
       "width": 800
      }
     },
     "f9ad1a1c4c8f4a8796f97acc4da3be4d": {
      "model_module": "@jupyter-widgets/base",
      "model_module_version": "1.2.0",
      "model_name": "LayoutModel",
      "state": {}
     },
     "fcc92283e4cc4890bf4eecac0c4066c4": {
      "model_module": "@jupyter-widgets/base",
      "model_module_version": "1.2.0",
      "model_name": "LayoutModel",
      "state": {}
     },
     "fee516a465c24eda8b215a8f9755dda3": {
      "model_module": "@jupyter-widgets/base",
      "model_module_version": "1.2.0",
      "model_name": "LayoutModel",
      "state": {}
     },
     "ffa7d368a1994e3b8c810ec93b86565c": {
      "model_module": "@jupyter-widgets/base",
      "model_module_version": "1.2.0",
      "model_name": "LayoutModel",
      "state": {}
     }
    },
    "version_major": 2,
    "version_minor": 0
   }
  }
 },
 "nbformat": 4,
 "nbformat_minor": 4
}
