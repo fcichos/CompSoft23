{
 "cells": [
  {
   "cell_type": "markdown",
   "metadata": {
    "slideshow": {
     "slide_type": "slide"
    }
   },
   "source": [
    "# Numerical Integration"
   ]
  },
  {
   "cell_type": "markdown",
   "metadata": {
    "slideshow": {
     "slide_type": "fragment"
    }
   },
   "source": [
    "Our second topic today will be about numerical integration, which is useful in determining of course the integrals of functions at certain positions. Here we will only refer to 3 different methods with increasing accuracy.\n"
   ]
  },
  {
   "cell_type": "code",
   "execution_count": 4,
   "metadata": {
    "slideshow": {
     "slide_type": "skip"
    }
   },
   "outputs": [],
   "source": [
    "import numpy as np\n",
    "import matplotlib.pyplot as plt \n",
    "\n",
    "%matplotlib inline\n",
    "%config InlineBackend.figure_format = 'retina' \n",
    "\n",
    "plt.rcParams.update({'font.size': 12,\n",
    "                     'axes.titlesize': 18,\n",
    "                     'axes.labelsize': 16,\n",
    "                     'axes.labelpad': 14,\n",
    "                     'lines.linewidth': 1,\n",
    "                     'lines.markersize': 10,\n",
    "                     'xtick.labelsize' : 16,\n",
    "                     'ytick.labelsize' : 16,\n",
    "                     'xtick.top' : True,\n",
    "                     'xtick.direction' : 'in',\n",
    "                     'ytick.right' : True,\n",
    "                     'ytick.direction' : 'in',}) "
   ]
  },
  {
   "cell_type": "markdown",
   "metadata": {
    "slideshow": {
     "slide_type": "slide"
    }
   },
   "source": [
    "## Box method"
   ]
  },
  {
   "cell_type": "markdown",
   "metadata": {
    "slideshow": {
     "slide_type": "fragment"
    }
   },
   "source": [
    "![box](img/box.png)\n",
    "\n",
    "The simplest method for the numerical integration of a function $f(x)$ is the box method. There you approximate the function in a certain intervall $\\Delta x$ by a horizontal line at the function value of the left edge of the intervall for example.\n",
    "\n",
    "\\begin{equation}\n",
    "\\int_{a}^{b}f(x)\\approx \\sum_{i}f(x_{i})\\Delta x\n",
    "\\end{equation}\n",
    "\n",
    "So lets write a function for that:\n"
   ]
  },
  {
   "cell_type": "code",
   "execution_count": 5,
   "metadata": {
    "slideshow": {
     "slide_type": "subslide"
    }
   },
   "outputs": [],
   "source": [
    "def f(x):\n",
    "    return(x**2)"
   ]
  },
  {
   "cell_type": "code",
   "execution_count": 6,
   "metadata": {
    "slideshow": {
     "slide_type": "fragment"
    }
   },
   "outputs": [],
   "source": [
    "def int_box(f,a,b,N):\n",
    "    x=np.linspace(a,b,N)\n",
    "    y=f(x)\n",
    "    return(np.sum((x[1]-x[0])*y))\n",
    "    \n",
    "    "
   ]
  },
  {
   "cell_type": "code",
   "execution_count": 7,
   "metadata": {
    "slideshow": {
     "slide_type": "fragment"
    }
   },
   "outputs": [
    {
     "data": {
      "text/plain": [
       "0.3338340008343345"
      ]
     },
     "execution_count": 7,
     "metadata": {},
     "output_type": "execute_result"
    }
   ],
   "source": [
    "int_box(f,0,1,1000)"
   ]
  },
  {
   "cell_type": "code",
   "execution_count": 11,
   "metadata": {
    "slideshow": {
     "slide_type": "fragment"
    }
   },
   "outputs": [
    {
     "data": {
      "text/plain": [
       "[<matplotlib.lines.Line2D at 0x7f5c48b3a3a0>]"
      ]
     },
     "execution_count": 11,
     "metadata": {},
     "output_type": "execute_result"
    },
    {
     "data": {
      "image/png": "[encoded data removed]",
      "text/plain": [
       "<Figure size 432x288 with 1 Axes>"
      ]
     },
     "metadata": {
      "image/png": {
       "height": 252,
       "width": 390
      },
      "needs_background": "light"
     },
     "output_type": "display_data"
    }
   ],
   "source": [
    "acc=[]\n",
    "for N in range(10,10000,100):\n",
    "    acc.append(int_box(f,0,1,N)-1/3)\n",
    "plt.loglog(range(10,10000,100),acc)    "
   ]
  },
  {
   "cell_type": "markdown",
   "metadata": {
    "slideshow": {
     "slide_type": "slide"
    }
   },
   "source": [
    "## Trapezoid method"
   ]
  },
  {
   "cell_type": "markdown",
   "metadata": {
    "slideshow": {
     "slide_type": "subslide"
    }
   },
   "source": [
    "![](img/trapez.png)\n",
    "\n",
    "The trapezoid method is taking the next step of function approximation in the interval $\\Delta x$. It is approximating it with a linear function."
   ]
  },
  {
   "cell_type": "markdown",
   "metadata": {
    "slideshow": {
     "slide_type": "subslide"
    }
   },
   "source": [
    "\\begin{equation}\n",
    "\\int_{a}^{b}f(x)dx=\\sum_{i=1}^{N}\\frac{f(x_i)+f(x_{i-1})}{2}\\Delta x\n",
    "\\end{equation}\n",
    "\n",
    "which is actually the same as\n",
    "\n",
    "\\begin{equation}\n",
    "\\int_{a}^{b}f(x)dx=\\left[ \\frac{f(x_{0}+f(x_{N}))}{2} +\\sum_{i=1}^{N-1} f(x_{i})\\right ]\\Delta x\n",
    "\\end{equation}\n",
    "\n",
    "We will use the first formula for coding it, and you may try the second yourself."
   ]
  },
  {
   "cell_type": "code",
   "execution_count": 12,
   "metadata": {
    "slideshow": {
     "slide_type": "subslide"
    }
   },
   "outputs": [],
   "source": [
    "def int_trap(f,a,b,N):\n",
    "    x=np.linspace(a,b,N)\n",
    "    y=f(x)\n",
    "    return(np.sum((y[1:]+y[:-1])*(x[1]-x[0])/2))\n"
   ]
  },
  {
   "cell_type": "code",
   "execution_count": 13,
   "metadata": {
    "slideshow": {
     "slide_type": "fragment"
    }
   },
   "outputs": [
    {
     "data": {
      "text/plain": [
       "0.3384008434513486"
      ]
     },
     "execution_count": 13,
     "metadata": {},
     "output_type": "execute_result"
    }
   ],
   "source": [
    "## value from the box method\n",
    "int_box(f,0,1,100)"
   ]
  },
  {
   "cell_type": "code",
   "execution_count": 14,
   "metadata": {
    "slideshow": {
     "slide_type": "fragment"
    }
   },
   "outputs": [
    {
     "data": {
      "text/plain": [
       "0.33335033840084355"
      ]
     },
     "execution_count": 14,
     "metadata": {},
     "output_type": "execute_result"
    }
   ],
   "source": [
    "## value from the tapez method\n",
    "int_trap(f,0,1,100)"
   ]
  },
  {
   "cell_type": "markdown",
   "metadata": {
    "slideshow": {
     "slide_type": "fragment"
    }
   },
   "source": [
    "The trapez method therefore seems to give a better accuracy than the box method for the same number of steps."
   ]
  },
  {
   "cell_type": "markdown",
   "metadata": {
    "slideshow": {
     "slide_type": "slide"
    }
   },
   "source": [
    "## Simpson method"
   ]
  },
  {
   "cell_type": "markdown",
   "metadata": {
    "slideshow": {
     "slide_type": "fragment"
    }
   },
   "source": [
    "The Simpson method now continues with approximating the function now with a collection of parabolas. \n",
    "\n",
    "\\begin{equation}\n",
    "\\int_{a}^{b}f(x)dx \\approx \\sum_{i=1}^{\\frac{N-1}{2}}\\int_{x_{2i-1}}^{x_{2i+1}}g_{i}(x)dx\n",
    "\\end{equation}\n",
    "\n",
    "where the function $g_i(x)$ is a parabola\n",
    "\n",
    "\\begin{equation}\n",
    "g_{i}(x)=[A]x^2+[B]x+[C]\n",
    "\\end{equation}\n",
    "\n",
    "where the $[A],[B],[C]$ depends only on the function values at the edges of the slice."
   ]
  },
  {
   "cell_type": "markdown",
   "metadata": {
    "slideshow": {
     "slide_type": "subslide"
    }
   },
   "source": [
    "![Simpson](img/simpson.png)"
   ]
  },
  {
   "cell_type": "markdown",
   "metadata": {
    "slideshow": {
     "slide_type": "subslide"
    }
   },
   "source": [
    "After some extensive algebra, which we do not want to do in detail, we arrive at \n",
    "\n",
    "\\begin{equation}\n",
    "\\int_{a}^{b}f(x)dx \\approx\\frac{\\Delta x}{3}\\sum_{i={\\rm odd}}^{N-1}(f(x_{i-1})+f(x_{i})+f(x_{i+1}))\n",
    "\\end{equation}\n",
    "\n",
    "as a simple formula on how to calculate the integral of a function using the Simpson method. Note that this method requires N being an odd number, which generates an even number of slices. There is a correction for odd number of slices, which we do not consider here."
   ]
  },
  {
   "cell_type": "code",
   "execution_count": 15,
   "metadata": {
    "slideshow": {
     "slide_type": "subslide"
    }
   },
   "outputs": [],
   "source": [
    "def int_simp(f,a,b,N):\n",
    "    x=np.linspace(a,b,N)\n",
    "    y=f(x)\n",
    "    return(np.sum((y[0:-2:2]+4*y[1:-1:2]+y[2::2])*(x[1]-x[0])/3))"
   ]
  },
  {
   "cell_type": "code",
   "execution_count": 16,
   "metadata": {
    "slideshow": {
     "slide_type": "fragment"
    }
   },
   "outputs": [
    {
     "data": {
      "text/plain": [
       "0.33335033840084355"
      ]
     },
     "execution_count": 16,
     "metadata": {},
     "output_type": "execute_result"
    }
   ],
   "source": [
    "## value from the tapez method\n",
    "int_trap(f,0,1,100)"
   ]
  },
  {
   "cell_type": "code",
   "execution_count": 17,
   "metadata": {
    "slideshow": {
     "slide_type": "fragment"
    }
   },
   "outputs": [
    {
     "data": {
      "text/plain": [
       "0.3384008434513486"
      ]
     },
     "execution_count": 17,
     "metadata": {},
     "output_type": "execute_result"
    }
   ],
   "source": [
    "## value from the box method\n",
    "int_box(f,0,1,100)"
   ]
  },
  {
   "cell_type": "code",
   "execution_count": 18,
   "metadata": {
    "slideshow": {
     "slide_type": "fragment"
    }
   },
   "outputs": [
    {
     "data": {
      "text/plain": [
       "0.3333333333333332"
      ]
     },
     "execution_count": 18,
     "metadata": {},
     "output_type": "execute_result"
    }
   ],
   "source": [
    "## value from the simpson method\n",
    "## take care, N needs to be odd\n",
    "int_simp(f,0,1,99)"
   ]
  },
  {
   "cell_type": "markdown",
   "metadata": {
    "slideshow": {
     "slide_type": "fragment"
    }
   },
   "source": [
    "It turns out, that the Simpson rule is indeed the best among the three methods we have considered. \n",
    "The error is the box method goes as $\\Delta x$, the one of the trapezoid method as $\\Delta x^2$, while the simpson method provides and accuracy going with $\\Delta x^4$. Thus doubling the number of integration points decreases the error by a factor of 16."
   ]
  }
 ],
 "metadata": {
  "celltoolbar": "Slideshow",
  "kernelspec": {
   "display_name": "Python 3 (ipykernel)",
   "language": "python",
   "name": "python3"
  },
  "language_info": {
   "codemirror_mode": {
    "name": "ipython",
    "version": 3
   },
   "file_extension": ".py",
   "mimetype": "text/x-python",
   "name": "python",
   "nbconvert_exporter": "python",
   "pygments_lexer": "ipython3",
   "version": "3.8.12"
  },
  "toc": {
   "base_numbering": 1,
   "nav_menu": {},
   "number_sections": true,
   "sideBar": true,
   "skip_h1_title": false,
   "title_cell": "Table of Contents",
   "title_sidebar": "Contents",
   "toc_cell": false,
   "toc_position": {},
   "toc_section_display": true,
   "toc_window_display": false
  },
  "widgets": {
   "application/vnd.jupyter.widget-state+json": {
    "state": {},
    "version_major": 2,
    "version_minor": 0
   }
  }
 },
 "nbformat": 4,
 "nbformat_minor": 4
}
