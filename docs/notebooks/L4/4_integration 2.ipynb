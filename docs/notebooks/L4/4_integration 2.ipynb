{
 "cells": [
  {
   "cell_type": "code",
   "execution_count": 31,
   "metadata": {},
   "outputs": [],
   "source": [
    "from time import sleep\n",
    "from threading import Thread\n",
    "\n",
    "import numpy as np\n",
    "\n",
    "from ipycanvas import MultiCanvas, hold_canvas"
   ]
  },
  {
   "cell_type": "code",
   "execution_count": 42,
   "metadata": {},
   "outputs": [],
   "source": [
    "# number of particles\n",
    "N=100\n"
   ]
  },
  {
   "cell_type": "markdown",
   "metadata": {},
   "source": [
    "## Draw function for the particles"
   ]
  },
  {
   "cell_type": "code",
   "execution_count": 43,
   "metadata": {},
   "outputs": [],
   "source": [
    "def draw(pa,canvas, color='white'):\n",
    "    with hold_canvas(canvas):\n",
    "        canvas.clear()\n",
    "        canvas.fill_style = color\n",
    "        canvas.global_alpha = 0.2\n",
    "        for i in range(N):\n",
    "            canvas.fill_arc(pa[i].position[0], pa[i].position[1], 3, 0, 2*np.pi)\n",
    "            "
   ]
  },
  {
   "cell_type": "markdown",
   "metadata": {},
   "source": [
    "## Particle class"
   ]
  },
  {
   "cell_type": "code",
   "execution_count": 44,
   "metadata": {},
   "outputs": [],
   "source": [
    "class Particle():\n",
    "    def __init__(self,position=np.array([0,0])):\n",
    "        self.position=np.zeros(2)\n",
    "        self.position[:]=position\n",
    "        \n",
    "    def update(self):\n",
    "        dx=np.random.normal()\n",
    "        dy=np.random.normal()\n",
    "        tmp=np.zeros(2)\n",
    "        tmp[:]=self.position\n",
    "        tmp=tmp+np.array([dx,dy])\n",
    "        self.position[:]=tmp\n",
    "\n",
    "        \n",
    "\n"
   ]
  },
  {
   "cell_type": "code",
   "execution_count": 45,
   "metadata": {},
   "outputs": [
    {
     "data": {
      "application/vnd.jupyter.widget-view+json": {
       "model_id": "ca5726fadfb14384846331515e1f130f",
       "version_major": 2,
       "version_minor": 0
      },
      "text/plain": [
       "MultiCanvas(height=800, width=800)"
      ]
     },
     "metadata": {},
     "output_type": "display_data"
    }
   ],
   "source": [
    "# create a 2-layer canvas of 400 x 400 pixels\n",
    "# \n",
    "multi = MultiCanvas(2, width=800,height=800)\n",
    "multi[0].fill_style = '#FFFFB3'\n",
    "multi[0].fill_rect(0, 0, multi.size[0], multi.size[1])\n",
    "\n",
    "multi"
   ]
  },
  {
   "cell_type": "code",
   "execution_count": 46,
   "metadata": {},
   "outputs": [],
   "source": [
    "p=[]\n",
    "for _ in range(N):\n",
    "    p.append(Particle(position=np.array([400,400])))"
   ]
  },
  {
   "cell_type": "code",
   "execution_count": 47,
   "metadata": {},
   "outputs": [],
   "source": [
    "draw(p,multi[1], 'black')"
   ]
  },
  {
   "cell_type": "markdown",
   "metadata": {},
   "source": [
    "## Animation thread"
   ]
  },
  {
   "cell_type": "code",
   "execution_count": 48,
   "metadata": {},
   "outputs": [],
   "source": [
    "class RandomWalk(Thread):\n",
    "    def __init__(self,canvas):\n",
    "        self.canvas = canvas\n",
    "        super(RandomWalk, self).__init__()\n",
    "\n",
    "    def run(self):\n",
    "        for _ in range(1000):\n",
    "            for i in range(N):\n",
    "                p[i].update()\n",
    "            draw(p,self.canvas, 'black')   \n",
    "\n",
    "            sleep(0.03)"
   ]
  },
  {
   "cell_type": "markdown",
   "metadata": {},
   "source": [
    "## Start the thread\n"
   ]
  },
  {
   "cell_type": "code",
   "execution_count": 49,
   "metadata": {},
   "outputs": [],
   "source": [
    "RandomWalk( multi[1]).start()"
   ]
  }
 ],
 "metadata": {
  "kernelspec": {
   "display_name": "Python 3",
   "language": "python",
   "name": "python3"
  },
  "language_info": {
   "codemirror_mode": {
    "name": "ipython",
    "version": 3
   },
   "file_extension": ".py",
   "mimetype": "text/x-python",
   "name": "python",
   "nbconvert_exporter": "python",
   "pygments_lexer": "ipython3",
   "version": "3.7.4"
  }
 },
 "nbformat": 4,
 "nbformat_minor": 4
}
