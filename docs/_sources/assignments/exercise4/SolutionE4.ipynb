{
 "cells": [
  {
   "cell_type": "markdown",
   "metadata": {},
   "source": [
    "# Exercise 4 Solution\n"
   ]
  },
  {
   "cell_type": "markdown",
   "metadata": {},
   "source": [
    "Before you turn this problem in, make sure everything runs as expected. First, **restart the kernel** (in the menubar, select Kernel$\\rightarrow$Restart) and then **run all cells** (in the menubar, select Cell$\\rightarrow$Run All).\n",
    "\n",
    "Make sure you fill in any place that says `YOUR CODE HERE` or \"YOUR ANSWER HERE\", as well as your name and collaborators below:"
   ]
  },
  {
   "cell_type": "code",
   "execution_count": 13,
   "metadata": {},
   "outputs": [],
   "source": [
    "NAME = \"Frank Cichos\"\n",
    "COLLABORATORS = \"\""
   ]
  },
  {
   "cell_type": "markdown",
   "metadata": {},
   "source": [
    "---"
   ]
  },
  {
   "cell_type": "markdown",
   "metadata": {},
   "source": [
    "This exercise is about classes and animations. You will also need some skills from the other lectures.\n",
    "The task is to create a simulation of the COVID-19 spreading. Take your time to solve the problem. We will discuss that in more detail later."
   ]
  },
  {
   "cell_type": "code",
   "execution_count": 3,
   "metadata": {},
   "outputs": [],
   "source": [
    "import numpy as np\n",
    "import matplotlib.pylab as plt\n",
    "from time import sleep,time\n",
    "from threading import Thread\n",
    "\n",
    "from ipycanvas import MultiCanvas, hold_canvas,Canvas\n",
    "%matplotlib inline\n",
    "%config InlineBackend.figure_format = 'retina' \n",
    "\n",
    "plt.rcParams.update({'font.size': 12,\n",
    "                     'axes.titlesize': 20,\n",
    "                     'axes.labelsize': 18,\n",
    "                     'axes.labelpad': 14,\n",
    "                     'lines.linewidth': 1,\n",
    "                     'lines.markersize': 4,\n",
    "                     'xtick.labelsize' : 16,\n",
    "                     'ytick.labelsize' : 16,\n",
    "                     'xtick.top' : True,\n",
    "                     'xtick.direction' : 'in',\n",
    "                     'ytick.right' : True,\n",
    "                     'ytick.direction' : 'in',}) "
   ]
  },
  {
   "cell_type": "markdown",
   "metadata": {},
   "source": [
    "## Creating a Person Class"
   ]
  },
  {
   "cell_type": "markdown",
   "metadata": {},
   "source": [
    "The first task is to create a class like out colloid class from the lecture. Name the class `Person`.\n",
    "\n",
    "The Class shall have the following properties:\n",
    "\n",
    "* Person radius, self.R, initialized via the argument `R`\n",
    "* Person position, self.p, this should be an np.array() with two entries x,y, initialized via the argument `p`\n",
    "* Person velocity, self.v, this should be an np.array() with two entries v_x,v_y. The direction should be random, the magnitude initialized by the argument `v`\n",
    "* World rectangle, self.box, the simulation box specified by an array of 4 numbers specifying the topleft corner (box[0],box[1]) and the bottom right corner (box[2],box[3]), initialzed by the argument `box`.\n",
    "* State of health (boolean), self.sick, initialized by the argument `sick`\n",
    "\n",
    "The constructor definition line should therefore look like this\n",
    "\n",
    "~~~\n",
    "def __init__(self, R , p , v, box,sick): \n",
    "~~~\n",
    "\n",
    "The class shall only provide one method, which is called `update` and takes the timestep `dt` and a list of particles `p` as and argument. The method definition header should look like:\n",
    "\n",
    "~~~\n",
    "def update(self,dt,p): \n",
    "~~~\n",
    "\n"
   ]
  },
  {
   "cell_type": "raw",
   "metadata": {},
   "source": [
    "\n",
    "## some description\n",
    "class Person:\n",
    "    \n",
    "    # constructor\n",
    "    def __init__(self,R, p, v, sbox,sick):        \n",
    "        # add initialisation code here\n",
    "        self.R=R\n",
    "\n",
    "    def update(self,dt,p):  \n",
    "        \n",
    "        ## go through the list of particles p and determine the distance\n",
    "        ## to the current particle\n",
    "        ##\n",
    "        ## if the distance is smaller than 2*self.R and the other particle is sick, e.g.\n",
    "        ## the other particle has particle.sick==True, set self.sick to True\n",
    "        \n",
    "        \n",
    "        ## calculate the new position after the timestep dt in the direction of the velocity\n",
    "        ## no Brownian motion!!\n",
    "        ## store the new position in a temporary variable\n",
    "        \n",
    "        ## check if the new temporary position of the particle is inside the rectangle specified by box\n",
    "        ## if the new position is outside, apply reflecting boundary conditions\n",
    "        ## see the following example for a reflection at the right vertical border for the x position\n",
    "        ## the new_x is the temporary x_position of the particle\n",
    "        ## overall you need 4 checks for 4 boundaries\n",
    "\n",
    "        if new_x>self.box[2]:\n",
    "           new_x=self.box[2]-(new_x-self.box[2])\n",
    "           self.v[0]=-self.v[0]\n",
    "        \n",
    "        ## after you checked for the reflection at all boundaries, set the position of the particle to\n",
    "        ## the corrected particle position as calculated from the reflecting boundary checks\n",
    "            \n",
    "            \n",
    "        return()\n",
    "        \n",
    "    "
   ]
  },
  {
   "cell_type": "code",
   "execution_count": 4,
   "metadata": {
    "deletable": false,
    "nbgrader": {
     "cell_type": "code",
     "checksum": "3aa23f047a8d83a200fb61ae50aa686a",
     "grade": true,
     "grade_id": "cell-fb6341ca2b2dfaf6",
     "locked": false,
     "points": 10,
     "schema_version": 3,
     "solution": true,
     "task": false
    }
   },
   "outputs": [],
   "source": [
    "class Person:\n",
    "    def __init__(self, R, p, v, sbox, sick):        \n",
    "        # add initialisation code here\n",
    "        self.R=R\n",
    "        self.p=p\n",
    "        v_x,v_y=np.random.rand()-0.5,np.random.rand()-0.5\n",
    "        f=np.sqrt(v_x**2+v_y**2)\n",
    "        self.v=[v*v_x/f,v*v_y/f]\n",
    "        self.sbox=sbox\n",
    "        self.infected=sick\n",
    "        self.recovered=False\n",
    "        self.step=0\n",
    "        \n",
    "    def update(self,dt,p):\n",
    "        \n",
    "        for particle in p:\n",
    "            d=np.sum((self.p-particle.p)**2)\n",
    "           \n",
    "            if d<=(self.R+particle.R)**2 and d>0 and particle.infected==True and not self.recovered:\n",
    "                self.infected=True\n",
    "                \n",
    "        if self.infected:\n",
    "            self.step=self.step+1\n",
    "        if self.step==100:\n",
    "            self.infected=False\n",
    "            self.recovered=True\n",
    "                \n",
    "        #print(self.v)\n",
    "        new_x=self.p[0]+self.v[0]*dt\n",
    "        new_y=self.p[1]+self.v[1]*dt\n",
    "        \n",
    "        if new_x>self.sbox[2]:\n",
    "            new_x=self.sbox[2]-(new_x-self.sbox[2])\n",
    "            self.v[0]=-self.v[0]\n",
    "\n",
    "        if new_x<self.sbox[0]:\n",
    "            new_x=self.sbox[0]-(new_x-self.sbox[0])\n",
    "            self.v[0]=-self.v[0]\n",
    "            \n",
    "        if new_y>self.sbox[3]:\n",
    "            new_y=self.sbox[3]-(new_y-self.sbox[3])\n",
    "            self.v[1]=-self.v[1]\n",
    "            \n",
    "        if new_y<self.sbox[1]:\n",
    "            new_y=self.sbox[1]-(new_y-self.sbox[1])\n",
    "            self.v[1]=-self.v[1]\n",
    "        \n",
    "        self.p[0]=new_x\n",
    "        self.p[1]=new_y\n",
    "        \n",
    "        return()\n",
    "        \n",
    "        \n",
    "    "
   ]
  },
  {
   "cell_type": "markdown",
   "metadata": {},
   "source": [
    "## List of particles"
   ]
  },
  {
   "cell_type": "markdown",
   "metadata": {},
   "source": [
    "Test your class and create a list of 50 or 100 particles where you initialize your particle as follows:\n",
    "\n",
    "* The x and y coordinates shall be able to take values between 10 and 390.\n",
    "* Set an initial velocity of 4. \n",
    "* Set the box size to [0,0,400,400]\n",
    "* Let all persons be healthy, just set 1 person to be sick, e.g. the first\n",
    "* Store the persons in the list p\n",
    "\n"
   ]
  },
  {
   "cell_type": "code",
   "execution_count": 22,
   "metadata": {
    "deletable": false,
    "nbgrader": {
     "cell_type": "code",
     "checksum": "1bba03c02327158a495c8d1dbcac3a86",
     "grade": true,
     "grade_id": "cell-ce501ad21c8746e0",
     "locked": false,
     "points": 49,
     "schema_version": 3,
     "solution": true,
     "task": false
    }
   },
   "outputs": [],
   "source": [
    "p=[]\n",
    "for _ in range (100):\n",
    "    position=np.array([np.random.randint(10,390),np.random.randint(10,390)])\n",
    "    box=[0,0,400,400]\n",
    "    p.append(Person(2,position,10.0,box,False))\n",
    "p[0].infected=True"
   ]
  },
  {
   "cell_type": "markdown",
   "metadata": {},
   "source": [
    "## Simulation Canvas"
   ]
  },
  {
   "cell_type": "markdown",
   "metadata": {},
   "source": [
    "Create and display a simulation canvas of a width and height of 400 pixels."
   ]
  },
  {
   "cell_type": "code",
   "execution_count": 23,
   "metadata": {
    "deletable": false,
    "nbgrader": {
     "cell_type": "code",
     "checksum": "41daaa6cfdd2460b7ffea620d228b1d2",
     "grade": true,
     "grade_id": "cell-f2259af454916245",
     "locked": false,
     "points": 0,
     "schema_version": 3,
     "solution": true,
     "task": false
    }
   },
   "outputs": [
    {
     "data": {
      "application/vnd.jupyter.widget-view+json": {
       "model_id": "050d7507b576450993d3555acebe3a18",
       "version_major": 2,
       "version_minor": 0
      },
      "text/plain": [
       "Canvas(height=400, width=400)"
      ]
     },
     "metadata": {},
     "output_type": "display_data"
    }
   ],
   "source": [
    "canvas = Canvas(width=400, height=400)\n",
    "display(canvas)"
   ]
  },
  {
   "cell_type": "markdown",
   "metadata": {},
   "source": [
    "## Run the Simulation"
   ]
  },
  {
   "cell_type": "markdown",
   "metadata": {},
   "source": [
    "Run the simulation with a timestep of dt=1 for 1000 steps. Update the position of each person in a loop and check in the same loop the total number of sick persons. Store the number of sick persons for each timestep in a list `sick`.\n",
    "\n",
    "Draw current state of each step in an animation loop as we did that for the Brownian particles. If a person is sick, draw it in red. If the person is healthy, draw that in blue."
   ]
  },
  {
   "cell_type": "code",
   "execution_count": 24,
   "metadata": {
    "deletable": false,
    "nbgrader": {
     "cell_type": "code",
     "checksum": "e3e753c193fe6d3b925a97f86aea254f",
     "grade": true,
     "grade_id": "cell-8c54a5f876c1b8d7",
     "locked": false,
     "points": 10,
     "schema_version": 3,
     "solution": true,
     "task": false
    }
   },
   "outputs": [],
   "source": [
    "infected=[]\n",
    "recovered=[]\n",
    "\n",
    "for _ in range(1000):\n",
    "    inf=0\n",
    "    rec=0\n",
    "    for particle in p:\n",
    "        particle.update(1,p)\n",
    "        if particle.infected:\n",
    "            inf=inf+1\n",
    "            #print(inf)\n",
    "        if particle.recovered:\n",
    "            rec=rec+1\n",
    "            \n",
    "    infected.append(inf)\n",
    "    recovered.append(rec)  \n",
    "\n",
    "    with hold_canvas(canvas):\n",
    "        canvas.clear() # clear the canvas before drawing\n",
    "        canvas.global_alpha = 0.5 # make the slightly transparent\n",
    "            \n",
    "        for particle in p: \n",
    "            \n",
    "            if particle.infected:\n",
    "                canvas.fill_style = 'red' \n",
    "            elif particle.recovered:\n",
    "                canvas.fill_style = 'green' \n",
    "            else:\n",
    "                canvas.fill_style = 'blue'\n",
    "                \n",
    "            canvas.fill_arc(particle.p[0],particle.p[1],particle.R, 0, 2*np.pi)\n",
    "\n",
    "\n",
    "                # draw a filled circle for each particle\n",
    "                \n",
    "    sleep(0.01) "
   ]
  },
  {
   "cell_type": "markdown",
   "metadata": {},
   "source": [
    "## Analysis"
   ]
  },
  {
   "cell_type": "markdown",
   "metadata": {},
   "source": [
    "Plot the number of sick persons over the timestep. Don't forget the proper axes."
   ]
  },
  {
   "cell_type": "code",
   "execution_count": 25,
   "metadata": {
    "deletable": false,
    "nbgrader": {
     "cell_type": "code",
     "checksum": "811815385a8455fc9979465fac919b3c",
     "grade": true,
     "grade_id": "cell-aff19936e27e7383",
     "locked": false,
     "points": 2,
     "schema_version": 3,
     "solution": true,
     "task": false
    }
   },
   "outputs": [
    {
     "data": {
      "image/png": "[encoded data removed]",
      "text/plain": [
       "<Figure size 720x576 with 1 Axes>"
      ]
     },
     "metadata": {
      "image/png": {
       "height": 499,
       "width": 606
      },
      "needs_background": "light"
     },
     "output_type": "display_data"
    }
   ],
   "source": [
    "plt.figure(figsize=(10,8))\n",
    "plt.plot(range(1000),np.array(infected), label='infected')\n",
    "plt.plot(range(1000),np.array(recovered), label='recovered')\n",
    "plt.plot(range(1000),100-np.array(recovered)-np.array(infected), label='susceptible')\n",
    "plt.xlabel('time')\n",
    "plt.xlabel('fraction[%]')\n",
    "plt.legend()\n",
    "plt.savefig(\"figure.pdf\")\n",
    "plt.show()"
   ]
  },
  {
   "cell_type": "markdown",
   "metadata": {},
   "source": [
    "## Recovery"
   ]
  },
  {
   "cell_type": "markdown",
   "metadata": {},
   "source": [
    "Implement that each person who has been infected recover after 100 timesteps of beeing sick. After they have become healthy, they do not become sick again. Do that implementation in the class. Run the simulation again and plot thge number of sick people again. "
   ]
  },
  {
   "cell_type": "code",
   "execution_count": null,
   "metadata": {
    "deletable": false,
    "nbgrader": {
     "cell_type": "code",
     "checksum": "8fabba699e176d53a3c20b75536a2844",
     "grade": true,
     "grade_id": "cell-084709b807b6d41b",
     "locked": false,
     "points": 10,
     "schema_version": 3,
     "solution": true,
     "task": false
    }
   },
   "outputs": [],
   "source": [
    "# YOUR CODE HERE\n",
    "raise NotImplementedError()"
   ]
  },
  {
   "cell_type": "markdown",
   "metadata": {},
   "source": [
    "## For the Experts"
   ]
  },
  {
   "cell_type": "markdown",
   "metadata": {},
   "source": [
    "For those of you who know a bit of Python already and get easily bored, here is an extra task, which is not graded.\n",
    "\n",
    "\n",
    "Try to implement an additional class, called `Point`, which stores a 2d vector in the properties `self.x`,`self.y`\n",
    ". Note that if you create such a class, you have to implement also the normal operations. \n",
    "\n",
    "\n",
    "| operation | function name |\n",
    "| :---: | :---: |\n",
    "| addition | `__add__` |\n",
    "| subtraction | `__sub__` |\n",
    "| multiplication | `__mul__` |\n",
    "| division | `__truediv__` |\n",
    "\n",
    "\n",
    "Here is an example of how to do that when multiplying the vector with a simple number.\n",
    "\n",
    "~~~\n",
    "    def __mul__(self,_f):\n",
    "        return(Point(self.x*_f,self.y*_f))\n",
    "~~~\n"
   ]
  },
  {
   "cell_type": "code",
   "execution_count": 15,
   "metadata": {
    "deletable": false,
    "nbgrader": {
     "cell_type": "code",
     "checksum": "57dc0978affeba95c78cf26dfbbb5e97",
     "grade": true,
     "grade_id": "cell-ec14b0e85b4a5054",
     "locked": false,
     "points": 0,
     "schema_version": 3,
     "solution": true,
     "task": false
    }
   },
   "outputs": [],
   "source": [
    "class Point:\n",
    "    def __init__(self,x,y):\n",
    "        self.x=x\n",
    "        self.y=y\n",
    "        \n",
    "    def __mul__(self,_f):\n",
    "        return(Point(self.x*_f,self.y*_f))    \n",
    "\n",
    "    def __truediv__(self,_f):\n",
    "        return(Point(self.x / _f,self.y / _f))        \n",
    "    \n",
    "    def __sub__(self,_f):\n",
    "        return(Point(self.x-_f,self.y-_f))    \n",
    "\n",
    "    def __add__(self,_f):\n",
    "        return(Point(self.x+_f,self.y+_f))    \n",
    "\n",
    "    def __repr__(self):\n",
    "        return(\"x:\"+str(self.x)+\", y:\" +str(self.y))"
   ]
  },
  {
   "cell_type": "code",
   "execution_count": 16,
   "metadata": {},
   "outputs": [],
   "source": [
    "point=Point(2,3)"
   ]
  },
  {
   "cell_type": "code",
   "execution_count": 17,
   "metadata": {},
   "outputs": [
    {
     "data": {
      "text/plain": [
       "x:4, y:6"
      ]
     },
     "execution_count": 17,
     "metadata": {},
     "output_type": "execute_result"
    }
   ],
   "source": [
    "point*2"
   ]
  },
  {
   "cell_type": "code",
   "execution_count": null,
   "metadata": {},
   "outputs": [],
   "source": []
  }
 ],
 "metadata": {
  "kernelspec": {
   "display_name": "Python 3 (ipykernel)",
   "language": "python",
   "name": "python3"
  },
  "language_info": {
   "codemirror_mode": {
    "name": "ipython",
    "version": 3
   },
   "file_extension": ".py",
   "mimetype": "text/x-python",
   "name": "python",
   "nbconvert_exporter": "python",
   "pygments_lexer": "ipython3",
   "version": "3.8.12"
  },
  "toc": {
   "base_numbering": 1,
   "nav_menu": {},
   "number_sections": true,
   "sideBar": true,
   "skip_h1_title": false,
   "title_cell": "Table of Contents",
   "title_sidebar": "Contents",
   "toc_cell": false,
   "toc_position": {},
   "toc_section_display": true,
   "toc_window_display": false
  },
  "widgets": {
   "application/vnd.jupyter.widget-state+json": {
    "state": {},
    "version_major": 2,
    "version_minor": 0
   }
  }
 },
 "nbformat": 4,
 "nbformat_minor": 4
}
