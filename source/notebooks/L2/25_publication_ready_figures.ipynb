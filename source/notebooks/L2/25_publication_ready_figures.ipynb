{
 "cells": [
  {
   "cell_type": "markdown",
   "id": "59cc527f-8143-4d92-8336-37aacb800b80",
   "metadata": {},
   "source": [
    "# Making publication ready figures"
   ]
  },
  {
   "cell_type": "markdown",
   "id": "8493c98b-3f23-44b0-960d-4a7871d878e5",
   "metadata": {},
   "source": [
    "In this short text I will try to put some guidelines of how to generate plots with an appropriate size, such that you can use the examples right away in your Jupyter notebook.\n",
    "\n",
    "You would like to assemble your Figures in a manuscript from plots that you generate as PDF files, i.e.they contain vector graphics. This has the advantage that you can scale them to the appropriate size afterwards such to squeeze them in on-column or two-column Figures. While this is tempting, it is carrying the danger that you scale each plot differently and then all plots have different axis label sizes and tick sizes, which finally creates a mess.\n",
    "\n",
    "To prevent that, one could readily start creating the plots in the appropriate size of on-column or two column use with all the same axis and tick label sizes. Here are some hacks, that allow you to create and save production ready plots directly from your Jupyter notebooks."
   ]
  },
  {
   "cell_type": "markdown",
   "id": "9a36efbd-62f3-4fdc-93db-1b650c1b96cd",
   "metadata": {},
   "source": [
    "## Creating a plot with a specific bounding box size\n",
    "\n",
    "If you create a plot in matplotlib you can specify a size with the parameter *figsize*, e.g.\n",
    "\n",
    "```\n",
    "plt.figure(figsize=(3,2))\n",
    "```\n",
    "\n",
    "for a figure of a width of 3 *inches* or 7.62 *cm* and a height of 2 *inches* (5.08 *cm*). If you do not use this parameter or if you even do not use the ```plt.figure()``` command, matplotlib will use the default size, which is often 8 *inches* times 6 *inches*. The default size is way to big as the figure would be then just a whole A4 page wide. A proper size of a plot for a single column in a two column paper would be the above 3 *inches* times 2 *inches* as a the whole paper width is 21 *cm* minus a marging of about 3 *cm* on each side gives a column width of about (21-6)/2=7.5 *cm*.\n",
    "\n",
    "The Plot shown in Figure @fig-1 is created with the following commands\n",
    "\n",
    "```\n",
    "plt.figure(figsize=(3,2), dpi=150)\n",
    "x=np.linspace(0,np.pi*4,200)\n",
    "plt.plot(x,np.sin(x),color='k')\n",
    "plt.xlabel(r\"angle $\\theta$ in [rad]\")\n",
    "plt.ylabel(r\"$\\sin(\\theta)$\")\n",
    "plt.savefig(\"figure_example.pdf\",\n",
    "    bbox_inches = 'tight')\n",
    "plt.show()\n",
    "```\n",
    "\n",
    "The resulting PDF file contains a plot that has a bounding box, that is exactly 3 *inches* times 2 *inches*. So if you insert the plot in any drawing program like Adobe Illustrator, Affinity Designer or even into text processing software like Word or Pages, the bounding box of this plot, will exactly be of this size and you can arrange additional graphs to form a whole figure easily without rescaling thing. \n",
    "If you use the plot in \\LaTeX manuscript, which is two-column it can be used without scaling, i.e. by ```\\includegraphics{Figure 1.pdf}```to show up in the appropriate size over one column.\n",
    "\n",
    "There are a few more things to realize. \n",
    "\n",
    "- While the bounding box of this figure is of this size, the axis box is smaller and often there is a certain empty space on the left/bottom side between the axis labels and the edge of the bounding box. That very much depends on you specific plot. We will address how to create a figure with a fixed axis frame size in the second section.\n",
    "\n",
    "- The font size on the axis is now 10 or 11 *pts*, which matches the font size of most documents you creating using this figure.  I used the following plt.rcParams: 'axes.labelsize': 11, 'xtick.labelsize' : 10, 'ytick.labelsize' : 10 for the shown plot.\n",
    "\n",
    "- You will also realize that working with this figure size is not good in a Jupyter notebook. This has to do with how the Jupyter translates the output into the PNG file that is displayed inline. A way to enlarge the plot in the Jupyter notebook but keep its PDF size is to increase the **dpi** parameter in the ```plt.figure(figsize=(3,2), dpi=150)``` command. It is typically set to dpi=75, which is now way to small. A setting dpi=150 seems a reasonable compromise between on-screen and print size. If you want to be completely independent \n",
    "\n",
    "- The ```plt.savefig```command uses and additional ```bbox_inches = 'tight'```parameter, which ensures that the bounding box is really enclosing all plot components accurately.\n"
   ]
  },
  {
   "cell_type": "code",
   "execution_count": null,
   "id": "a8dd3a39-d4f4-4958-94ea-ee41a6ca5aea",
   "metadata": {
    "tags": []
   },
   "outputs": [],
   "source": [
    "#| label: fig-1\n",
    "#| fig-cap: Real part of the electric field of a plane wave propagating along the z-axis.\n",
    "#| echo: false\n",
    "\n",
    "import matplotlib.pyplot as plt\n",
    "import numpy as np\n",
    "plt.rcParams.update({'font.size': 12,\n",
    "                     'lines.linewidth': 1,\n",
    "                     'lines.markersize': 10,\n",
    "                     'axes.labelsize': 11,\n",
    "                     'xtick.labelsize' : 10,\n",
    "                     'ytick.labelsize' : 10,\n",
    "                     'xtick.top' : True,\n",
    "                     'xtick.direction' : 'in',\n",
    "                     'ytick.right' : True,\n",
    "                     'ytick.direction' : 'in',}) \n",
    "\n",
    "plt.figure(figsize=(3,2), dpi=150)\n",
    "x=np.linspace(0,np.pi*4,200)\n",
    "plt.plot(x,np.sin(x),color='k')\n",
    "plt.xlabel(r\"angle $\\theta$ in [rad]\")\n",
    "plt.ylabel(r\"$\\sin(\\theta)$\")\n",
    "plt.show()\n",
    "#plt.savefig(\"figure_example.pdf\",bbox_inches = 'tight')"
   ]
  },
  {
   "cell_type": "code",
   "execution_count": null,
   "id": "740dbe20-2757-4a74-be48-da0e386210c7",
   "metadata": {},
   "outputs": [],
   "source": []
  }
 ],
 "metadata": {
  "kernelspec": {
   "display_name": "Python 3 (ipykernel)",
   "language": "python",
   "name": "python3"
  },
  "language_info": {
   "codemirror_mode": {
    "name": "ipython",
    "version": 3
   },
   "file_extension": ".py",
   "mimetype": "text/x-python",
   "name": "python",
   "nbconvert_exporter": "python",
   "pygments_lexer": "ipython3",
   "version": "3.8.16"
  },
  "widgets": {
   "application/vnd.jupyter.widget-state+json": {
    "state": {},
    "version_major": 2,
    "version_minor": 0
   }
  }
 },
 "nbformat": 4,
 "nbformat_minor": 5
}
