{
 "cells": [
  {
   "cell_type": "markdown",
   "metadata": {
    "slideshow": {
     "slide_type": "slide"
    }
   },
   "source": [
    "# Quantum Mechanics"
   ]
  },
  {
   "cell_type": "markdown",
   "metadata": {
    "slideshow": {
     "slide_type": "fragment"
    }
   },
   "source": [
    "In the last lecture, we have modeled electromagnetic waves not by solving the wave equation, but by taking the solutions of wave equations like a plane wave or a spherical wave. Today we will solve a wave equation, but not for electromagnetic waves, but for matter waves. We will solve the stationary Schrödinger equation with the implicit solution scheme, which we have already applied for the diffusion equation. With the help of that we will tackle the particle in a box, the harmonic oscillator and the periodic potential. All of these problems have also analytical solutions, thus we do not need the numerical solution in principle. But it will give us some practice on how to tackle such problems. As not all of you might be familiar with the physical description of quantum mechanics, we will give a short introduction into this field first. "
   ]
  },
  {
   "cell_type": "code",
   "execution_count": 4,
   "metadata": {
    "ExecuteTime": {
     "end_time": "2018-07-03T11:07:44.101075Z",
     "start_time": "2018-07-03T11:07:44.085892Z"
    },
    "slideshow": {
     "slide_type": "skip"
    }
   },
   "outputs": [],
   "source": [
    "import numpy as np\n",
    "from scipy.sparse import diags\n",
    "from scipy.sparse.linalg import eigsh\n",
    "import matplotlib.pyplot as plt\n",
    "\n",
    "%matplotlib inline\n",
    "%config InlineBackend.figure_format = 'retina'\n",
    "\n",
    "# default values for plotting\n",
    "plt.rcParams.update({'font.size': 12,\n",
    "                     'axes.titlesize': 18,\n",
    "                     'axes.labelsize': 16,\n",
    "                     'axes.labelpad': 14,\n",
    "                     'lines.linewidth': 1,\n",
    "                     'lines.markersize': 10,\n",
    "                     'xtick.labelsize' : 16,\n",
    "                     'ytick.labelsize' : 16,\n",
    "                     'xtick.top' : True,\n",
    "                     'xtick.direction' : 'in',\n",
    "                     'ytick.right' : True,\n",
    "                     'ytick.direction' : 'in',}) \n"
   ]
  },
  {
   "cell_type": "markdown",
   "metadata": {
    "slideshow": {
     "slide_type": "subslide"
    }
   },
   "source": [
    "## Quantum Mechanics in a Nutshell"
   ]
  },
  {
   "cell_type": "markdown",
   "metadata": {
    "slideshow": {
     "slide_type": "fragment"
    }
   },
   "source": [
    "Quantum Mechanics assumes that all particles propagate as waves. They are described by a wavefunction $\\Psi(x,t)$. A quantum mechanical object thus posseses an amplitude and a phase which propagate in space and time. One could see the wavefunction in analogy to the electric field $\\vec{E}(x)$ of an electromagnetic wave. As the square of the electric field describes the propagation of energy of a wave, the square magnitude of the wavefunction, i.e. $|\\Psi(x,t)|^2$, describes the propagation of probability density of the quantum mechanical wave. The wavefunction itself is thus just the probability amplitude. "
   ]
  },
  {
   "cell_type": "markdown",
   "metadata": {
    "slideshow": {
     "slide_type": "subslide"
    }
   },
   "source": [
    "### Time dependent Schrödinger equation"
   ]
  },
  {
   "cell_type": "markdown",
   "metadata": {
    "slideshow": {
     "slide_type": "fragment"
    }
   },
   "source": [
    "The dynamics of a quantum mechanical wave is described,for example, by the time dependent Schrödinger equation\n",
    "\n",
    "\\begin{equation}\n",
    "-i\\hbar\\frac{\\partial \\Psi(x,t)}{\\partial t} = \\left ( \\frac{-\\hbar^2 }{2m}\\frac{\\partial^2}{\\partial x^2}+V(x,t) \\right ) \\Psi(x,t)\n",
    "\\end{equation}\n",
    "\n",
    "whis is written here for one dimension only."
   ]
  },
  {
   "cell_type": "markdown",
   "metadata": {
    "slideshow": {
     "slide_type": "fragment"
    }
   },
   "source": [
    "The bracket on the right side of the above equation contains the so-called Hamilton operator $\\hat{H}$.\n",
    "The Hamilton operator $\\hat{H}$ contains the energy operators for the kinetic and potential energies and represents the total energy of the system.\n",
    "\n",
    "\\begin{equation}\n",
    "\\hat{H}=\\left ( \\frac{-\\hbar^2 }{2m}\\frac{\\partial^2}{\\partial x^2}+V(x,t) \\right )\n",
    "\\end{equation}"
   ]
  },
  {
   "cell_type": "markdown",
   "metadata": {
    "slideshow": {
     "slide_type": "subslide"
    }
   },
   "source": [
    "### Stationary Schrödinger equation"
   ]
  },
  {
   "cell_type": "markdown",
   "metadata": {
    "slideshow": {
     "slide_type": "fragment"
    }
   },
   "source": [
    "Our first problems will be stationary problems. We will not ask for the temporal development of the quantum object. We will rather ask, what solutions without time dependence are possible. In general this is much like the question asking what kind of standing waves are possible on a string or in an optical resonator. \n",
    "In quantum mechanics the boundaries, which define the standing waves are formed by the potential energy $V(x)$.\n",
    "\n",
    "We therefore also need the stationary Schrödinger equation, where the left side of the time dependent Schrödinger equation does not depend on time, hence is constant in time. This stationary (time-independent) Schrödinger equation is\n",
    "\n",
    "\\begin{equation}\n",
    "\\hat{H}\\Psi(x)=E\\Psi(x)\n",
    "\\end{equation}\n",
    "\n",
    "The Hamilton operator $\\hat{H}$ gives a recipe how to calculate the energies for a given wavefunction $\\Psi(x)$ in terms of derivates or multiplications by functions. If this recipe reduces to a multiplication of the wave function with a number $E$, then these wavefunctions are eigenfunction of the Hamilton operator and the values of $E$ are the eigenvalues of the problem, i.e. the time-independent solutions of this differential equation."
   ]
  },
  {
   "cell_type": "markdown",
   "metadata": {
    "slideshow": {
     "slide_type": "subslide"
    }
   },
   "source": [
    "## Recap: Implicit Solution"
   ]
  },
  {
   "cell_type": "markdown",
   "metadata": {
    "slideshow": {
     "slide_type": "fragment"
    }
   },
   "source": [
    "According to our above description, the Hamilton operator $\\hat{H}$ contains two parts, a second derivative in the position, which represents the kinetic energy and the potential energy operator $V(x)$, which is in the simplest case just a function of $x$.\n",
    "\n",
    "\\begin{equation}\n",
    "\\left ( \\frac{-\\hbar^2 }{2m}\\frac{\\partial^2}{\\partial x^2}+V(x) \\right ) \\Psi(x)=E\\Psi(x)\n",
    "\\end{equation}\n",
    "\n",
    "Since we want to apply our implicit solution scheme (Cranck Nicolson), we want to represent both parts as matrices. "
   ]
  },
  {
   "cell_type": "markdown",
   "metadata": {
    "slideshow": {
     "slide_type": "subslide"
    }
   },
   "source": [
    "### Kinetic energy "
   ]
  },
  {
   "cell_type": "markdown",
   "metadata": {
    "slideshow": {
     "slide_type": "fragment"
    }
   },
   "source": [
    "We remember that we can write the second derivative of our wavefunction $\\Psi(x)$ in the finite difference approximation as\n",
    "\n",
    "\\begin{equation}\n",
    "\\Psi^{''}(x)=\\frac{\\Psi(x+\\delta x)-2\\Psi(x)+\\Psi(x-\\delta x)}{\\delta x^{2}}\n",
    "\\end{equation}\n",
    "\n",
    "If we want to evaluate the wavefunction at certain positions $x_{i}$, then this second derivative translates into \n",
    "\n",
    "$T\\Psi=\\frac{d^2}{dx^2}\\Psi=\\frac{1}{\\delta x^2}\n",
    "\\begin{bmatrix}\n",
    "-2 & 1  & 0 & 0 & 0 & 0\\\\\n",
    " 1 & -2 & 1 & 0 & 0 & 0\\\\\n",
    " 0 & 1  & -2 & 1 & 0 & 0\\\\\n",
    " 0 & 0  & 1  & -2 & 1 & 0\\\\\n",
    " 0 & 0  & 0  &  1 & -2 & 1\\\\\n",
    " 0 & 0  & 0  &  0 &  1 & -2\\\\\n",
    "\\end{bmatrix}\n",
    "\\begin{bmatrix}\n",
    "\\Psi(x_{1})\\\\\n",
    "\\Psi(x_{2})\\\\\n",
    "\\Psi(x_{3})\\\\\n",
    "\\Psi(x_{4})\\\\\n",
    "\\Psi(x_{5})\\\\\n",
    "\\Psi(x_{6})\n",
    "\\end{bmatrix}$\n",
    "\n",
    "if we just use 6 positions. Please remember, that in the version above, we have imposed already boundary conditions in the first and the last row, which are $\\Psi(x_{0})=0$ and $\\Psi(x_{7})=0$. If we multiply this matrix by $-\\hbar^{2}/2m$, we obtain the kinetic energy for an object of mass $m$."
   ]
  },
  {
   "cell_type": "markdown",
   "metadata": {
    "slideshow": {
     "slide_type": "subslide"
    }
   },
   "source": [
    "### Potential energy"
   ]
  },
  {
   "cell_type": "markdown",
   "metadata": {
    "slideshow": {
     "slide_type": "fragment"
    }
   },
   "source": [
    "The potential energy values are just values at the diagonal of the matrix\n",
    "\n",
    "$V\\Psi=\n",
    "\\begin{bmatrix}\n",
    " V(x_{1}) & 0  & 0 & 0 & 0 & 0\\\\\n",
    " 0 & V(x_{2}) & 0 & 0 & 0 & 0\\\\\n",
    " 0 & 0  & V(x_{3}) & 0 & 0 & 0\\\\\n",
    " 0 & 0  & 0  & V(x_{4}) & 0 & 0\\\\\n",
    " 0 & 0  & 0  &  0 & V(x_{5}) & 0\\\\\n",
    " 0 & 0  & 0  &  0 &  0 & V(x_{6})\\\\\n",
    "\\end{bmatrix}\n",
    "\\begin{bmatrix}\n",
    "\\Psi(x_{1})\\\\\n",
    "\\Psi(x_{2})\\\\\n",
    "\\Psi(x_{3})\\\\\n",
    "\\Psi(x_{4})\\\\\n",
    "\\Psi(x_{5})\\\\\n",
    "\\Psi(x_{6})\n",
    "\\end{bmatrix}$\n",
    "\n",
    "an you may insert the specific potential energy values for your particular problem here. "
   ]
  },
  {
   "cell_type": "markdown",
   "metadata": {
    "slideshow": {
     "slide_type": "subslide"
    }
   },
   "source": [
    "Our final problem $\\hat{H}\\Psi=E\\Psi$ will thus have the following shape\n",
    "\n",
    "\\begin{equation}\n",
    "\\begin{bmatrix}\n",
    "-2+V(x_{1}) & 1  & 0 & 0 & 0 & 0\\\\\n",
    "1 & -2+V(x_{2}) & 1 & 0 & 0 & 0\\\\\n",
    "0 & 1 & -2+V(x_{3})  & 1 & 0 & 0 \\\\\n",
    "0 &0 & 1  & -2+V(x_{4})  & 1 & 0 \\\\\n",
    "0 & 0 & 0  & 1  &  -2+V(x_{5}) & 1 \\\\\n",
    "0 & 0 & 0  & 0  &  1 &  -2+V(x_{6}) \\\\\n",
    "\\end{bmatrix}\n",
    "\\begin{bmatrix}\n",
    "\\Psi(x_{1})\\\\\n",
    "\\Psi(x_{2})\\\\\n",
    "\\Psi(x_{3})\\\\\n",
    "\\Psi(x_{4})\\\\\n",
    "\\Psi(x_{5})\\\\\n",
    "\\Psi(x_{6})\n",
    "\\end{bmatrix}=E\n",
    "\\begin{bmatrix}\n",
    "\\Psi(x_{1})\\\\\n",
    "\\Psi(x_{2})\\\\\n",
    "\\Psi(x_{3})\\\\\n",
    "\\Psi(x_{4})\\\\\n",
    "\\Psi(x_{5})\\\\\n",
    "\\Psi(x_{6})\n",
    "\\end{bmatrix}\n",
    "\\end{equation}\n",
    "\n",
    "where I skipped the prefactor $-\\hbar^2/2m$, to fit the matrices on one line. Yet I did not succeed. \n",
    "This is the final system of coupled equations which we can supply to any matrix solver. We will use a solver from the *scipy.linalg* module. In case we have special boundary conditions, we need to take them into account and replace the first and the last line for example with the particular boundary conditions. "
   ]
  },
  {
   "cell_type": "code",
   "execution_count": null,
   "metadata": {},
   "outputs": [],
   "source": []
  }
 ],
 "metadata": {
  "anaconda-cloud": {},
  "celltoolbar": "Slideshow",
  "hide_input": false,
  "kernelspec": {
   "display_name": "Python 3",
   "language": "python",
   "name": "python3"
  },
  "language_info": {
   "codemirror_mode": {
    "name": "ipython",
    "version": 3
   },
   "file_extension": ".py",
   "mimetype": "text/x-python",
   "name": "python",
   "nbconvert_exporter": "python",
   "pygments_lexer": "ipython3",
   "version": "3.7.6"
  },
  "latex_envs": {
   "LaTeX_envs_menu_present": true,
   "autoclose": false,
   "autocomplete": true,
   "bibliofile": "biblio.bib",
   "cite_by": "apalike",
   "current_citInitial": 1,
   "eqLabelWithNumbers": true,
   "eqNumInitial": 1,
   "hotkeys": {
    "equation": "Ctrl-E",
    "itemize": "Ctrl-I"
   },
   "labels_anchors": false,
   "latex_user_defs": false,
   "report_style_numbering": false,
   "user_envs_cfg": false
  },
  "varInspector": {
   "cols": {
    "lenName": 16,
    "lenType": 16,
    "lenVar": 40
   },
   "kernels_config": {
    "python": {
     "delete_cmd_postfix": "",
     "delete_cmd_prefix": "del ",
     "library": "var_list.py",
     "varRefreshCmd": "print(var_dic_list())"
    },
    "r": {
     "delete_cmd_postfix": ") ",
     "delete_cmd_prefix": "rm(",
     "library": "var_list.r",
     "varRefreshCmd": "cat(var_dic_list()) "
    }
   },
   "types_to_exclude": [
    "module",
    "function",
    "builtin_function_or_method",
    "instance",
    "_Feature"
   ],
   "window_display": false
  },
  "widgets": {
   "application/vnd.jupyter.widget-state+json": {
    "state": {},
    "version_major": 2,
    "version_minor": 0
   }
  }
 },
 "nbformat": 4,
 "nbformat_minor": 4
}
