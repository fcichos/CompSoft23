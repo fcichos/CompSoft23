{
 "cells": [
  {
   "cell_type": "markdown",
   "metadata": {
    "slideshow": {
     "slide_type": "slide"
    }
   },
   "source": [
    "# Wavepacket in a Potential Box\n",
    "\n"
   ]
  },
  {
   "cell_type": "markdown",
   "metadata": {
    "slideshow": {
     "slide_type": "fragment"
    }
   },
   "source": [
    "Lets have a look at a wavepacket in a potential box first. In this first part, we will solve the problem with with a set of eigenfunctions of the stationary solution."
   ]
  },
  {
   "cell_type": "code",
   "execution_count": 1,
   "metadata": {
    "slideshow": {
     "slide_type": "skip"
    }
   },
   "outputs": [],
   "source": [
    "import numpy as np\n",
    "import matplotlib.pyplot as plt\n",
    "from scipy.constants import *\n",
    "from scipy.sparse import diags\n",
    "from scipy.sparse.linalg import eigsh\n",
    "from scipy.fftpack import fft,ifft\n",
    "from time import sleep,time\n",
    "\n",
    "from ipycanvas import MultiCanvas, hold_canvas,Canvas\n",
    "\n",
    "\n",
    "%matplotlib inline\n",
    "%config InlineBackend.figure_format = 'retina'\n",
    "\n",
    "# default values for plotting\n",
    "plt.rcParams.update({'font.size': 16,\n",
    "                     'axes.titlesize': 18,\n",
    "                     'axes.labelsize': 16,\n",
    "                     'axes.labelpad': 14,\n",
    "                     'lines.linewidth': 1,\n",
    "                     'lines.markersize': 10,\n",
    "                     'xtick.labelsize' : 16,\n",
    "                     'ytick.labelsize' : 16,\n",
    "                     'xtick.top' : True,\n",
    "                     'xtick.direction' : 'in',\n",
    "                     'ytick.right' : True,\n",
    "                     'ytick.direction' : 'in',}) "
   ]
  },
  {
   "cell_type": "markdown",
   "metadata": {
    "slideshow": {
     "slide_type": "subslide"
    }
   },
   "source": [
    "## Problem Setup"
   ]
  },
  {
   "cell_type": "markdown",
   "metadata": {
    "slideshow": {
     "slide_type": "fragment"
    }
   },
   "source": [
    "The problem we want to tackle is no similar to the last lecture only that we are interested in the dynamics. \n",
    "\n",
    "![Particle_In_Box.png](Particle_In_Box.png)\n",
    "\n",
    "\n",
    "For a potential box with infinite walls and width $d$, the potential energy in the box can be set to zero. "
   ]
  },
  {
   "cell_type": "markdown",
   "metadata": {
    "slideshow": {
     "slide_type": "subslide"
    }
   },
   "source": [
    "The Schrödinger equation within the box therefore reduces to\n",
    "\n",
    "\\begin{equation}\\label{eq:se}\n",
    "-i\\hbar\\frac{\\partial \\Psi}{\\partial t}=-\\frac{\\hbar^2}{2m}\\frac{\\partial^2}{\\partial x^2} \\Psi \n",
    "\\end{equation}\n",
    "\n",
    "The stationary solution of this problem with infinite walls are just standing waves with an appropriate wavevector such that the wavefunction at the boundaries $x=0$ and $x=d$ are just zero.\n",
    "\n",
    "\\begin{equation}\n",
    "\\Psi_{n}(x,t)= \\sqrt{\\frac{2}{d}} \\sin \\left(\\frac{n\\pi}{d}x\\right)\n",
    "\\end{equation}\n",
    "\n",
    "\n"
   ]
  },
  {
   "cell_type": "markdown",
   "metadata": {
    "slideshow": {
     "slide_type": "subslide"
    }
   },
   "source": [
    "It turns out, that we can use these steady state solutions to construct any time dependent solution. We just have to sum many (to be exact infite) steady state solutions with specific amplitudes. \n",
    "\n",
    "\\begin{equation}\\label{eq:psi}\n",
    "\\Psi(x,t)=\\sum_{n=1}^\\infty C_n(t) \\sqrt{\\frac{2}{d}}\\sin\\left(\\frac{n\\pi}{d}x\\right)\n",
    "\\end{equation}\n",
    "\n",
    "The $sine$ function represents the corresponding boundary conditions, i.e. that $\\Psi(x=0)=0$ and $\\Psi(x=d)=0$. The time dependence of the wave function is encoded in the prefactors $C_n(t)$. Inserting  this solution into the Schrödinger equation  yields\n",
    "\n",
    "\\begin{equation}\n",
    "i\\sum_{n=1}^\\infty \\dot{C}_n(t) \\sqrt{\\frac{2}{d}}\\sin\\left(\\frac{n\\pi}{d}x\\right)=\\frac{\\hbar^2}{2m}\\sum_{n=1}^\\infty C_n(t) \\sqrt{\\frac{2}{d}}\\frac{n^2\\pi^2}{d^2}\\sin\\left(\\frac{n\\pi}{d}x\\right)\n",
    "\\end{equation}\n",
    "\n"
   ]
  },
  {
   "cell_type": "markdown",
   "metadata": {
    "slideshow": {
     "slide_type": "subslide"
    }
   },
   "source": [
    "\n",
    "To obtain a differential equation for the coefficient $C_n(t)$ we multiply both sides of the latter equation with $\\sin\\left(\\frac{l\\pi}{d}x\\right)$ and integrate from $0$ to $d$. Doing this on the left side yields\n",
    "\n",
    "\\begin{equation}\n",
    "i\\int_{0}^{d} \\sum_{n=1}^\\infty \\dot{C}_n(t) \\frac{2}{d}\\sin\\left(\\frac{n\\pi}{d}x\\right)\\sin\\left(\\frac{l\\pi}{d}x\\right)dx\n",
    "\\end{equation}\n",
    "\n",
    "An equivalent operation can be carried out on the right side. The orthogonality of the $sine$-function basis yields only terms of the sum for $n=l$ and thus\n",
    "\n",
    "\\begin{equation}\\label{eq:deq}\n",
    "\\dot{C}_n(t)=-i\\frac{\\hbar k^2}{2m}C_n(t)\n",
    "\\end{equation}\n"
   ]
  },
  {
   "cell_type": "markdown",
   "metadata": {
    "slideshow": {
     "slide_type": "subslide"
    }
   },
   "source": [
    "This differential equation can be solved by\n",
    "\n",
    "\\begin{equation}\n",
    "C_n(t)=C_{0n} e^{\\lambda t}\n",
    "\\end{equation}\n",
    "\n",
    "which finally yields \n",
    "\n",
    "\\begin{equation}\n",
    "\\lambda=-i\\frac{\\hbar k^2}{2m}=-i\\omega\n",
    "\\end{equation}\n",
    "\n",
    "with $k^2=\\frac{n^2\\pi^2}{d^2}$. "
   ]
  },
  {
   "cell_type": "markdown",
   "metadata": {
    "slideshow": {
     "slide_type": "subslide"
    }
   },
   "source": [
    "Thus the final solution of the time dependent Schrödinger equation for a wave paket in a box potential reads\n",
    "\n",
    "\\begin{equation}\n",
    "\\Psi(x,t)=\\sum_{n=1}^\\infty C_{0n}\\sqrt{\\frac{2}{d}}  e^{-i\\frac{\\hbar n^2\\pi^2}{2m d^2}t} \\sin\\left(\\frac{n\\pi}{d}x\\right)\n",
    "\\end{equation}\n",
    "\n",
    "The only thing we have to determine then are the coefficients $C_{0n}$, which follow from the initial conditions $\\Psi(x,t=0)=\\Psi(x)$. "
   ]
  },
  {
   "cell_type": "markdown",
   "metadata": {
    "slideshow": {
     "slide_type": "subslide"
    }
   },
   "source": [
    "## Initial conditions\n",
    "\n"
   ]
  },
  {
   "cell_type": "markdown",
   "metadata": {
    "slideshow": {
     "slide_type": "fragment"
    }
   },
   "source": [
    "For this project $\\Psi(x,t=0)$ shall be assumed to be a Gaussian wave packet centered at a specific position in the box. Also other initial conditions such as triangular shaped wavepackets may be considered. For the Gaussian wavepacket, we will use a simpler way, then the superposition. We will just assume a Gaussian envelope of our plane wave, which is actually totally equivalent to our previous superposition. For simplicity assume that the mass of the particle is just 1 as well as $\\hbar=1$. Our Gaussian wavepacket will be centered in the box and we will not supply any momentum in any direction. "
   ]
  },
  {
   "cell_type": "code",
   "execution_count": 2,
   "metadata": {
    "slideshow": {
     "slide_type": "fragment"
    }
   },
   "outputs": [],
   "source": [
    "def gauss_x(x, sigma, x0, k0):\n",
    "    tmp=np.exp(-0.5 * ((x - x0)/ sigma) ** 2 + 1j * x * k0)/(sigma * np.sqrt(np.pi))\n",
    "    norm=np.sum(np.abs(tmp)**2)\n",
    "    return (tmp/np.sqrt(norm))"
   ]
  },
  {
   "cell_type": "markdown",
   "metadata": {
    "slideshow": {
     "slide_type": "fragment"
    }
   },
   "source": [
    "Let's plot this wavefunction."
   ]
  },
  {
   "cell_type": "code",
   "execution_count": 3,
   "metadata": {
    "slideshow": {
     "slide_type": "subslide"
    }
   },
   "outputs": [
    {
     "data": {
      "image/png": "[encoded data removed]",
      "text/plain": [
       "<Figure size 432x288 with 1 Axes>"
      ]
     },
     "metadata": {
      "image/png": {
       "height": 280,
       "width": 433
      },
      "needs_background": "light"
     },
     "output_type": "display_data"
    }
   ],
   "source": [
    "xp=np.linspace(0,np.pi,1000)\n",
    "##plt.plot(xp,np.abs(wave(xp))**2)\n",
    "plt.plot(xp,np.abs(gauss_x(xp,0.1,np.pi/2,0))**2)\n",
    "plt.xlabel('x-position')\n",
    "plt.ylabel('$|\\Psi(x)|^2$')\n",
    "plt.axvline(x=0,ls='--',color='k')\n",
    "plt.axvline(x=np.pi,ls='--',color='k')\n",
    "plt.show()"
   ]
  },
  {
   "cell_type": "markdown",
   "metadata": {
    "slideshow": {
     "slide_type": "subslide"
    }
   },
   "source": [
    "### Eigenfunctions"
   ]
  },
  {
   "cell_type": "markdown",
   "metadata": {
    "slideshow": {
     "slide_type": "fragment"
    }
   },
   "source": [
    "To obtain the initial wavepacket as a representation of eigenfunctions, we just need a function that generates the eigenfunctions of the stationary solution $\\Psi_{n}(x)$."
   ]
  },
  {
   "cell_type": "code",
   "execution_count": 4,
   "metadata": {
    "slideshow": {
     "slide_type": "fragment"
    }
   },
   "outputs": [],
   "source": [
    "def eigen_f(x,n,d):\n",
    "    return(np.sin(n*np.pi*x/d)*np.sqrt(2/d))"
   ]
  },
  {
   "cell_type": "markdown",
   "metadata": {
    "slideshow": {
     "slide_type": "subslide"
    }
   },
   "source": [
    "The initial conditions resemble the coefficients $C_{0n}$, which we obtain by calculating the integral\n",
    "\n",
    "\\begin{equation}\n",
    "C_{0n}=\\int_{0}^{d}\\Psi(x,t=0)\\Psi_{n}(x)dx\n",
    "\\end{equation}\n",
    "\n",
    "For that purpose, we just write a simple function `integrate` that integrates with our box method. `integrate` takes as arguments the function to integrate, the boundaries for the integration as well as additional parameters for the function.\n"
   ]
  },
  {
   "cell_type": "code",
   "execution_count": 5,
   "metadata": {
    "slideshow": {
     "slide_type": "fragment"
    }
   },
   "outputs": [],
   "source": [
    "def integrate(fun,a,b,sigma,x0,k0,*params):\n",
    "    N=10000\n",
    "    x=np.linspace(0,np.pi,N)\n",
    "    fu=fun(x,sigma,x0,k0)*eigen_f(x,*params)\n",
    "    return(np.sum(fu)*np.abs(a-b)/N)"
   ]
  },
  {
   "cell_type": "markdown",
   "metadata": {
    "slideshow": {
     "slide_type": "subslide"
    }
   },
   "source": [
    "With the help of this function, we can calculate an array of initial coefficients $C_{0n}$ for a certain number of of eigenfunctions. "
   ]
  },
  {
   "cell_type": "code",
   "execution_count": 6,
   "metadata": {
    "slideshow": {
     "slide_type": "fragment"
    }
   },
   "outputs": [],
   "source": [
    "def init(x,num):\n",
    "    c0n=np.zeros(num,dtype=complex)\n",
    "    for n in range(len(c0n)):\n",
    "        c0n[n]=integrate(gauss_x,0,np.pi,0.1,np.pi/2,0,n,np.pi)\n",
    "    return(c0n)"
   ]
  },
  {
   "cell_type": "markdown",
   "metadata": {
    "slideshow": {
     "slide_type": "subslide"
    }
   },
   "source": [
    "The values are then calculated by the `init` function and stored in the array `c0n`. Let us try 20 eigenfunctions for the moment."
   ]
  },
  {
   "cell_type": "code",
   "execution_count": 7,
   "metadata": {
    "slideshow": {
     "slide_type": "fragment"
    }
   },
   "outputs": [],
   "source": [
    "xp=np.linspace(0,np.pi,1000)\n",
    "c0n=init(xp,20)"
   ]
  },
  {
   "cell_type": "markdown",
   "metadata": {
    "slideshow": {
     "slide_type": "subslide"
    }
   },
   "source": [
    "### Quality of the coefficients"
   ]
  },
  {
   "cell_type": "markdown",
   "metadata": {
    "slideshow": {
     "slide_type": "fragment"
    }
   },
   "source": [
    "We may have a look at the quality of the approximated initial conditions. Above we used 20 of the eigenfunctions. To calculate the final $\\Psi(x,t)$ we still need a function which does that."
   ]
  },
  {
   "cell_type": "code",
   "execution_count": 8,
   "metadata": {
    "slideshow": {
     "slide_type": "fragment"
    }
   },
   "outputs": [],
   "source": [
    "def w_func(x,d,c0n,t):\n",
    "    psi=0\n",
    "    for n in range(len(c0n)):\n",
    "        psi=psi+c0n[n]*np.exp(-1j*(n**2*np.pi**2)*t/(2*d**2))*eigen_f(x,n,d)\n",
    "    return(psi)   \n",
    " "
   ]
  },
  {
   "cell_type": "markdown",
   "metadata": {
    "slideshow": {
     "slide_type": "fragment"
    }
   },
   "source": [
    "The plot below shows that the 20 eigenfunctions are not really enough. We should use more. Turns out, that 30 gives a better approximation of the initial conditions."
   ]
  },
  {
   "cell_type": "code",
   "execution_count": 9,
   "metadata": {
    "slideshow": {
     "slide_type": "subslide"
    }
   },
   "outputs": [
    {
     "data": {
      "image/png": "[encoded data removed]",
      "text/plain": [
       "<Figure size 432x288 with 1 Axes>"
      ]
     },
     "metadata": {
      "image/png": {
       "height": 280,
       "width": 428
      },
      "needs_background": "light"
     },
     "output_type": "display_data"
    }
   ],
   "source": [
    "wv=w_func(xp,np.pi,c0n,0)\n",
    "plt.plot(xp,10*np.abs(wv)**2)\n",
    "plt.plot(xp,np.abs(gauss_x(xp,0.1,np.pi/2,0))**2,'k--')\n",
    "\n",
    "plt.xlabel('position')\n",
    "plt.ylabel(r'$\\Psi(x)$')\n",
    "plt.show()"
   ]
  },
  {
   "cell_type": "markdown",
   "metadata": {
    "slideshow": {
     "slide_type": "subslide"
    }
   },
   "source": [
    "## Animation"
   ]
  },
  {
   "cell_type": "markdown",
   "metadata": {
    "slideshow": {
     "slide_type": "fragment"
    }
   },
   "source": [
    "Ok, we are only here to make things move. We want to see the animated wavepacket bouncing back from the walls. This is now a piece of cake, as we have used the animation feature already in the section before."
   ]
  },
  {
   "cell_type": "markdown",
   "metadata": {
    "slideshow": {
     "slide_type": "subslide"
    }
   },
   "source": [
    "Just plot the wavefunction without showing it."
   ]
  },
  {
   "cell_type": "code",
   "execution_count": 25,
   "metadata": {
    "slideshow": {
     "slide_type": "fragment"
    }
   },
   "outputs": [],
   "source": [
    "xp=np.linspace(0,np.pi,1000)\n",
    "\n",
    "fig, ax = plt.subplots(1,1,figsize=(10,5))\n",
    "plt.xlim(-0.1,np.pi+0.1)\n",
    "plt.ylim(0,0.02)\n",
    "plt.axvline(x=0,ls='--',color='k')\n",
    "plt.axvline(x=np.pi,ls='--',color='k')\n",
    "plt.xlabel('x-position')\n",
    "plt.ylabel(r'$|\\Psi(x,t)|^2$')\n",
    "plt.tight_layout()  \n",
    "plt.draw()\n",
    "\n",
    "background = fig.canvas.copy_from_bbox(ax.bbox)\n",
    "points=ax.plot(xp,np.abs(w_func(xp,np.pi,c0n,0))**2)[0]\n",
    "plt.close() "
   ]
  },
  {
   "cell_type": "markdown",
   "metadata": {
    "slideshow": {
     "slide_type": "subslide"
    }
   },
   "source": [
    "Then animate everything. The simulation nicely demonstrates that the wavepacket falls apart due to the different time dependence of the prefactors $C_{n}$. Yet, the wave packet is restored after a certain time."
   ]
  },
  {
   "cell_type": "code",
   "execution_count": 26,
   "metadata": {
    "slideshow": {
     "slide_type": "fragment"
    }
   },
   "outputs": [
    {
     "data": {
      "application/vnd.jupyter.widget-view+json": {
       "model_id": "b48d17161fc44fd887d068a7624ec5e3",
       "version_major": 2,
       "version_minor": 0
      },
      "text/plain": [
       "Canvas(height=380, width=800)"
      ]
     },
     "metadata": {},
     "output_type": "display_data"
    }
   ],
   "source": [
    "## setup the canvas\n",
    "canvas = Canvas(width=800, height=380,sync_image_data=False)\n",
    "display(canvas)"
   ]
  },
  {
   "cell_type": "code",
   "execution_count": 27,
   "metadata": {
    "slideshow": {
     "slide_type": "fragment"
    }
   },
   "outputs": [],
   "source": [
    "for t in np.linspace(0,4,1000):\n",
    "    fig.canvas.restore_region(background)\n",
    "    ax.draw_artist(points)\n",
    "    points.set_data(xp,10*np.abs(w_func(xp,np.pi,c0n,t))**2)\n",
    "\n",
    "    fig.canvas.blit(ax.bbox)\n",
    "    X = np.array(fig.canvas.renderer.buffer_rgba())\n",
    "   \n",
    "    with hold_canvas(canvas): \n",
    "        canvas.clear()\n",
    "        canvas.put_image_data(X)\n",
    "        sleep(0.05)"
   ]
  },
  {
   "cell_type": "markdown",
   "metadata": {},
   "source": [
    "![Movie](particle_in_box.mov)"
   ]
  },
  {
   "cell_type": "markdown",
   "metadata": {
    "slideshow": {
     "slide_type": "subslide"
    }
   },
   "source": [
    "## Where to go from here?"
   ]
  },
  {
   "cell_type": "markdown",
   "metadata": {
    "slideshow": {
     "slide_type": "fragment"
    }
   },
   "source": [
    "The calculations above just included a Gaussian wavepacket without momentum in a box. It is not moving in any direction. A task you may want to tackle is the inclusion of a momentum to see how the particle bounces back and forth.  "
   ]
  }
 ],
 "metadata": {
  "celltoolbar": "Slideshow",
  "kernelspec": {
   "display_name": "Python 3",
   "language": "python",
   "name": "python3"
  },
  "language_info": {
   "codemirror_mode": {
    "name": "ipython",
    "version": 3
   },
   "file_extension": ".py",
   "mimetype": "text/x-python",
   "name": "python",
   "nbconvert_exporter": "python",
   "pygments_lexer": "ipython3",
   "version": "3.7.6"
  },
  "widgets": {
   "application/vnd.jupyter.widget-state+json": {
    "state": {},
    "version_major": 2,
    "version_minor": 0
   }
  }
 },
 "nbformat": 4,
 "nbformat_minor": 4
}
